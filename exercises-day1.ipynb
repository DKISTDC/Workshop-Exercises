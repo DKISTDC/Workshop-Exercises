{
 "cells": [
  {
   "cell_type": "markdown",
   "id": "58cac6ea-9959-448d-99cf-982c1f04bc4a",
   "metadata": {
    "editable": true,
    "slideshow": {
     "slide_type": "slide"
    },
    "tags": []
   },
   "source": [
    "# Exercise 1"
   ]
  },
  {
   "cell_type": "markdown",
   "id": "b6ecf3f8-4281-4903-9595-7e165759bbd9",
   "metadata": {
    "editable": true,
    "slideshow": {
     "slide_type": ""
    },
    "tags": []
   },
   "source": [
    "Load the sample VISP dataset. **Without actually slicing the dataset**, figure out how many files are in the following slices:\n",
    "\n",
    "- `ds[0]`\n",
    "- `ds[:, :200]`\n",
    "- `ds[:, :200, :200]`\n",
    "- `ds[:, :, :200, :200]`"
   ]
  },
  {
   "cell_type": "code",
   "execution_count": 1,
   "id": "fd0e4d75-6a71-4a8a-9cdd-69b38f7d0762",
   "metadata": {
    "editable": true,
    "slideshow": {
     "slide_type": "skip"
    },
    "tags": []
   },
   "outputs": [],
   "source": [
    "from dkist import load_dataset\n",
    "from dkist.data.sample import VISP_L1_KMUPT\n",
    "\n",
    "ds = load_dataset(VISP_L1_KMUPT)"
   ]
  },
  {
   "cell_type": "code",
   "execution_count": 2,
   "id": "f5da2fb2-f3e0-4fb9-b41f-45cbd9bb8713",
   "metadata": {
    "editable": true,
    "slideshow": {
     "slide_type": "skip"
    },
    "tags": []
   },
   "outputs": [
    {
     "data": {
      "text/plain": [
       "(4, 425, 980, 2554)"
      ]
     },
     "execution_count": 2,
     "metadata": {},
     "output_type": "execute_result"
    }
   ],
   "source": [
    "ds.shape"
   ]
  },
  {
   "cell_type": "code",
   "execution_count": 3,
   "id": "5a6263a3-fb3f-4dcc-bc3d-b185338a9ea6",
   "metadata": {
    "editable": true,
    "slideshow": {
     "slide_type": "skip"
    },
    "tags": []
   },
   "outputs": [
    {
     "data": {
      "text/plain": [
       "<dkist.io.file_manager.DKISTFileManager object at 0x7fddd5d14640>\n",
       "DKISTFileManager containing 1700 files stored in /home/stuart/.local/share/dkist/VISP_L1_KMUPT.\n",
       "Each file array has shape (1, 980, 2554).        "
      ]
     },
     "execution_count": 3,
     "metadata": {},
     "output_type": "execute_result"
    }
   ],
   "source": [
    "ds.files"
   ]
  },
  {
   "cell_type": "code",
   "execution_count": 4,
   "id": "1bc05e98-70ea-4c43-adfa-67baa521d5b8",
   "metadata": {
    "editable": true,
    "slideshow": {
     "slide_type": "skip"
    },
    "tags": []
   },
   "outputs": [
    {
     "data": {
      "text/plain": [
       "<dkist.io.file_manager.DKISTFileManager object at 0x7fddd5f49c40>\n",
       "DKISTFileManager containing 425 files stored in /home/stuart/.local/share/dkist/VISP_L1_KMUPT.\n",
       "Each file array has shape (1, 980, 2554).        "
      ]
     },
     "execution_count": 4,
     "metadata": {},
     "output_type": "execute_result"
    }
   ],
   "source": [
    "ds[0].files"
   ]
  },
  {
   "cell_type": "code",
   "execution_count": 5,
   "id": "c668c909-8283-4577-b175-3fd786cf5624",
   "metadata": {
    "editable": true,
    "slideshow": {
     "slide_type": "skip"
    },
    "tags": []
   },
   "outputs": [
    {
     "data": {
      "text/plain": [
       "<dkist.io.file_manager.DKISTFileManager object at 0x7fddd6134300>\n",
       "DKISTFileManager containing 800 files stored in /home/stuart/.local/share/dkist/VISP_L1_KMUPT.\n",
       "Each file array has shape (1, 980, 2554).        "
      ]
     },
     "execution_count": 5,
     "metadata": {},
     "output_type": "execute_result"
    }
   ],
   "source": [
    "ds[:, :200].files"
   ]
  },
  {
   "cell_type": "code",
   "execution_count": 6,
   "id": "e1ea968d-edd6-43eb-82be-83d59d0b8e34",
   "metadata": {
    "editable": true,
    "slideshow": {
     "slide_type": "skip"
    },
    "tags": []
   },
   "outputs": [
    {
     "data": {
      "text/plain": [
       "<dkist.io.file_manager.DKISTFileManager object at 0x7fddd6111b80>\n",
       "DKISTFileManager containing 800 files stored in /home/stuart/.local/share/dkist/VISP_L1_KMUPT.\n",
       "Each file array has shape (1, 980, 2554).        "
      ]
     },
     "execution_count": 6,
     "metadata": {},
     "output_type": "execute_result"
    }
   ],
   "source": [
    "ds[:, :200, :200].files"
   ]
  },
  {
   "cell_type": "code",
   "execution_count": 7,
   "id": "1fd62b3a-b046-4475-9f7f-4ce4b9b8735d",
   "metadata": {
    "editable": true,
    "slideshow": {
     "slide_type": "skip"
    },
    "tags": []
   },
   "outputs": [
    {
     "data": {
      "text/plain": [
       "<dkist.io.file_manager.DKISTFileManager object at 0x7fddd59d0a00>\n",
       "DKISTFileManager containing 1700 files stored in /home/stuart/.local/share/dkist/VISP_L1_KMUPT.\n",
       "Each file array has shape (1, 980, 2554).        "
      ]
     },
     "execution_count": 7,
     "metadata": {},
     "output_type": "execute_result"
    }
   ],
   "source": [
    "ds[:, :, :200, :200].files"
   ]
  },
  {
   "cell_type": "markdown",
   "id": "554f2d25-22a6-4953-a853-61a5a7200692",
   "metadata": {
    "editable": true,
    "slideshow": {
     "slide_type": "slide"
    },
    "tags": []
   },
   "source": [
    "# Excercise 2"
   ]
  },
  {
   "cell_type": "markdown",
   "id": "287602b4-4895-40f1-8596-03e2a6074a13",
   "metadata": {},
   "source": [
    "Find the dataset from this year with the highest number of frames.\n",
    "\n",
    "- What is the dataset's Product ID?\n",
    "- How many frames does the dataset have?\n",
    "- Is the dataset embargoed? If yes, when does the embargo period end?"
   ]
  },
  {
   "cell_type": "markdown",
   "id": "22dce003-06a5-4ca1-9897-da59c55db776",
   "metadata": {},
   "source": [
    "**Tips:**\n",
    "\n",
    "- You can pass `a.Provider(\"dkist\")` to `Fido.search()` to search only for data provided by DKIST\n",
    "- You can use `.keys()` or `.colnames` on a `DKISTQueryResponse` object to see all the column names"
   ]
  },
  {
   "cell_type": "code",
   "execution_count": 8,
   "id": "0ec5836e-14de-4ebb-b547-d767a37c864b",
   "metadata": {
    "editable": true,
    "slideshow": {
     "slide_type": "notes"
    },
    "tags": []
   },
   "outputs": [],
   "source": [
    "from sunpy.net import attrs as a, Fido\n",
    "import dkist.net"
   ]
  },
  {
   "cell_type": "code",
   "execution_count": 12,
   "id": "45fbff23-6fe7-4226-8394-269fe72835cd",
   "metadata": {
    "editable": true,
    "scrolled": true,
    "slideshow": {
     "slide_type": "skip"
    },
    "tags": []
   },
   "outputs": [
    {
     "data": {
      "text/html": [
       "Results from 1 Provider:</br></br>259 Results from the DKISTClient:</br><div><i>DKISTQueryResponseTable length=259</i>\n",
       "<table id=\"table140590729424720\" class=\"table-striped table-bordered table-condensed\">\n",
       "<thead><tr><th>Product ID</th><th>Dataset ID</th><th>Start Time</th><th>End Time</th><th>Instrument</th><th>Wavelength</th><th>Bounding Box</th><th>Dataset Size</th><th>Exposure Time</th><th>Primary Experiment ID</th><th>Primary Proposal ID</th><th>Stokes Parameters</th><th>Target Types</th><th>Number of Frames</th><th>Average Fried Parameter</th><th>Average Polarimetric Accuracy</th><th>Embargoed</th><th>Embargo End Date</th><th>Downloadable</th><th>Is Manually Processed</th><th>Has Spectral Axis</th><th>Has Temporal Axis</th><th>Average Spectral Sampling</th><th>Average Spatial Sampling</th><th>Average Temporal Sampling</th><th>Status</th><th>Spectral Lines</th></tr></thead>\n",
       "<thead><tr><th></th><th></th><th></th><th></th><th></th><th>nm</th><th></th><th>Gibyte</th><th>s</th><th></th><th></th><th></th><th></th><th></th><th></th><th></th><th></th><th></th><th></th><th></th><th></th><th></th><th>nm</th><th>arcsec</th><th>s</th><th></th><th></th></tr></thead>\n",
       "<thead><tr><th>str8</th><th>str6</th><th>Time</th><th>Time</th><th>str10</th><th>float64[2]</th><th>str39</th><th>float64</th><th>float64</th><th>str8</th><th>str8</th><th>str4</th><th>str12[1]</th><th>int64</th><th>object</th><th>object</th><th>bool</th><th>object</th><th>bool</th><th>bool</th><th>bool</th><th>bool</th><th>float64</th><th>float64</th><th>float64</th><th>str6</th><th>object</th></tr></thead>\n",
       "<tr><td>L1-JZQQI</td><td>AFWZGG</td><td>2025-03-22T19:19:43.787</td><td>2025-03-22T19:21:07.249</td><td>CRYO-NIRSP</td><td>1077.5276875938443 .. 1081.4360809302982</td><td>(-954.74,490.93),(-1080.58,257.9)</td><td>0.12369811534881592</td><td>725.0</td><td>eid_3_88</td><td>pid_3_88</td><td>I</td><td>activecorona</td><td>84</td><td>nan</td><td>None</td><td>False</td><td>None</td><td>True</td><td>False</td><td>True</td><td>True</td><td>0.004276141505967053</td><td>0.12</td><td>41.731131690478705</td><td>ACTIVE</td><td>[&apos;Fe XIII (1079.8 nm)&apos;, &apos;He I (1083.0 nm)&apos;]</td></tr>\n",
       "<tr><td>L1-SGSXN</td><td>UKCFYO</td><td>2025-03-22T19:21:31.735</td><td>2025-03-22T19:22:55.197</td><td>CRYO-NIRSP</td><td>1072.5480869277164 .. 1076.4889808510122</td><td>(-954.72,490.98),(-1080.6,257.85)</td><td>0.12296855449676514</td><td>725.0</td><td>eid_3_88</td><td>pid_3_88</td><td>I</td><td>activecorona</td><td>84</td><td>nan</td><td>None</td><td>False</td><td>None</td><td>True</td><td>False</td><td>True</td><td>True</td><td>0.004373911124634653</td><td>0.12</td><td>41.73113170237216</td><td>ACTIVE</td><td>[&apos;Fe XIII (1074.7 nm)&apos;]</td></tr>\n",
       "<tr><td>L1-TJKGC</td><td>DBXVEL</td><td>2025-03-22T17:53:38.890</td><td>2025-03-22T17:58:31.826</td><td>CRYO-NIRSP</td><td>1077.5384641128728 .. 1081.4477727477383</td><td>(-906.95,507.83),(-1126.46,240.31)</td><td>0.4776477813720703</td><td>725.0</td><td>eid_3_88</td><td>pid_3_88</td><td>I</td><td>activecorona</td><td>321</td><td>nan</td><td>None</td><td>False</td><td>None</td><td>True</td><td>False</td><td>True</td><td>True</td><td>0.004277142926548664</td><td>0.12</td><td>146.4683298162026</td><td>ACTIVE</td><td>[&apos;Fe XIII (1079.8 nm)&apos;, &apos;He I (1083.0 nm)&apos;]</td></tr>\n",
       "<tr><td>L1-HDVFO</td><td>NLPIBO</td><td>2025-03-22T19:19:43.787</td><td>2025-03-22T19:21:07.249</td><td>CRYO-NIRSP</td><td>1083.0 .. 1083.0</td><td>(-933.07,444.91),(-1112.22,298.78)</td><td>0.2539515495300293</td><td>725.0</td><td>eid_3_88</td><td>pid_3_88</td><td>I</td><td>activecorona</td><td>84</td><td>nan</td><td>None</td><td>False</td><td>None</td><td>True</td><td>False</td><td>False</td><td>True</td><td>nan</td><td>0.05308</td><td>41.731131690478705</td><td>ACTIVE</td><td>[&apos;He I (1083.0 nm)&apos;]</td></tr>\n",
       "<tr><td>L1-RWRPL</td><td>IGRISO</td><td>2025-03-22T19:21:31.735</td><td>2025-03-22T19:22:55.197</td><td>CRYO-NIRSP</td><td>1083.0 .. 1083.0</td><td>(-933.07,444.91),(-1112.22,298.78)</td><td>0.25396227836608887</td><td>725.0</td><td>eid_3_88</td><td>pid_3_88</td><td>I</td><td>activecorona</td><td>84</td><td>nan</td><td>None</td><td>False</td><td>None</td><td>True</td><td>False</td><td>False</td><td>True</td><td>nan</td><td>0.05308</td><td>41.73113170237216</td><td>ACTIVE</td><td>[&apos;He I (1083.0 nm)&apos;]</td></tr>\n",
       "<tr><td>L1-AYZEG</td><td>YTCGFH</td><td>2025-03-22T17:58:58.747</td><td>2025-03-22T18:03:51.684</td><td>CRYO-NIRSP</td><td>1072.549861518578 .. 1076.4902217762783</td><td>(-906.94,507.89),(-1126.47,240.26)</td><td>0.4690486192703247</td><td>725.0</td><td>eid_3_88</td><td>pid_3_88</td><td>I</td><td>activecorona</td><td>321</td><td>nan</td><td>None</td><td>False</td><td>None</td><td>True</td><td>False</td><td>True</td><td>True</td><td>0.004373318820977043</td><td>0.12</td><td>146.46832982243606</td><td>ACTIVE</td><td>[&apos;Fe XIII (1074.7 nm)&apos;]</td></tr>\n",
       "<tr><td>L1-QXQAJ</td><td>HEJDOY</td><td>2025-03-22T20:21:07.015</td><td>2025-03-22T20:22:30.477</td><td>CRYO-NIRSP</td><td>1072.5480864022475 .. 1076.4889810939733</td><td>(-954.73,490.98),(-1080.58,257.84)</td><td>0.12274056673049927</td><td>725.0</td><td>eid_3_88</td><td>pid_3_88</td><td>I</td><td>activecorona</td><td>84</td><td>nan</td><td>None</td><td>False</td><td>None</td><td>True</td><td>False</td><td>True</td><td>True</td><td>0.004373911977498101</td><td>0.12</td><td>41.73113167856457</td><td>ACTIVE</td><td>[&apos;Fe XIII (1074.7 nm)&apos;]</td></tr>\n",
       "<tr><td>L1-MSCGD</td><td>POKNUM</td><td>2025-03-22T17:53:38.890</td><td>2025-03-22T17:58:31.826</td><td>CRYO-NIRSP</td><td>1083.0 .. 1083.0</td><td>(-898.15,464.05),(-1160.33,286.09)</td><td>0.8557963371276855</td><td>725.0</td><td>eid_3_88</td><td>pid_3_88</td><td>I</td><td>activecorona</td><td>321</td><td>nan</td><td>None</td><td>False</td><td>None</td><td>True</td><td>False</td><td>False</td><td>True</td><td>nan</td><td>0.05308</td><td>146.4683298162026</td><td>ACTIVE</td><td>[&apos;He I (1083.0 nm)&apos;]</td></tr>\n",
       "<tr><td>L1-VMVDH</td><td>CSBJML</td><td>2025-03-22T20:21:07.015</td><td>2025-03-22T20:22:30.477</td><td>CRYO-NIRSP</td><td>1083.0 .. 1083.0</td><td>(-933.07,444.91),(-1112.21,298.78)</td><td>0.25386571884155273</td><td>725.0</td><td>eid_3_88</td><td>pid_3_88</td><td>I</td><td>activecorona</td><td>84</td><td>nan</td><td>None</td><td>False</td><td>None</td><td>True</td><td>False</td><td>False</td><td>True</td><td>nan</td><td>0.05308</td><td>41.73113167856457</td><td>ACTIVE</td><td>[&apos;He I (1083.0 nm)&apos;]</td></tr>\n",
       "<tr><td>...</td><td>...</td><td>...</td><td>...</td><td>...</td><td>...</td><td>...</td><td>...</td><td>...</td><td>...</td><td>...</td><td>...</td><td>...</td><td>...</td><td>...</td><td>...</td><td>...</td><td>...</td><td>...</td><td>...</td><td>...</td><td>...</td><td>...</td><td>...</td><td>...</td><td>...</td><td>...</td></tr>\n",
       "<tr><td>L1-UKXEY</td><td>FDTCWI</td><td>2025-08-01T19:58:13.098</td><td>2025-08-01T20:49:11.677</td><td>VISP</td><td>524.4580545436413 .. 525.465921043643</td><td>(0,5.24),(-0.01,-5.55)</td><td>18.001978397369385</td><td>59.98242253521127</td><td>eid_3_60</td><td>pid_3_60</td><td>IQUV</td><td>quietsun</td><td>9600</td><td>0.04523110490932295</td><td>0.8859235256177055</td><td>True</td><td>2026-02-04T11:14:05.232000</td><td>False</td><td>False</td><td>True</td><td>True</td><td>0.0010860630387949</td><td>0.02310152928007235</td><td>1529.352779139995</td><td>ACTIVE</td><td>[&apos;Fe I (525.04 nm)&apos;]</td></tr>\n",
       "<tr><td>L1-EXHZQ</td><td>ROWFLI</td><td>2025-08-01T19:58:13.094</td><td>2025-08-01T20:49:11.673</td><td>VISP</td><td>460.2430430589104 .. 461.0727083667805</td><td>(0,5.27),(-0.01,-5.55)</td><td>17.95161724090576</td><td>51.99954929577465</td><td>eid_3_60</td><td>pid_3_60</td><td>IQUV</td><td>quietsun</td><td>9600</td><td>0.04523110490932295</td><td>0.9166942361004201</td><td>True</td><td>2026-02-04T11:14:05.232000</td><td>False</td><td>False</td><td>True</td><td>True</td><td>0.000915745372925008</td><td>0.0253703136866945</td><td>1529.3527872649995</td><td>ACTIVE</td><td>[&apos;Sr I (460.73 nm)&apos;]</td></tr>\n",
       "<tr><td>L1-KJUAT</td><td>WECDVA</td><td>2025-08-01T18:58:41.758</td><td>2025-08-01T19:45:58.459</td><td>VISP</td><td>460.2430430589104 .. 461.0727083667805</td><td>(-847.06,9.48),(-907.9,-1.08)</td><td>17.829246819019318</td><td>59.98242253521127</td><td>eid_3_60</td><td>pid_3_60</td><td>IQUV</td><td>quietsun</td><td>9600</td><td>0.05577938937540974</td><td>1.0780502717894906</td><td>True</td><td>2026-02-04T11:14:05.232000</td><td>False</td><td>False</td><td>True</td><td>True</td><td>0.000915745372925008</td><td>0.0253703136866945</td><td>1418.2916126720895</td><td>ACTIVE</td><td>[&apos;Sr I (460.73 nm)&apos;]</td></tr>\n",
       "<tr><td>L1-AFJHG</td><td>SPGGNK</td><td>2025-08-01T19:58:13.082</td><td>2025-08-01T20:49:11.661</td><td>VISP</td><td>516.6793386994649 .. 517.630928090423</td><td>(0.01,5.34),(-0,-5.59)</td><td>17.94993817806244</td><td>28.013971830985916</td><td>eid_3_60</td><td>pid_3_60</td><td>IQUV</td><td>quietsun</td><td>9600</td><td>0.04523110490932295</td><td>0.9317140487285814</td><td>True</td><td>2026-02-04T11:14:05.232000</td><td>False</td><td>False</td><td>True</td><td>True</td><td>0.0010434094199102</td><td>0.028559317063786352</td><td>1529.3527939812448</td><td>ACTIVE</td><td>[&apos;Mg I b1 (517.27 nm)&apos;]</td></tr>\n",
       "<tr><td>L1-HELAO</td><td>ZWUWAU</td><td>2025-08-01T18:58:41.748</td><td>2025-08-01T19:45:58.449</td><td>VISP</td><td>516.6793386994649 .. 517.630928090423</td><td>(-841.81,9.5),(-918.78,-1.1)</td><td>17.84079909324646</td><td>40.39481690140845</td><td>eid_3_60</td><td>pid_3_60</td><td>IQUV</td><td>quietsun</td><td>9600</td><td>0.05577938937540974</td><td>1.0916400905098893</td><td>True</td><td>2026-02-04T11:14:05.232000</td><td>False</td><td>False</td><td>True</td><td>True</td><td>0.0010434094199102</td><td>0.028559317063786352</td><td>1418.2918172595826</td><td>ACTIVE</td><td>[&apos;Mg I b1 (517.27 nm)&apos;]</td></tr>\n",
       "<tr><td>L1-JAKOI</td><td>VQMJHK</td><td>2025-08-01T18:58:41.758</td><td>2025-08-01T19:45:58.459</td><td>VISP</td><td>524.4580545436413 .. 525.465921043643</td><td>(-850.58,9.49),(-899.87,-1.09)</td><td>17.916638553142548</td><td>59.98242253521127</td><td>eid_3_60</td><td>pid_3_60</td><td>IQUV</td><td>quietsun</td><td>9600</td><td>0.05577938937540974</td><td>1.0407679199160818</td><td>True</td><td>2026-02-04T11:14:05.232000</td><td>False</td><td>False</td><td>True</td><td>True</td><td>0.0010860630387949</td><td>0.02310152928007235</td><td>1418.291612672506</td><td>ACTIVE</td><td>[&apos;Fe I (525.04 nm)&apos;]</td></tr>\n",
       "<tr><td>L1-EXOAQ</td><td>AVYSGG</td><td>2025-08-11T17:32:20.135</td><td>2025-08-11T18:41:35.163</td><td>VISP</td><td>516.7793451066834 .. 517.7309227874542</td><td>(911.2,50.23),(832.92,-4.18)</td><td>3.77755343914032</td><td>239.92969014084508</td><td>eid_3_47</td><td>pid_3_47</td><td>IQUV</td><td>quietsun</td><td>2000</td><td>0.05723601509479353</td><td>1.2019268125601943</td><td>True</td><td>2025-12-23T00:39:31.618000</td><td>False</td><td>False</td><td>True</td><td>True</td><td>0.0010433965797926</td><td>0.06853160394411399</td><td>2077.514139977998</td><td>ACTIVE</td><td>[&apos;Mg I b1 (517.27 nm)&apos;]</td></tr>\n",
       "<tr><td>L1-AFIOG</td><td>ILADSO</td><td>2025-08-11T17:32:20.135</td><td>2025-08-11T18:41:35.163</td><td>VISP</td><td>853.2593245550534 .. 855.0087169656958</td><td>(891.96,49.41),(841.38,-4.12)</td><td>3.774257004261017</td><td>239.92969014084508</td><td>eid_3_47</td><td>pid_3_47</td><td>IQUV</td><td>quietsun</td><td>2000</td><td>0.05723601509479353</td><td>1.095416550426622</td><td>True</td><td>2025-12-23T00:39:31.618000</td><td>False</td><td>False</td><td>True</td><td>True</td><td>0.0018851211321578</td><td>0.06306544660199785</td><td>2077.5141399819986</td><td>ACTIVE</td><td>[&apos;Ca II (854.21 nm)&apos;]</td></tr>\n",
       "<tr><td>L1-YTATF</td><td>NURDBO</td><td>2025-08-11T17:32:20.335</td><td>2025-08-11T18:41:35.363</td><td>VISP</td><td>392.9969167001119 .. 393.72876734079045</td><td>(900.5,49.69),(838.33,-4.09)</td><td>3.7101763486862183</td><td>639.960338028169</td><td>eid_3_47</td><td>pid_3_47</td><td>IQUV</td><td>quietsun</td><td>2000</td><td>0.05723601509479353</td><td>1.2016746154558573</td><td>True</td><td>2025-12-23T00:39:31.618000</td><td>False</td><td>False</td><td>True</td><td>True</td><td>0.000807782164104351</td><td>0.065234580727726</td><td>2077.5141559799977</td><td>ACTIVE</td><td>[&apos;Ca II K (393.37 nm)&apos;]</td></tr>\n",
       "</table></div></br>"
      ],
      "text/plain": [
       "<sunpy.net.fido_factory.UnifiedResponse object at 0x7fddd47b7ed0>\n",
       "Results from 1 Provider:\n",
       "\n",
       "259 Results from the DKISTClient:\n",
       "\n",
       "Product ID Dataset ID        Start Time               End Time        Instrument                Wavelength               \n",
       "                                                                                                    nm                   \n",
       "---------- ---------- ----------------------- ----------------------- ---------- ----------------------------------------\n",
       "  L1-JZQQI     AFWZGG 2025-03-22T19:19:43.787 2025-03-22T19:21:07.249 CRYO-NIRSP 1077.5276875938443 .. 1081.4360809302982\n",
       "  L1-SGSXN     UKCFYO 2025-03-22T19:21:31.735 2025-03-22T19:22:55.197 CRYO-NIRSP 1072.5480869277164 .. 1076.4889808510122\n",
       "  L1-TJKGC     DBXVEL 2025-03-22T17:53:38.890 2025-03-22T17:58:31.826 CRYO-NIRSP 1077.5384641128728 .. 1081.4477727477383\n",
       "  L1-HDVFO     NLPIBO 2025-03-22T19:19:43.787 2025-03-22T19:21:07.249 CRYO-NIRSP                         1083.0 .. 1083.0\n",
       "  L1-RWRPL     IGRISO 2025-03-22T19:21:31.735 2025-03-22T19:22:55.197 CRYO-NIRSP                         1083.0 .. 1083.0\n",
       "  L1-AYZEG     YTCGFH 2025-03-22T17:58:58.747 2025-03-22T18:03:51.684 CRYO-NIRSP  1072.549861518578 .. 1076.4902217762783\n",
       "  L1-QXQAJ     HEJDOY 2025-03-22T20:21:07.015 2025-03-22T20:22:30.477 CRYO-NIRSP 1072.5480864022475 .. 1076.4889810939733\n",
       "  L1-MSCGD     POKNUM 2025-03-22T17:53:38.890 2025-03-22T17:58:31.826 CRYO-NIRSP                         1083.0 .. 1083.0\n",
       "  L1-VMVDH     CSBJML 2025-03-22T20:21:07.015 2025-03-22T20:22:30.477 CRYO-NIRSP                         1083.0 .. 1083.0\n",
       "  L1-GFGHR     XUFUZY 2025-03-22T20:22:54.929 2025-03-22T20:24:18.391 CRYO-NIRSP                         1083.0 .. 1083.0\n",
       "  L1-BLBFX     JARGIO 2025-03-22T20:22:54.929 2025-03-22T20:24:18.391 CRYO-NIRSP 1077.5276876201015 .. 1081.4360810460116\n",
       "  L1-DNDRE     RVOKLI 2025-03-22T20:52:53.698 2025-03-22T20:54:17.160 CRYO-NIRSP    1077.53846443595 .. 1081.447771530299\n",
       "  L1-NRSKB     MNBVDS 2025-03-22T17:58:58.747 2025-03-22T18:03:51.684 CRYO-NIRSP                         1083.0 .. 1083.0\n",
       "  L1-YKYIF     FCDJWI 2025-03-22T20:54:41.630 2025-03-22T20:56:05.092 CRYO-NIRSP  1072.5498614839255 .. 1076.490221879936\n",
       "  L1-PHPMU     LHKKPP 2025-03-22T20:52:53.698 2025-03-22T20:54:17.160 CRYO-NIRSP                         1083.0 .. 1083.0\n",
       "  L1-IAITS     QZGWJQ 2025-03-22T21:28:18.060 2025-03-22T21:31:50.506 CRYO-NIRSP 1077.5276888230437 .. 1081.4360804319301\n",
       "  L1-MSMRD     SRPYNK 2025-03-22T20:54:41.630 2025-03-22T20:56:05.092 CRYO-NIRSP                         1083.0 .. 1083.0\n",
       "  L1-NRNTB     VDQXHK 2025-03-22T21:28:18.060 2025-03-22T21:31:50.506 CRYO-NIRSP                         1083.0 .. 1083.0\n",
       "  L1-XPXBZ     DBZHEL 2025-03-22T22:29:56.510 2025-03-22T22:33:28.956 CRYO-NIRSP 1077.5276887771645 .. 1081.4360802170052\n",
       "  L1-RVPUL     YTMRFH 2025-03-22T22:35:14.465 2025-03-22T22:40:07.401 CRYO-NIRSP 1077.5424518688508 .. 1081.4512398387374\n",
       "  L1-HDHWO     POTBUM 2025-03-22T22:29:56.510 2025-03-22T22:33:28.956 CRYO-NIRSP                         1083.0 .. 1083.0\n",
       "  L1-WMHCV     EXAMQL 2025-03-22T22:40:34.308 2025-03-22T22:45:27.244 CRYO-NIRSP 1072.5427315741863 .. 1075.2896734649605\n",
       "  L1-MNELD     UKMWYO 2025-03-23T18:28:57.112 2025-03-23T18:33:50.048 CRYO-NIRSP  1077.5334752465499 .. 1081.442640535643\n",
       "  L1-JZJJI     MNXHDS 2025-03-22T22:35:14.465 2025-03-22T22:40:07.401 CRYO-NIRSP                         1083.0 .. 1083.0\n",
       "  L1-FCVKW     TINHCV 2025-03-22T22:40:34.308 2025-03-22T22:45:27.244 CRYO-NIRSP                         1083.0 .. 1083.0\n",
       "  L1-HEKVO     JALRIO 2025-03-23T19:55:40.680 2025-03-23T19:57:04.142 CRYO-NIRSP 1077.5241991656242 .. 1081.4321805252202\n",
       "  L1-KJCVT     XUWYZY 2025-03-23T19:55:40.680 2025-03-23T19:57:04.142 CRYO-NIRSP                         1083.0 .. 1083.0\n",
       "  L1-POYDU     IGPNSO 2025-03-23T18:28:57.112 2025-03-23T18:33:50.048 CRYO-NIRSP                         1083.0 .. 1083.0\n",
       "  L1-EBEFQ     ZYWTAU 2025-03-22T20:56:32.550 2025-03-22T21:18:37.762 CRYO-NIRSP 1072.5498620513936 .. 1076.4902216119394\n",
       "  L1-LHYYP     RVKTLI 2025-03-23T19:57:28.628 2025-03-23T19:58:52.090 CRYO-NIRSP 1072.5444493995174 .. 1076.4859809021843\n",
       "  L1-JANSI     LHTTPP 2025-03-23T19:57:28.628 2025-03-23T19:58:52.090 CRYO-NIRSP                         1083.0 .. 1083.0\n",
       "  L1-TIMLC     OQSMKH 2025-03-23T18:34:16.972 2025-03-23T18:39:09.908 CRYO-NIRSP                         1083.0 .. 1083.0\n",
       "  L1-EXJWQ     KJNETD 2025-03-23T18:34:16.972 2025-03-23T18:39:09.908 CRYO-NIRSP  1072.526286288652 .. 1076.4644591389585\n",
       "  L1-ZYRFA     ZYVCAU 2025-03-23T20:57:03.894 2025-03-23T20:58:27.356 CRYO-NIRSP  1072.544447739151 .. 1076.4859816937853\n",
       "  L1-WMOMV     WMQNVA 2025-03-23T20:57:03.894 2025-03-23T20:58:27.356 CRYO-NIRSP                         1083.0 .. 1083.0\n",
       "  L1-QZSRJ     QZRVJQ 2025-03-23T20:58:51.807 2025-03-23T21:00:15.269 CRYO-NIRSP 1077.5241991304677 .. 1081.4321806294515\n",
       "  L1-POFEU     BPFDXN 2025-03-23T21:31:20.109 2025-03-23T21:32:43.571 CRYO-NIRSP   1077.531695251978 .. 1081.440640946321\n",
       "  L1-VDKQH     VDJZHK 2025-03-23T20:58:51.807 2025-03-23T21:00:15.269 CRYO-NIRSP                         1083.0 .. 1083.0\n",
       "  L1-TJTRC     WMESVA 2025-03-22T20:56:32.550 2025-03-22T21:18:37.762 CRYO-NIRSP                         1083.0 .. 1083.0\n",
       "  L1-YTVNF     DBAOEL 2025-03-23T21:33:08.066 2025-03-23T21:34:31.528 CRYO-NIRSP 1072.5288719687828 .. 1075.2894429076914\n",
       "  L1-GWPKR     GWOJRP 2025-03-23T21:31:20.109 2025-03-23T21:32:43.571 CRYO-NIRSP                         1083.0 .. 1083.0\n",
       "  L1-MNQPD     POCXUM 2025-03-23T21:33:08.066 2025-03-23T21:34:31.528 CRYO-NIRSP                         1083.0 .. 1083.0\n",
       "  L1-ZUZUA     KJSDTD 2025-03-22T19:23:16.874 2025-03-22T20:20:46.921 CRYO-NIRSP  1072.548086471028 .. 1076.4889810554344\n",
       "  L1-KJMHT     EXGDQL 2025-03-23T22:14:18.728 2025-03-23T22:19:11.664 CRYO-NIRSP 1077.5232943491742 .. 1081.3769714888465\n",
       "  L1-KQOFT     EXZCQL 2025-03-22T18:04:24.714 2025-03-22T19:06:19.382 CRYO-NIRSP 1072.5498619797888 .. 1076.4902215793743\n",
       "  L1-UKWGY     TIBOCV 2025-03-23T22:14:18.728 2025-03-23T22:19:11.664 CRYO-NIRSP                         1083.0 .. 1083.0\n",
       "  L1-XURAZ     AFORGG 2025-03-23T22:19:38.590 2025-03-23T22:24:31.526 CRYO-NIRSP 1072.5378820600226 .. 1076.4762780799874\n",
       "  L1-VDTJH     KJBQTD 2025-03-23T23:30:40.883 2025-03-23T23:35:33.819 CRYO-NIRSP  1077.5370588143405 .. 1081.445558128196\n",
       "  L1-HETHO     NLYNBO 2025-03-23T22:19:38.590 2025-03-23T22:24:31.526 CRYO-NIRSP                         1083.0 .. 1083.0\n",
       "  L1-KQKWT     BPYMXN 2025-03-22T21:32:14.967 2025-03-22T22:29:32.012 CRYO-NIRSP 1072.5480839433055 .. 1076.4889806568704\n",
       "  L1-BPGHX     HESQOY 2025-03-23T23:36:00.749 2025-03-23T23:40:53.685 CRYO-NIRSP  1072.537087198626 .. 1076.4802641650074\n",
       "  L1-GWUTR     CSZSML 2025-03-23T23:36:00.749 2025-03-23T23:40:53.685 CRYO-NIRSP                         1083.0 .. 1083.0\n",
       "  L1-AFLIG     YTDLFH 2025-03-23T21:34:58.837 2025-03-23T21:57:04.049 CRYO-NIRSP 1072.5288719504408 .. 1075.2894429158553\n",
       "  L1-YTHBF     JAPLIO 2025-03-23T23:41:26.439 2025-03-24T00:12:17.295 CRYO-NIRSP  1072.537086851923 .. 1076.4802641374895\n",
       "  L1-EXIVQ     MNZODS 2025-03-23T21:34:58.837 2025-03-23T21:57:04.049 CRYO-NIRSP                         1083.0 .. 1083.0\n",
       "  L1-OEOYK     GWHQRP 2025-03-22T21:32:14.967 2025-03-22T22:29:32.012 CRYO-NIRSP                         1083.0 .. 1083.0\n",
       "  L1-DBIUE     XUVFZY 2025-03-23T23:41:26.439 2025-03-24T00:13:52.614 CRYO-NIRSP                         1083.0 .. 1083.0\n",
       "  L1-GWLOR     AFVAGG 2025-03-22T22:45:59.684 2025-03-22T23:47:54.352 CRYO-NIRSP 1072.5427370737027 .. 1075.2896764202933\n",
       "  L1-AFRJG     CSXIML 2025-03-23T18:39:42.533 2025-03-23T19:41:37.201 CRYO-NIRSP                         1083.0 .. 1083.0\n",
       "  L1-UKFAY     HEIEOY 2025-03-23T18:39:42.533 2025-03-23T19:41:37.201 CRYO-NIRSP 1072.5262876555166 .. 1076.4644585416142\n",
       "  L1-WMKDV     OQNDKH 2025-03-23T23:30:40.883 2025-03-23T23:35:33.819 CRYO-NIRSP                         1083.0 .. 1083.0\n",
       "  L1-FCHTW     FCEIWI 2025-03-23T19:59:13.759 2025-03-23T20:56:43.806 CRYO-NIRSP   1072.544450784819 .. 1076.485980306965\n",
       "  L1-VDOEH     NLUSBO 2025-03-22T22:45:59.684 2025-03-22T23:47:54.352 CRYO-NIRSP                         1083.0 .. 1083.0\n",
       "  L1-WCWTV     OQICKH 2025-03-22T19:23:16.874 2025-03-22T20:20:46.921 CRYO-NIRSP                         1083.0 .. 1083.0\n",
       "  L1-UOPXY     TISVCV 2025-03-22T18:04:24.714 2025-03-22T19:06:19.382 CRYO-NIRSP                         1083.0 .. 1083.0\n",
       "  L1-SRZGN     UKDVYO 2025-03-23T22:25:03.863 2025-03-23T23:26:58.531 CRYO-NIRSP  1072.5378818921495 .. 1076.476278236552\n",
       "  L1-SRXAN     SRUFNK 2025-03-23T19:59:13.759 2025-03-23T20:56:43.806 CRYO-NIRSP                         1083.0 .. 1083.0\n",
       "  L1-LHFFP     IGUBSO 2025-03-23T22:25:03.863 2025-03-23T23:26:58.531 CRYO-NIRSP                         1083.0 .. 1083.0\n",
       "  L1-NLGEB     TIXKCV 2025-03-25T23:50:43.106 2025-03-26T00:13:03.125 CRYO-NIRSP                         1083.0 .. 1083.0\n",
       "  L1-JAXBI     ZYHMAU 2025-03-24T22:06:30.195 2025-03-24T23:13:45.061 CRYO-NIRSP  1072.527053089723 .. 1076.4639749713363\n",
       "  L1-KJDOT     FCQSWI 2025-03-24T20:36:57.321 2025-03-24T21:57:11.470 CRYO-NIRSP 1072.5276436764502 .. 1076.4600778911279\n",
       "  L1-EXSHQ     LHCCPP 2025-03-24T19:07:55.922 2025-03-24T20:27:59.107 CRYO-NIRSP                         1083.0 .. 1083.0\n",
       "  L1-GWYCR     POMZUM 2025-03-25T20:49:20.882 2025-03-25T22:09:35.031 CRYO-NIRSP                         1083.0 .. 1083.0\n",
       "  L1-AFPSG     RVTCLI 2025-03-24T19:07:55.922 2025-03-24T20:27:59.107 CRYO-NIRSP 1072.5270303941481 .. 1076.4683874088682\n",
       "  L1-TIQYC     YTEPFH 2025-03-25T22:42:57.374 2025-03-25T23:50:12.240 CRYO-NIRSP  1072.5377177285357 .. 1076.474536979368\n",
       "  L1-VDCIH     BPWEXN 2025-03-25T19:24:34.338 2025-03-25T20:44:37.523 CRYO-NIRSP 1072.5253504108362 .. 1076.5220256400394\n",
       "  L1-WMTEV     GWKIRP 2025-03-25T19:24:34.338 2025-03-25T20:44:37.523 CRYO-NIRSP                         1083.0 .. 1083.0\n",
       "  L1-POVJU     DBGKEL 2025-03-25T20:49:20.882 2025-03-25T22:09:35.031 CRYO-NIRSP   1072.52475832127 .. 1076.5175369631036\n",
       "  L1-UKVRY     SRYWNK 2025-03-24T20:36:57.321 2025-03-24T21:57:11.470 CRYO-NIRSP                         1083.0 .. 1083.0\n",
       "  L1-HEMKO     WMJBVA 2025-03-24T22:06:30.195 2025-03-24T23:13:45.061 CRYO-NIRSP                         1083.0 .. 1083.0\n",
       "  L1-UKHLY     AFKLGG 2025-03-26T20:03:05.290 2025-03-26T20:09:10.912 CRYO-NIRSP                         1083.0 .. 1083.0\n",
       "  L1-KJEKT     IGYXSO 2025-03-26T20:03:05.290 2025-03-26T20:09:10.912 CRYO-NIRSP   1072.5247069515556 .. 1076.46758694297\n",
       "  L1-MNIYD     MNAKDS 2025-03-25T22:42:57.374 2025-03-25T23:50:12.240 CRYO-NIRSP                         1083.0 .. 1083.0\n",
       "  L1-WMCQV     FCJNWI 2025-03-26T22:24:33.126 2025-03-26T22:46:08.725 CRYO-NIRSP 1077.5272693574657 .. 1081.4357303444872\n",
       "  L1-RVWVL     RVCMLI 2025-03-26T22:02:26.753 2025-03-26T22:24:02.352 CRYO-NIRSP   1072.52729620393 .. 1076.4659095663837\n",
       "  L1-AFUNG     JAUPIO 2025-03-25T23:50:43.106 2025-03-26T00:13:03.125 CRYO-NIRSP  1077.519688845687 .. 1081.4286488305165\n",
       "  L1-JAZXI     LHMMPP 2025-03-26T22:02:26.753 2025-03-26T22:24:02.352 CRYO-NIRSP                         1083.0 .. 1083.0\n",
       "  L1-FCTDW     SRFVNK 2025-03-26T22:24:33.126 2025-03-26T22:46:08.725 CRYO-NIRSP                         1083.0 .. 1083.0\n",
       "  L1-POOSU     RVMDLI 2025-03-27T22:03:42.200 2025-03-27T22:12:41.217       VISP   853.5737470153199 .. 854.7195766245643\n",
       "  L1-GWWDR     JAYUIO 2025-03-27T22:03:42.248 2025-03-27T22:12:41.265       VISP   589.1835216666277 .. 589.9380234970257\n",
       "  L1-BPPTX     LHDDPP 2025-03-27T22:03:42.232 2025-03-27T22:12:41.249       VISP   629.7062939158873 .. 630.6274168904545\n",
       "  L1-SRRPN     UKQOYO 2025-03-27T20:50:14.865 2025-03-27T21:18:49.919       VISP   589.1835216666277 .. 589.9380234970257\n",
       "  L1-WMMJV     KJZITD 2025-03-27T20:50:14.817 2025-03-27T21:18:49.871       VISP   853.5737470153199 .. 854.7195766245643\n",
       "  L1-JAAZI     NLVZBO 2025-03-27T19:28:01.832 2025-03-27T19:56:36.886       VISP   589.1835216666277 .. 589.9380234970257\n",
       "  L1-KJJCT     TIZTCV 2025-03-27T18:49:32.626 2025-03-27T19:18:07.679       VISP   629.7062939158873 .. 630.6274168904545\n",
       "  L1-HEECO     EXPJQL 2025-03-27T18:49:32.594 2025-03-27T19:18:07.647       VISP   853.5737470153199 .. 854.7195766245643\n",
       "  L1-IGAQS     YTQUFH 2025-03-27T18:49:32.642 2025-03-27T19:18:07.695       VISP   589.1835216666277 .. 589.9380234970257\n",
       "  L1-RVVHL     IGFZSO 2025-03-27T19:28:01.784 2025-03-27T19:56:36.838       VISP   853.5737470153199 .. 854.7195766245643\n",
       "  L1-FCCEW     OQXQKH 2025-03-27T20:50:14.849 2025-03-27T21:18:49.903       VISP   629.7062939158873 .. 630.6274168904545\n",
       "  L1-DBBWE     SRWHNK 2025-03-27T22:18:45.330 2025-03-27T22:47:20.384       VISP   589.1835216666277 .. 589.9380234970257\n",
       "  L1-QZZYJ     XUOVZY 2025-03-27T21:27:27.091 2025-03-27T21:56:02.145       VISP   853.5737470153199 .. 854.7195766245643\n",
       "  L1-VDDNH     HEBIOY 2025-03-27T21:27:27.123 2025-03-27T21:56:02.177       VISP   629.7062939158873 .. 630.6274168904545\n",
       "  L1-LHHHP     AFTPGG 2025-03-27T19:28:01.816 2025-03-27T19:56:36.870       VISP   629.7062939158873 .. 630.6274168904545\n",
       "  L1-MNNWD     FCIBWI 2025-03-27T22:18:45.314 2025-03-27T22:47:20.368       VISP   629.7062939158873 .. 630.6274168904545\n",
       "  L1-YTTAF     WMSZVA 2025-03-27T22:18:45.282 2025-03-27T22:47:20.336       VISP   853.5737470153199 .. 854.7195766245643\n",
       "  L1-ZYYOA     CSGBML 2025-03-27T21:27:27.139 2025-03-27T21:56:02.193       VISP   589.1835216666277 .. 589.9380234970257\n",
       "  L1-RVHOL     TIGMCV 2025-03-28T21:52:07.920 2025-03-28T22:08:47.382 CRYO-NIRSP 1077.5206915896918 .. 1081.4288968324902\n",
       "  L1-FCMQW     NLHABO 2025-03-28T23:04:50.709 2025-03-28T23:21:30.171 CRYO-NIRSP  1077.520691613064 .. 1081.4288968473863\n",
       "  L1-CSNQM     DBLCEL 2025-03-28T20:21:54.875 2025-03-28T20:38:34.337 CRYO-NIRSP                         1083.0 .. 1083.0\n",
       "  L1-XUYPZ     MNRCDS 2025-03-28T20:21:54.875 2025-03-28T20:38:34.337 CRYO-NIRSP 1077.5206916003751 .. 1081.4288968160647\n",
       "  L1-SRLUN     EXUIQL 2025-03-28T23:04:50.709 2025-03-28T23:21:30.171 CRYO-NIRSP                         1083.0 .. 1083.0\n",
       "  L1-LHOOP     YTJYFH 2025-03-28T21:52:07.920 2025-03-28T22:08:47.382 CRYO-NIRSP                         1083.0 .. 1083.0\n",
       "  L1-KJIMT     POEGUM 2025-03-28T23:22:56.728 2025-03-28T23:56:26.757 CRYO-NIRSP  1072.5339572881232 .. 1076.476741907372\n",
       "  L1-UKKUY     GWCNRP 2025-03-28T22:12:05.867 2025-03-28T23:02:26.464 CRYO-NIRSP  1072.533957250129 .. 1076.4767419314906\n",
       "  L1-OQJTK     BPHJXN 2025-03-28T23:22:56.728 2025-03-29T00:10:19.642 CRYO-NIRSP                         1083.0 .. 1083.0\n",
       "  L1-IGGJS     QZUKJQ 2025-03-28T22:12:05.867 2025-03-28T23:02:59.779 CRYO-NIRSP                         1083.0 .. 1083.0\n",
       "  L1-NLLJB     VDNRHK 2025-03-28T18:38:32.471 2025-03-28T20:19:24.770 CRYO-NIRSP 1072.5339570895164 .. 1076.4767417893474\n",
       "  L1-TIIWC     ZYKEAU 2025-03-28T18:38:32.471 2025-03-28T20:19:24.770 CRYO-NIRSP                         1083.0 .. 1083.0\n",
       "  L1-VDEBH     XUKHZY 2025-04-09T18:23:26.622 2025-04-09T19:02:31.949       VISP   589.1224344213638 .. 589.9952596873283\n",
       "  L1-GWVER     JAFYIO 2025-04-09T18:23:26.590 2025-04-09T19:02:31.917       VISP   629.6274578412351 .. 630.6669832838022\n",
       "  L1-WMDIV     HEXSOY 2025-04-09T18:23:26.682 2025-04-09T19:02:32.009       VISP   516.7098278101714 .. 517.8063677388728\n",
       "  L1-DBXVE     RVDELI 2025-04-15T19:00:16.738 2025-04-15T19:05:09.674 CRYO-NIRSP 1077.5363997063698 .. 1081.4449000518293\n",
       "  L1-UKCFY     VDBLHK 2025-04-15T22:01:57.026 2025-04-15T22:06:49.962 CRYO-NIRSP  1077.536399730345 .. 1081.4449001051457\n",
       "  L1-TISVC     FCSXWI 2025-04-15T19:05:36.591 2025-04-15T19:10:29.527 CRYO-NIRSP 1072.5316374630102 .. 1076.4745860088203\n",
       "  L1-OQICK     QZYTJQ 2025-04-15T22:07:16.900 2025-04-15T22:12:09.836 CRYO-NIRSP 1072.5316372155548 .. 1076.4745861492124\n",
       "  L1-KJSDT     GWMBRP 2025-04-15T22:12:42.213 2025-04-15T22:43:33.069 CRYO-NIRSP  1072.531637295499 .. 1076.4745861438173\n",
       "  L1-AFWZG     ZYTQAU 2025-04-15T19:11:02.378 2025-04-15T20:12:57.046 CRYO-NIRSP  1072.5316376389753 .. 1076.474585989246\n",
       "  L1-XUFUZ     DBPMEL 2025-05-21T19:32:29.152 2025-05-21T20:26:13.768       VISP   629.6067648891277 .. 630.6840063529559\n",
       "  L1-LHKKP     MNLMDS 2025-05-21T19:32:29.222 2025-05-21T20:26:13.838       VISP   853.5883515394114 .. 854.7072402859393\n",
       "  L1-CSBJM     POQRUM 2025-05-21T19:32:29.222 2025-05-21T20:26:13.838       VISP   516.7013881937395 .. 517.8141360819353\n",
       "  L1-VDQXH     EXYSQL 2025-05-22T18:19:52.545 2025-05-22T19:38:28.690       VISP   853.5884599698111 .. 854.7073698847661\n",
       "  L1-SRPYN     YTSWFH 2025-05-22T18:19:52.689 2025-05-22T19:38:28.834       VISP   588.8884060646999 .. 589.6357088810963\n",
       "  L1-WMESV     TIRDCV 2025-05-22T18:19:52.689 2025-05-22T19:38:28.834       VISP   629.7107631326819 .. 630.6215868796529\n",
       "  L1-MNXHD     IGVGSO 2025-05-23T19:33:35.743 2025-05-23T19:59:23.058 CRYO-NIRSP                         1083.0 .. 1083.0\n",
       "  L1-TINHC     UKITYO 2025-05-23T19:33:35.743 2025-05-23T19:59:23.058 CRYO-NIRSP   1072.594747190898 .. 1076.526911871618\n",
       "  L1-POTBU     AFMYGG 2025-05-23T18:20:44.136 2025-05-23T19:15:48.881 CRYO-NIRSP 1077.7066640801684 .. 1081.5559240347898\n",
       "  L1-KJNET     HEZNOY 2025-05-26T19:49:24.132 2025-05-26T19:55:06.954 CRYO-NIRSP   1072.57602517573 .. 1076.5155474743765\n",
       "  L1-IGPNS     KJGNTD 2025-05-26T19:43:18.389 2025-05-26T19:49:01.211 CRYO-NIRSP  1077.563735487146 .. 1081.4706310945332\n",
       "  L1-GWHQR     NLOGBO 2025-05-23T18:20:44.136 2025-05-23T19:15:48.881 CRYO-NIRSP                         1083.0 .. 1083.0\n",
       "  L1-NLUSB     OQAIKH 2025-05-26T19:43:18.389 2025-05-26T19:49:01.211 CRYO-NIRSP                         1083.0 .. 1083.0\n",
       "  L1-OQSMK     CSLZML 2025-05-26T19:49:24.132 2025-05-26T19:55:06.954 CRYO-NIRSP                         1083.0 .. 1083.0\n",
       "  L1-JALRI     JAWFIO 2025-05-26T19:57:46.021 2025-05-26T20:59:49.943 CRYO-NIRSP 1072.5436137737186 .. 1075.2858740554689\n",
       "  L1-HEIEO     XUTOZY 2025-05-26T19:57:46.021 2025-05-26T20:59:49.943 CRYO-NIRSP                         1083.0 .. 1083.0\n",
       "  L1-ZYVCA     SRHKNK 2025-05-27T20:19:54.753 2025-05-27T20:39:46.704 CRYO-NIRSP                         1083.0 .. 1083.0\n",
       "  L1-BPFDX     WMBGVA 2025-05-27T23:40:42.325 2025-05-28T00:00:34.276 CRYO-NIRSP                         1083.0 .. 1083.0\n",
       "  L1-DBAOE     VDXPHK 2025-05-27T20:42:02.728 2025-05-27T21:01:54.679 CRYO-NIRSP                         1083.0 .. 1083.0\n",
       "  L1-UKDVY     DBUDEL 2025-05-27T21:14:34.923 2025-05-27T21:48:10.944 CRYO-NIRSP 1072.5654336718414 .. 1076.5059883649535\n",
       "  L1-EXGDQ     GWDXRP 2025-05-27T21:50:12.342 2025-05-27T22:10:04.293 CRYO-NIRSP                         1083.0 .. 1083.0\n",
       "  L1-AFORG     POJLUM 2025-05-27T21:14:34.923 2025-05-27T21:48:10.944 CRYO-NIRSP                         1083.0 .. 1083.0\n",
       "  L1-JAPLI     NLKRBO 2025-04-14T22:24:24.334 2025-04-14T22:54:48.689        VBI                           656.0 .. 656.0\n",
       "  L1-LHCCP     AFDFGG 2025-04-14T22:24:27.763 2025-04-14T22:54:45.259        VBI                           668.0 .. 668.0\n",
       "  L1-CSZSM     YTNVFH 2025-04-14T20:15:19.763 2025-04-14T20:55:27.088        VBI                           668.0 .. 668.0\n",
       "  L1-KJBQT     MNUEDS 2025-04-14T20:15:16.334 2025-04-14T20:55:30.517        VBI                           656.0 .. 656.0\n",
       "  L1-HESQO     TILECV 2025-04-14T21:40:37.334 2025-04-14T22:21:18.952        VBI                           656.0 .. 656.0\n",
       "  L1-XUVFZ     EXFNQL 2025-04-14T21:40:40.763 2025-04-14T22:21:15.522        VBI                           668.0 .. 668.0\n",
       "  L1-BPWEX     LHJJPP 2025-06-17T21:29:22.618 2025-06-17T21:41:09.184       VISP    853.2738241471143 .. 855.020464514216\n",
       "  L1-GWKIR     JAVWIO 2025-06-17T21:29:22.463 2025-06-17T21:41:09.029       VISP    629.5634983959548 .. 630.726803932807\n",
       "  L1-QZLHJ     XUCKZY 2025-06-17T21:29:22.543 2025-06-17T21:41:09.109       VISP   485.5653243574034 .. 486.5905671072882\n",
       "  L1-ZYHMA     HEABOY 2025-06-17T20:03:02.736 2025-06-17T21:15:35.575       VISP    853.2738241471143 .. 855.020464514216\n",
       "  L1-FCQSW     CSPAML 2025-06-17T20:03:02.581 2025-06-17T21:15:35.420       VISP    629.5634983959548 .. 630.726803932807\n",
       "  L1-RVTCL     KJRBTD 2025-06-17T20:03:02.661 2025-06-17T21:15:35.500       VISP   485.5653243574034 .. 486.5905671072882\n",
       "  L1-IGYXS     VDZUHK 2025-05-30T18:31:33.613 2025-05-30T19:16:06.487       VISP   853.2593245550532 .. 855.0106020868278\n",
       "  L1-WMIXV     EXWBQL 2025-06-02T22:53:59.164 2025-06-02T23:04:19.279       VISP   655.5118919469996 .. 656.9415199551422\n",
       "  L1-AFKLG     ZYMIAU 2025-05-30T18:31:33.613 2025-05-30T19:16:06.487       VISP   516.7793451066834 .. 517.7309227874542\n",
       "  L1-NLWXB     WMXRVA 2025-05-30T18:31:33.813 2025-05-30T19:16:06.687       VISP  392.9969167001119 .. 393.72876734079045\n",
       "  L1-FCJNW     TIPQCV 2025-06-02T22:53:59.177 2025-06-02T23:04:19.292       VISP   588.7854550622258 .. 590.2988795566104\n",
       "  L1-SRFVN     YTBHFH 2025-06-02T22:53:59.177 2025-06-02T23:04:19.292       VISP 396.44307998853793 .. 397.27832976949054\n",
       "  L1-TIXKC     FCBAWI 2025-05-30T19:23:01.375 2025-05-30T20:32:16.403       VISP   853.2593245550532 .. 855.0106020868278\n",
       "  L1-MNAKD     SROTNK 2025-05-30T19:23:01.375 2025-05-30T20:32:16.403       VISP   516.7793451066834 .. 517.7309227874542\n",
       "  L1-POMZU     RVQJLI 2025-05-30T19:23:01.575 2025-05-30T20:32:16.603       VISP  392.9969167001119 .. 393.72876734079045\n",
       "  L1-KJXJT     GWEZRP 2025-06-02T21:42:14.904 2025-06-02T22:14:16.850       VISP   588.7854550622258 .. 590.2988795566104\n",
       "  L1-UKEHY     QZWMJQ 2025-06-02T21:42:14.904 2025-06-02T22:14:16.850       VISP 396.44307998853793 .. 397.27832976949054\n",
       "  L1-HENJO     BPTNXN 2025-06-02T21:42:14.891 2025-06-02T22:14:16.837       VISP   655.5118919469996 .. 656.9415199551422\n",
       "  L1-LHMMP     DBFQEL 2025-06-02T20:34:20.399 2025-06-02T21:37:22.016       VISP   588.7854550622258 .. 590.2988795566104\n",
       "  L1-JAUPI     POIPUM 2025-06-02T20:34:20.399 2025-06-02T21:37:22.016       VISP 396.44307998853793 .. 397.27832976949054\n",
       "  L1-RVCML     MNYQDS 2025-06-02T20:34:20.386 2025-06-02T21:37:22.003       VISP   655.5118919469996 .. 656.9415199551422\n",
       "  L1-QZRVJ     IGOLSO 2025-05-27T20:19:54.753 2025-05-27T20:39:46.704 CRYO-NIRSP 1077.5608436022546 .. 1081.4089715150421\n",
       "  L1-POCXU     UKNMYO 2025-05-27T23:40:42.325 2025-05-28T00:00:34.276 CRYO-NIRSP 1077.5608436339082 .. 1081.4089714892982\n",
       "  L1-YTDLF     OQRNKH 2025-05-27T20:42:02.728 2025-05-27T21:01:54.679 CRYO-NIRSP  1072.562730701541 .. 1076.5042362402653\n",
       "  L1-NLYNB     KJLXTD 2025-05-27T21:50:12.342 2025-05-27T22:10:04.293 CRYO-NIRSP 1072.5627307718362 .. 1076.5042362077054\n",
       "  L1-FCEIW     AFEWGG 2025-05-26T21:14:50.445 2025-05-26T22:12:28.137 CRYO-NIRSP  1080.871966388533 .. 1084.6633557808884\n",
       "  L1-RVKTL     NLTLBO 2025-05-26T21:14:50.445 2025-05-26T22:12:28.137 CRYO-NIRSP                         1083.0 .. 1083.0\n",
       "  L1-MNYQD     WEKCVA 2025-07-25T19:55:02.854 2025-07-25T20:00:29.552       VISP   853.2831091498085 .. 854.9919438004661\n",
       "  L1-DBFQE     FDOKWI 2025-07-25T19:55:02.670 2025-07-25T20:00:29.368       VISP   588.9204866381452 .. 590.1542323412323\n",
       "  L1-POIPU     SPZZNK 2025-07-25T19:55:02.934 2025-07-25T20:00:29.632       VISP  392.9198999859118 .. 393.79752281166503\n",
       "  L1-LHJJP     OICYKH 2025-07-25T17:49:43.506 2025-07-25T18:21:18.835       VISP   588.9204866381452 .. 590.1542323412323\n",
       "  L1-JAHVI     TNELCV 2025-07-25T21:50:01.983 2025-07-25T22:05:49.472       VISP  392.9198999859118 .. 393.79752281166503\n",
       "  L1-XUCKZ     UCWZYO 2025-07-25T17:49:43.770 2025-07-25T18:21:19.099       VISP  392.9198999859118 .. 393.79752281166503\n",
       "  L1-SROTN     KSMWTD 2025-07-25T17:49:43.690 2025-07-25T18:21:19.019       VISP   853.2831091498085 .. 854.9919438004661\n",
       "  L1-ZYMIA     HJTWOY 2025-07-25T18:43:08.728 2025-07-25T19:14:44.058       VISP   588.9204866381452 .. 590.1542323412323\n",
       "  L1-WMXRV     CBEOML 2025-07-25T18:43:08.992 2025-07-25T19:14:44.322       VISP  392.9198999859118 .. 393.79752281166503\n",
       "  L1-VDZUH     XFGBZY 2025-07-25T18:43:08.912 2025-07-25T19:14:44.242       VISP   853.2831091498085 .. 854.9919438004661\n",
       "  L1-GWEZR     LKFUPP 2025-07-25T20:03:36.060 2025-07-25T20:35:11.390       VISP   588.9204866381452 .. 590.1542323412323\n",
       "  L1-LHIIP     EASWQL 2025-07-25T21:50:01.917 2025-07-25T22:05:49.406       VISP   588.9204866381452 .. 590.1542323412323\n",
       "  L1-BPTNX     ROYULI 2025-07-25T20:03:36.244 2025-07-25T20:35:11.574       VISP   853.2831091498085 .. 854.9919438004661\n",
       "  L1-RVJIL     NUACBO 2025-07-25T21:50:01.963 2025-07-25T22:05:49.452       VISP   853.2831091498085 .. 854.9919438004661\n",
       "  L1-QZWMJ     JRNJIO 2025-07-25T20:03:36.324 2025-07-25T20:35:11.654       VISP  392.9198999859118 .. 393.79752281166503\n",
       "  L1-XUMTZ     YMHSFH 2025-07-25T21:13:28.622 2025-07-25T21:49:14.606       VISP   853.2831091498085 .. 854.9919438004661\n",
       "  L1-OQRNK     BYGWXN 2025-07-25T20:36:41.191 2025-07-25T21:12:25.369       VISP   588.9204866381452 .. 590.1542323412323\n",
       "  L1-EXWBQ     VQTEHK 2025-07-25T19:17:12.619 2025-07-25T19:52:51.380       VISP   588.9204866381452 .. 590.1542323412323\n",
       "  L1-CSUGM     DZILEL 2025-07-25T21:13:28.642 2025-07-25T21:49:14.626       VISP  392.9198999859118 .. 393.79752281166503\n",
       "  L1-HEGXO     MXJLDS 2025-07-25T21:13:28.576 2025-07-25T21:49:14.560       VISP   588.9204866381452 .. 590.1542323412323\n",
       "  L1-UKNMY     GHUORP 2025-07-25T20:36:41.257 2025-07-25T21:12:25.435       VISP  392.9198999859118 .. 393.79752281166503\n",
       "  L1-AFEWG     QGNGJQ 2025-07-25T19:17:12.665 2025-07-25T19:52:51.426       VISP   853.2831091498085 .. 854.9919438004661\n",
       "  L1-KJLXT     PTWDUM 2025-07-25T20:36:41.237 2025-07-25T21:12:25.415       VISP   853.2831091498085 .. 854.9919438004661\n",
       "  L1-YTBHF     ZWLYAU 2025-07-25T19:17:12.685 2025-07-25T19:52:51.446       VISP  392.9198999859118 .. 393.79752281166503\n",
       "  L1-GWDXR     AVPJGG 2025-03-31T20:42:37.848 2025-03-31T21:36:22.463       VISP   516.7013881937395 .. 517.8165342454874\n",
       "  L1-IGHRS     CBQKML 2025-03-31T21:38:27.711 2025-03-31T22:02:04.131       VISP   853.5883515394114 .. 854.7072402859393\n",
       "  L1-NLKRB     KSDVTD 2025-03-31T21:38:27.683 2025-03-31T22:02:04.103       VISP   629.6067648891277 .. 630.6816283364794\n",
       "  L1-TILEC     OIMFKH 2025-03-31T21:38:27.711 2025-03-31T22:02:04.131       VISP   516.7013881937395 .. 517.8165342454874\n",
       "  L1-MNUED     UCVAYO 2025-03-31T20:42:37.848 2025-03-31T21:36:22.463       VISP   853.5883515394114 .. 854.7072402859393\n",
       "  L1-POJLU     ILXCSO 2025-03-31T20:42:37.778 2025-03-31T21:36:22.393       VISP   629.6067648891277 .. 630.6816283364794\n",
       "  L1-AFQVG     GHYKRP 2025-07-29T21:07:16.421 2025-07-29T21:16:08.528       VISP 396.44361579559074 .. 397.27772881046286\n",
       "  L1-UKBDY     PTVEUM 2025-07-29T21:07:15.981 2025-07-29T21:16:08.088       VISP   655.3445730147351 .. 657.1233138349977\n",
       "  L1-CSYRM     YMONFH 2025-07-29T22:10:16.517 2025-07-29T22:13:20.708       VISP   655.3445730147351 .. 657.1233138349977\n",
       "  L1-OQLBK     DZSPEL 2025-07-29T22:10:16.957 2025-07-29T22:13:21.148       VISP 396.44361579559074 .. 397.27772881046286\n",
       "  L1-KJPZT     MXIPDS 2025-07-29T22:10:16.317 2025-07-29T22:13:20.508       VISP  485.55237245352896 .. 486.5466621471217\n",
       "  L1-IGKPS     BYRVXN 2025-07-29T21:07:15.781 2025-07-29T21:16:07.888       VISP  485.55237245352896 .. 486.5466621471217\n",
       "  L1-DBWJE     ZWPFAU 2025-07-29T20:11:23.889 2025-07-29T20:59:17.958       VISP 396.44361579559074 .. 397.27772881046286\n",
       "  L1-EXVXQ     QGBRJQ 2025-07-29T20:11:23.449 2025-07-29T20:59:17.518       VISP   655.3445730147351 .. 657.1233138349977\n",
       "  L1-YTXOF     VQCQHK 2025-07-29T20:11:23.249 2025-07-29T20:59:17.318       VISP  485.55237245352896 .. 486.5466621471217\n",
       "  L1-HEDTO     HJCVOY 2025-03-26T20:12:06.584 2025-03-26T21:38:37.548 CRYO-NIRSP                         1083.0 .. 1083.0\n",
       "  L1-XUPRZ     XFRXZY 2025-03-26T20:12:06.584 2025-03-26T21:38:37.548 CRYO-NIRSP  1072.521193110071 .. 1076.4689278485464\n",
       "  L1-VDAYH     ROFYLI 2025-07-29T18:04:47.025 2025-07-29T18:28:23.445       VISP   853.5883515394114 .. 854.7060147780022\n",
       "  L1-GWQAR     SPAANK 2025-07-29T18:30:44.527 2025-07-29T18:54:20.947       VISP   516.7013881937395 .. 517.8153351637114\n",
       "  L1-WMZLV     LKWYPP 2025-07-29T18:04:46.997 2025-07-29T18:28:23.417       VISP   629.6067648891277 .. 630.6840063529559\n",
       "  L1-SRKCN     JRXSIO 2025-07-29T18:04:47.025 2025-07-29T18:28:23.445       VISP   516.7013881937395 .. 517.8153351637114\n",
       "  L1-PONYU     WETMVA 2025-07-29T18:30:44.527 2025-07-29T18:54:20.947       VISP   853.5883515394114 .. 854.7060147780022\n",
       "  L1-BPCBX     FDKTWI 2025-07-29T18:30:44.499 2025-07-29T18:54:20.919       VISP   629.6067648891277 .. 630.6840063529559\n",
       "  L1-RVISL     NUGMBO 2025-07-31T21:32:00.627 2025-07-31T22:22:59.314       VISP    524.4580545436413 .. 525.465921043643\n",
       "  L1-HERZO     TNQPCV 2025-07-31T21:32:00.623 2025-07-31T22:22:59.310       VISP   460.2430430589104 .. 461.0727083667805\n",
       "  L1-JAOHI     EANVQL 2025-07-31T21:32:00.611 2025-07-31T22:22:59.298       VISP    516.6793386994649 .. 517.630928090423\n",
       "  L1-YTZKF     JRZNIO 2025-08-07T20:51:49.922 2025-08-07T21:03:36.487       VISP    629.5634983959548 .. 630.726803932807\n",
       "  L1-TIYIC     LKVFPP 2025-08-07T20:51:50.072 2025-08-07T21:03:36.637       VISP   853.2738241471143 .. 855.0185864062944\n",
       "  L1-MNWID     XFPAZY 2025-08-07T20:51:49.997 2025-08-07T21:03:36.562       VISP   485.5653243574034 .. 486.5905671072882\n",
       "  L1-QZHEJ     OIDWKH 2025-08-07T18:14:52.328 2025-08-07T19:27:01.367       VISP   853.2738241471143 .. 855.0185864062944\n",
       "  L1-DBVIE     HJMHOY 2025-08-07T19:33:46.060 2025-08-07T20:45:55.099       VISP   853.2738241471143 .. 855.0185864062944\n",
       "  L1-ZYENA     UCHGYO 2025-08-07T18:14:52.178 2025-08-07T19:27:01.217       VISP    629.5634983959548 .. 630.726803932807\n",
       "  L1-BPDZX     KSEHTD 2025-08-07T19:33:45.985 2025-08-07T20:45:55.024       VISP   485.5653243574034 .. 486.5905671072882\n",
       "  L1-FCZRW     ILZMSO 2025-08-07T18:14:52.253 2025-08-07T19:27:01.292       VISP   485.5653243574034 .. 486.5905671072882\n",
       "  L1-POBFU     CBJTML 2025-08-07T19:33:45.910 2025-08-07T20:45:54.949       VISP    629.5634983959548 .. 630.726803932807\n",
       "  L1-DBHSE     TNJUCV 2025-08-06T22:18:50.800 2025-08-06T22:19:36.547       VISP   655.3445730147351 .. 657.1213991516605\n",
       "  L1-MNVSD     EABHQL 2025-08-06T22:18:50.756 2025-08-06T22:19:36.503       VISP   853.0879983708171 .. 855.1092117529192\n",
       "  L1-POXWU     YMKBFH 2025-08-06T22:18:50.800 2025-08-06T22:19:36.547       VISP 396.44361579559074 .. 397.27772881046286\n",
       "  L1-BPEAX     MXSUDS 2025-08-06T21:07:47.167 2025-08-06T22:11:57.919       VISP   854.2047114775628 .. 856.2259248596649\n",
       "  L1-QZOQJ     PTHQUM 2025-08-06T21:07:47.211 2025-08-06T22:11:57.963       VISP 396.90133284199266 .. 397.73544585686477\n",
       "  L1-ZYQBA     BYLHXN 2025-08-06T19:41:13.326 2025-08-06T20:51:10.439       VISP   854.2047114775628 .. 856.2259248596649\n",
       "  L1-RVSNL     QGXLJQ 2025-08-06T19:41:13.370 2025-08-06T20:51:10.483       VISP 396.90133284199266 .. 397.73544585686477\n",
       "  L1-GWSLR     DZNUEL 2025-08-06T21:07:47.211 2025-08-06T22:11:57.963       VISP   656.3037476894781 .. 658.0805738264035\n",
       "  L1-FCALW     GHFTRP 2025-08-06T19:41:13.370 2025-08-06T20:51:10.483       VISP   656.3037476894781 .. 658.0805738264035\n",
       "  L1-UKXEY     FDTCWI 2025-08-01T19:58:13.098 2025-08-01T20:49:11.677       VISP    524.4580545436413 .. 525.465921043643\n",
       "  L1-EXHZQ     ROWFLI 2025-08-01T19:58:13.094 2025-08-01T20:49:11.673       VISP   460.2430430589104 .. 461.0727083667805\n",
       "  L1-KJUAT     WECDVA 2025-08-01T18:58:41.758 2025-08-01T19:45:58.459       VISP   460.2430430589104 .. 461.0727083667805\n",
       "  L1-AFJHG     SPGGNK 2025-08-01T19:58:13.082 2025-08-01T20:49:11.661       VISP    516.6793386994649 .. 517.630928090423\n",
       "  L1-HELAO     ZWUWAU 2025-08-01T18:58:41.748 2025-08-01T19:45:58.449       VISP    516.6793386994649 .. 517.630928090423\n",
       "  L1-JAKOI     VQMJHK 2025-08-01T18:58:41.758 2025-08-01T19:45:58.459       VISP    524.4580545436413 .. 525.465921043643\n",
       "  L1-EXOAQ     AVYSGG 2025-08-11T17:32:20.135 2025-08-11T18:41:35.163       VISP   516.7793451066834 .. 517.7309227874542\n",
       "  L1-AFIOG     ILADSO 2025-08-11T17:32:20.135 2025-08-11T18:41:35.163       VISP   853.2593245550534 .. 855.0087169656958\n",
       "  L1-YTATF     NURDBO 2025-08-11T17:32:20.335 2025-08-11T18:41:35.363       VISP  392.9969167001119 .. 393.72876734079045\n"
      ]
     },
     "execution_count": 12,
     "metadata": {},
     "output_type": "execute_result"
    }
   ],
   "source": [
    "# Search for all DKIST data this year\n",
    "res = Fido.search(a.Provider(\"dkist\"), a.Time(\"2025-01-01\", \"2026-01-01\"))\n",
    "res"
   ]
  },
  {
   "cell_type": "code",
   "execution_count": 14,
   "id": "e8c73eda-8353-478a-a890-e4d657f25862",
   "metadata": {
    "editable": true,
    "scrolled": true,
    "slideshow": {
     "slide_type": "skip"
    },
    "tags": []
   },
   "outputs": [
    {
     "data": {
      "text/html": [
       "<div><i>DKISTQueryResponseTable length=259</i>\n",
       "<table id=\"table140590729232208\" class=\"table-striped table-bordered table-condensed\">\n",
       "<thead><tr><th>Product ID</th><th>Dataset ID</th><th>Start Time</th><th>End Time</th><th>Instrument</th><th>Wavelength</th><th>Bounding Box</th><th>Dataset Size</th><th>Exposure Time</th><th>Primary Experiment ID</th><th>Primary Proposal ID</th><th>Stokes Parameters</th><th>Target Types</th><th>Number of Frames</th><th>Average Fried Parameter</th><th>Average Polarimetric Accuracy</th><th>Embargoed</th><th>Embargo End Date</th><th>Downloadable</th><th>Is Manually Processed</th><th>Has Spectral Axis</th><th>Has Temporal Axis</th><th>Average Spectral Sampling</th><th>Average Spatial Sampling</th><th>Average Temporal Sampling</th><th>Status</th><th>Spectral Lines</th></tr></thead>\n",
       "<thead><tr><th></th><th></th><th></th><th></th><th></th><th>nm</th><th></th><th>Gibyte</th><th>s</th><th></th><th></th><th></th><th></th><th></th><th></th><th></th><th></th><th></th><th></th><th></th><th></th><th></th><th>nm</th><th>arcsec</th><th>s</th><th></th><th></th></tr></thead>\n",
       "<thead><tr><th>str8</th><th>str6</th><th>Time</th><th>Time</th><th>str10</th><th>float64[2]</th><th>str39</th><th>float64</th><th>float64</th><th>str8</th><th>str8</th><th>str4</th><th>str12[1]</th><th>int64</th><th>object</th><th>object</th><th>bool</th><th>object</th><th>bool</th><th>bool</th><th>bool</th><th>bool</th><th>float64</th><th>float64</th><th>float64</th><th>str6</th><th>object</th></tr></thead>\n",
       "<tr><td>L1-JZQQI</td><td>AFWZGG</td><td>2025-03-22T19:19:43.787</td><td>2025-03-22T19:21:07.249</td><td>CRYO-NIRSP</td><td>1077.5276875938443 .. 1081.4360809302982</td><td>(-954.74,490.93),(-1080.58,257.9)</td><td>0.12369811534881592</td><td>725.0</td><td>eid_3_88</td><td>pid_3_88</td><td>I</td><td>activecorona</td><td>84</td><td>nan</td><td>None</td><td>False</td><td>None</td><td>True</td><td>False</td><td>True</td><td>True</td><td>0.004276141505967053</td><td>0.12</td><td>41.731131690478705</td><td>ACTIVE</td><td>[&apos;Fe XIII (1079.8 nm)&apos;, &apos;He I (1083.0 nm)&apos;]</td></tr>\n",
       "<tr><td>L1-SGSXN</td><td>UKCFYO</td><td>2025-03-22T19:21:31.735</td><td>2025-03-22T19:22:55.197</td><td>CRYO-NIRSP</td><td>1072.5480869277164 .. 1076.4889808510122</td><td>(-954.72,490.98),(-1080.6,257.85)</td><td>0.12296855449676514</td><td>725.0</td><td>eid_3_88</td><td>pid_3_88</td><td>I</td><td>activecorona</td><td>84</td><td>nan</td><td>None</td><td>False</td><td>None</td><td>True</td><td>False</td><td>True</td><td>True</td><td>0.004373911124634653</td><td>0.12</td><td>41.73113170237216</td><td>ACTIVE</td><td>[&apos;Fe XIII (1074.7 nm)&apos;]</td></tr>\n",
       "<tr><td>L1-TJKGC</td><td>DBXVEL</td><td>2025-03-22T17:53:38.890</td><td>2025-03-22T17:58:31.826</td><td>CRYO-NIRSP</td><td>1077.5384641128728 .. 1081.4477727477383</td><td>(-906.95,507.83),(-1126.46,240.31)</td><td>0.4776477813720703</td><td>725.0</td><td>eid_3_88</td><td>pid_3_88</td><td>I</td><td>activecorona</td><td>321</td><td>nan</td><td>None</td><td>False</td><td>None</td><td>True</td><td>False</td><td>True</td><td>True</td><td>0.004277142926548664</td><td>0.12</td><td>146.4683298162026</td><td>ACTIVE</td><td>[&apos;Fe XIII (1079.8 nm)&apos;, &apos;He I (1083.0 nm)&apos;]</td></tr>\n",
       "<tr><td>L1-HDVFO</td><td>NLPIBO</td><td>2025-03-22T19:19:43.787</td><td>2025-03-22T19:21:07.249</td><td>CRYO-NIRSP</td><td>1083.0 .. 1083.0</td><td>(-933.07,444.91),(-1112.22,298.78)</td><td>0.2539515495300293</td><td>725.0</td><td>eid_3_88</td><td>pid_3_88</td><td>I</td><td>activecorona</td><td>84</td><td>nan</td><td>None</td><td>False</td><td>None</td><td>True</td><td>False</td><td>False</td><td>True</td><td>nan</td><td>0.05308</td><td>41.731131690478705</td><td>ACTIVE</td><td>[&apos;He I (1083.0 nm)&apos;]</td></tr>\n",
       "<tr><td>L1-RWRPL</td><td>IGRISO</td><td>2025-03-22T19:21:31.735</td><td>2025-03-22T19:22:55.197</td><td>CRYO-NIRSP</td><td>1083.0 .. 1083.0</td><td>(-933.07,444.91),(-1112.22,298.78)</td><td>0.25396227836608887</td><td>725.0</td><td>eid_3_88</td><td>pid_3_88</td><td>I</td><td>activecorona</td><td>84</td><td>nan</td><td>None</td><td>False</td><td>None</td><td>True</td><td>False</td><td>False</td><td>True</td><td>nan</td><td>0.05308</td><td>41.73113170237216</td><td>ACTIVE</td><td>[&apos;He I (1083.0 nm)&apos;]</td></tr>\n",
       "<tr><td>L1-AYZEG</td><td>YTCGFH</td><td>2025-03-22T17:58:58.747</td><td>2025-03-22T18:03:51.684</td><td>CRYO-NIRSP</td><td>1072.549861518578 .. 1076.4902217762783</td><td>(-906.94,507.89),(-1126.47,240.26)</td><td>0.4690486192703247</td><td>725.0</td><td>eid_3_88</td><td>pid_3_88</td><td>I</td><td>activecorona</td><td>321</td><td>nan</td><td>None</td><td>False</td><td>None</td><td>True</td><td>False</td><td>True</td><td>True</td><td>0.004373318820977043</td><td>0.12</td><td>146.46832982243606</td><td>ACTIVE</td><td>[&apos;Fe XIII (1074.7 nm)&apos;]</td></tr>\n",
       "<tr><td>L1-QXQAJ</td><td>HEJDOY</td><td>2025-03-22T20:21:07.015</td><td>2025-03-22T20:22:30.477</td><td>CRYO-NIRSP</td><td>1072.5480864022475 .. 1076.4889810939733</td><td>(-954.73,490.98),(-1080.58,257.84)</td><td>0.12274056673049927</td><td>725.0</td><td>eid_3_88</td><td>pid_3_88</td><td>I</td><td>activecorona</td><td>84</td><td>nan</td><td>None</td><td>False</td><td>None</td><td>True</td><td>False</td><td>True</td><td>True</td><td>0.004373911977498101</td><td>0.12</td><td>41.73113167856457</td><td>ACTIVE</td><td>[&apos;Fe XIII (1074.7 nm)&apos;]</td></tr>\n",
       "<tr><td>L1-MSCGD</td><td>POKNUM</td><td>2025-03-22T17:53:38.890</td><td>2025-03-22T17:58:31.826</td><td>CRYO-NIRSP</td><td>1083.0 .. 1083.0</td><td>(-898.15,464.05),(-1160.33,286.09)</td><td>0.8557963371276855</td><td>725.0</td><td>eid_3_88</td><td>pid_3_88</td><td>I</td><td>activecorona</td><td>321</td><td>nan</td><td>None</td><td>False</td><td>None</td><td>True</td><td>False</td><td>False</td><td>True</td><td>nan</td><td>0.05308</td><td>146.4683298162026</td><td>ACTIVE</td><td>[&apos;He I (1083.0 nm)&apos;]</td></tr>\n",
       "<tr><td>L1-VMVDH</td><td>CSBJML</td><td>2025-03-22T20:21:07.015</td><td>2025-03-22T20:22:30.477</td><td>CRYO-NIRSP</td><td>1083.0 .. 1083.0</td><td>(-933.07,444.91),(-1112.21,298.78)</td><td>0.25386571884155273</td><td>725.0</td><td>eid_3_88</td><td>pid_3_88</td><td>I</td><td>activecorona</td><td>84</td><td>nan</td><td>None</td><td>False</td><td>None</td><td>True</td><td>False</td><td>False</td><td>True</td><td>nan</td><td>0.05308</td><td>41.73113167856457</td><td>ACTIVE</td><td>[&apos;He I (1083.0 nm)&apos;]</td></tr>\n",
       "<tr><td>...</td><td>...</td><td>...</td><td>...</td><td>...</td><td>...</td><td>...</td><td>...</td><td>...</td><td>...</td><td>...</td><td>...</td><td>...</td><td>...</td><td>...</td><td>...</td><td>...</td><td>...</td><td>...</td><td>...</td><td>...</td><td>...</td><td>...</td><td>...</td><td>...</td><td>...</td><td>...</td></tr>\n",
       "<tr><td>L1-UKXEY</td><td>FDTCWI</td><td>2025-08-01T19:58:13.098</td><td>2025-08-01T20:49:11.677</td><td>VISP</td><td>524.4580545436413 .. 525.465921043643</td><td>(0,5.24),(-0.01,-5.55)</td><td>18.001978397369385</td><td>59.98242253521127</td><td>eid_3_60</td><td>pid_3_60</td><td>IQUV</td><td>quietsun</td><td>9600</td><td>0.04523110490932295</td><td>0.8859235256177055</td><td>True</td><td>2026-02-04T11:14:05.232000</td><td>False</td><td>False</td><td>True</td><td>True</td><td>0.0010860630387949</td><td>0.02310152928007235</td><td>1529.352779139995</td><td>ACTIVE</td><td>[&apos;Fe I (525.04 nm)&apos;]</td></tr>\n",
       "<tr><td>L1-EXHZQ</td><td>ROWFLI</td><td>2025-08-01T19:58:13.094</td><td>2025-08-01T20:49:11.673</td><td>VISP</td><td>460.2430430589104 .. 461.0727083667805</td><td>(0,5.27),(-0.01,-5.55)</td><td>17.95161724090576</td><td>51.99954929577465</td><td>eid_3_60</td><td>pid_3_60</td><td>IQUV</td><td>quietsun</td><td>9600</td><td>0.04523110490932295</td><td>0.9166942361004201</td><td>True</td><td>2026-02-04T11:14:05.232000</td><td>False</td><td>False</td><td>True</td><td>True</td><td>0.000915745372925008</td><td>0.0253703136866945</td><td>1529.3527872649995</td><td>ACTIVE</td><td>[&apos;Sr I (460.73 nm)&apos;]</td></tr>\n",
       "<tr><td>L1-KJUAT</td><td>WECDVA</td><td>2025-08-01T18:58:41.758</td><td>2025-08-01T19:45:58.459</td><td>VISP</td><td>460.2430430589104 .. 461.0727083667805</td><td>(-847.06,9.48),(-907.9,-1.08)</td><td>17.829246819019318</td><td>59.98242253521127</td><td>eid_3_60</td><td>pid_3_60</td><td>IQUV</td><td>quietsun</td><td>9600</td><td>0.05577938937540974</td><td>1.0780502717894906</td><td>True</td><td>2026-02-04T11:14:05.232000</td><td>False</td><td>False</td><td>True</td><td>True</td><td>0.000915745372925008</td><td>0.0253703136866945</td><td>1418.2916126720895</td><td>ACTIVE</td><td>[&apos;Sr I (460.73 nm)&apos;]</td></tr>\n",
       "<tr><td>L1-AFJHG</td><td>SPGGNK</td><td>2025-08-01T19:58:13.082</td><td>2025-08-01T20:49:11.661</td><td>VISP</td><td>516.6793386994649 .. 517.630928090423</td><td>(0.01,5.34),(-0,-5.59)</td><td>17.94993817806244</td><td>28.013971830985916</td><td>eid_3_60</td><td>pid_3_60</td><td>IQUV</td><td>quietsun</td><td>9600</td><td>0.04523110490932295</td><td>0.9317140487285814</td><td>True</td><td>2026-02-04T11:14:05.232000</td><td>False</td><td>False</td><td>True</td><td>True</td><td>0.0010434094199102</td><td>0.028559317063786352</td><td>1529.3527939812448</td><td>ACTIVE</td><td>[&apos;Mg I b1 (517.27 nm)&apos;]</td></tr>\n",
       "<tr><td>L1-HELAO</td><td>ZWUWAU</td><td>2025-08-01T18:58:41.748</td><td>2025-08-01T19:45:58.449</td><td>VISP</td><td>516.6793386994649 .. 517.630928090423</td><td>(-841.81,9.5),(-918.78,-1.1)</td><td>17.84079909324646</td><td>40.39481690140845</td><td>eid_3_60</td><td>pid_3_60</td><td>IQUV</td><td>quietsun</td><td>9600</td><td>0.05577938937540974</td><td>1.0916400905098893</td><td>True</td><td>2026-02-04T11:14:05.232000</td><td>False</td><td>False</td><td>True</td><td>True</td><td>0.0010434094199102</td><td>0.028559317063786352</td><td>1418.2918172595826</td><td>ACTIVE</td><td>[&apos;Mg I b1 (517.27 nm)&apos;]</td></tr>\n",
       "<tr><td>L1-JAKOI</td><td>VQMJHK</td><td>2025-08-01T18:58:41.758</td><td>2025-08-01T19:45:58.459</td><td>VISP</td><td>524.4580545436413 .. 525.465921043643</td><td>(-850.58,9.49),(-899.87,-1.09)</td><td>17.916638553142548</td><td>59.98242253521127</td><td>eid_3_60</td><td>pid_3_60</td><td>IQUV</td><td>quietsun</td><td>9600</td><td>0.05577938937540974</td><td>1.0407679199160818</td><td>True</td><td>2026-02-04T11:14:05.232000</td><td>False</td><td>False</td><td>True</td><td>True</td><td>0.0010860630387949</td><td>0.02310152928007235</td><td>1418.291612672506</td><td>ACTIVE</td><td>[&apos;Fe I (525.04 nm)&apos;]</td></tr>\n",
       "<tr><td>L1-EXOAQ</td><td>AVYSGG</td><td>2025-08-11T17:32:20.135</td><td>2025-08-11T18:41:35.163</td><td>VISP</td><td>516.7793451066834 .. 517.7309227874542</td><td>(911.2,50.23),(832.92,-4.18)</td><td>3.77755343914032</td><td>239.92969014084508</td><td>eid_3_47</td><td>pid_3_47</td><td>IQUV</td><td>quietsun</td><td>2000</td><td>0.05723601509479353</td><td>1.2019268125601943</td><td>True</td><td>2025-12-23T00:39:31.618000</td><td>False</td><td>False</td><td>True</td><td>True</td><td>0.0010433965797926</td><td>0.06853160394411399</td><td>2077.514139977998</td><td>ACTIVE</td><td>[&apos;Mg I b1 (517.27 nm)&apos;]</td></tr>\n",
       "<tr><td>L1-AFIOG</td><td>ILADSO</td><td>2025-08-11T17:32:20.135</td><td>2025-08-11T18:41:35.163</td><td>VISP</td><td>853.2593245550534 .. 855.0087169656958</td><td>(891.96,49.41),(841.38,-4.12)</td><td>3.774257004261017</td><td>239.92969014084508</td><td>eid_3_47</td><td>pid_3_47</td><td>IQUV</td><td>quietsun</td><td>2000</td><td>0.05723601509479353</td><td>1.095416550426622</td><td>True</td><td>2025-12-23T00:39:31.618000</td><td>False</td><td>False</td><td>True</td><td>True</td><td>0.0018851211321578</td><td>0.06306544660199785</td><td>2077.5141399819986</td><td>ACTIVE</td><td>[&apos;Ca II (854.21 nm)&apos;]</td></tr>\n",
       "<tr><td>L1-YTATF</td><td>NURDBO</td><td>2025-08-11T17:32:20.335</td><td>2025-08-11T18:41:35.363</td><td>VISP</td><td>392.9969167001119 .. 393.72876734079045</td><td>(900.5,49.69),(838.33,-4.09)</td><td>3.7101763486862183</td><td>639.960338028169</td><td>eid_3_47</td><td>pid_3_47</td><td>IQUV</td><td>quietsun</td><td>2000</td><td>0.05723601509479353</td><td>1.2016746154558573</td><td>True</td><td>2025-12-23T00:39:31.618000</td><td>False</td><td>False</td><td>True</td><td>True</td><td>0.000807782164104351</td><td>0.065234580727726</td><td>2077.5141559799977</td><td>ACTIVE</td><td>[&apos;Ca II K (393.37 nm)&apos;]</td></tr>\n",
       "</table></div>"
      ],
      "text/plain": [
       "<dkist.net.client.DKISTQueryResponseTable object at 0x7fddd541a360>\n",
       "Product ID Dataset ID        Start Time               End Time        Instrument                Wavelength                              Bounding Box                  Dataset Size      Exposure Time    Primary Experiment ID Primary Proposal ID Stokes Parameters Target Types Number of Frames Average Fried Parameter Average Polarimetric Accuracy Embargoed      Embargo End Date      Downloadable Is Manually Processed Has Spectral Axis Has Temporal Axis Average Spectral Sampling Average Spatial Sampling Average Temporal Sampling Status                  Spectral Lines                \n",
       "                                                                                                    nm                                                                   Gibyte               s                                                                                                                                                                                                                                                                                  nm                     arcsec                      s                                                                   \n",
       "---------- ---------- ----------------------- ----------------------- ---------- ---------------------------------------- --------------------------------------- ------------------- ------------------ --------------------- ------------------- ----------------- ------------ ---------------- ----------------------- ----------------------------- --------- -------------------------- ------------ --------------------- ----------------- ----------------- ------------------------- ------------------------ ------------------------- ------ -----------------------------------------------\n",
       "  L1-JZQQI     AFWZGG 2025-03-22T19:19:43.787 2025-03-22T19:21:07.249 CRYO-NIRSP 1077.5276875938443 .. 1081.4360809302982       (-954.74,490.93),(-1080.58,257.9) 0.12369811534881592              725.0              eid_3_88            pid_3_88                 I activecorona               84                     nan                          None     False                       None         True                 False              True              True      0.004276141505967053                     0.12        41.731131690478705 ACTIVE     ['Fe XIII (1079.8 nm)', 'He I (1083.0 nm)']\n",
       "  L1-SGSXN     UKCFYO 2025-03-22T19:21:31.735 2025-03-22T19:22:55.197 CRYO-NIRSP 1072.5480869277164 .. 1076.4889808510122       (-954.72,490.98),(-1080.6,257.85) 0.12296855449676514              725.0              eid_3_88            pid_3_88                 I activecorona               84                     nan                          None     False                       None         True                 False              True              True      0.004373911124634653                     0.12         41.73113170237216 ACTIVE                         ['Fe XIII (1074.7 nm)']\n",
       "  L1-TJKGC     DBXVEL 2025-03-22T17:53:38.890 2025-03-22T17:58:31.826 CRYO-NIRSP 1077.5384641128728 .. 1081.4477727477383      (-906.95,507.83),(-1126.46,240.31)  0.4776477813720703              725.0              eid_3_88            pid_3_88                 I activecorona              321                     nan                          None     False                       None         True                 False              True              True      0.004277142926548664                     0.12         146.4683298162026 ACTIVE     ['Fe XIII (1079.8 nm)', 'He I (1083.0 nm)']\n",
       "  L1-HDVFO     NLPIBO 2025-03-22T19:19:43.787 2025-03-22T19:21:07.249 CRYO-NIRSP                         1083.0 .. 1083.0      (-933.07,444.91),(-1112.22,298.78)  0.2539515495300293              725.0              eid_3_88            pid_3_88                 I activecorona               84                     nan                          None     False                       None         True                 False             False              True                       nan                  0.05308        41.731131690478705 ACTIVE                            ['He I (1083.0 nm)']\n",
       "  L1-RWRPL     IGRISO 2025-03-22T19:21:31.735 2025-03-22T19:22:55.197 CRYO-NIRSP                         1083.0 .. 1083.0      (-933.07,444.91),(-1112.22,298.78) 0.25396227836608887              725.0              eid_3_88            pid_3_88                 I activecorona               84                     nan                          None     False                       None         True                 False             False              True                       nan                  0.05308         41.73113170237216 ACTIVE                            ['He I (1083.0 nm)']\n",
       "  L1-AYZEG     YTCGFH 2025-03-22T17:58:58.747 2025-03-22T18:03:51.684 CRYO-NIRSP  1072.549861518578 .. 1076.4902217762783      (-906.94,507.89),(-1126.47,240.26)  0.4690486192703247              725.0              eid_3_88            pid_3_88                 I activecorona              321                     nan                          None     False                       None         True                 False              True              True      0.004373318820977043                     0.12        146.46832982243606 ACTIVE                         ['Fe XIII (1074.7 nm)']\n",
       "  L1-QXQAJ     HEJDOY 2025-03-22T20:21:07.015 2025-03-22T20:22:30.477 CRYO-NIRSP 1072.5480864022475 .. 1076.4889810939733      (-954.73,490.98),(-1080.58,257.84) 0.12274056673049927              725.0              eid_3_88            pid_3_88                 I activecorona               84                     nan                          None     False                       None         True                 False              True              True      0.004373911977498101                     0.12         41.73113167856457 ACTIVE                         ['Fe XIII (1074.7 nm)']\n",
       "  L1-MSCGD     POKNUM 2025-03-22T17:53:38.890 2025-03-22T17:58:31.826 CRYO-NIRSP                         1083.0 .. 1083.0      (-898.15,464.05),(-1160.33,286.09)  0.8557963371276855              725.0              eid_3_88            pid_3_88                 I activecorona              321                     nan                          None     False                       None         True                 False             False              True                       nan                  0.05308         146.4683298162026 ACTIVE                            ['He I (1083.0 nm)']\n",
       "  L1-VMVDH     CSBJML 2025-03-22T20:21:07.015 2025-03-22T20:22:30.477 CRYO-NIRSP                         1083.0 .. 1083.0      (-933.07,444.91),(-1112.21,298.78) 0.25386571884155273              725.0              eid_3_88            pid_3_88                 I activecorona               84                     nan                          None     False                       None         True                 False             False              True                       nan                  0.05308         41.73113167856457 ACTIVE                            ['He I (1083.0 nm)']\n",
       "  L1-GFGHR     XUFUZY 2025-03-22T20:22:54.929 2025-03-22T20:24:18.391 CRYO-NIRSP                         1083.0 .. 1083.0        (-933.06,444.9),(-1112.2,298.78)  0.2539059519767761              725.0              eid_3_88            pid_3_88                 I activecorona               84                     nan                          None     False                       None         True                 False             False              True                       nan                  0.05308         41.73113167857463 ACTIVE                            ['He I (1083.0 nm)']\n",
       "  L1-BLBFX     JARGIO 2025-03-22T20:22:54.929 2025-03-22T20:24:18.391 CRYO-NIRSP 1077.5276876201015 .. 1081.4360810460116       (-954.74,490.93),(-1080.55,257.9) 0.12357205152511597              725.0              eid_3_88            pid_3_88                 I activecorona               84                     nan                          None     False                       None         True                 False              True              True      0.004276141603840548                     0.12         41.73113167857463 ACTIVE     ['Fe XIII (1079.8 nm)', 'He I (1083.0 nm)']\n",
       "  L1-DNDRE     RVOKLI 2025-03-22T20:52:53.698 2025-03-22T20:54:17.160 CRYO-NIRSP    1077.53846443595 .. 1081.447771530299       (-954.73,490.93),(-1080.56,257.9) 0.12407898902893066              725.0              eid_3_88            pid_3_88                 I activecorona               84                     nan                          None     False                       None         True                 False              True              True      0.004277141241082172                     0.12        41.731131666669285 ACTIVE     ['Fe XIII (1079.8 nm)', 'He I (1083.0 nm)']\n",
       "  L1-NRSKB     MNBVDS 2025-03-22T17:58:58.747 2025-03-22T18:03:51.684 CRYO-NIRSP                         1083.0 .. 1083.0      (-898.16,464.04),(-1160.32,286.09)  0.8551633358001709              725.0              eid_3_88            pid_3_88                 I activecorona              321                     nan                          None     False                       None         True                 False             False              True                       nan                  0.05308        146.46832982243606 ACTIVE                            ['He I (1083.0 nm)']\n",
       "  L1-YKYIF     FCDJWI 2025-03-22T20:54:41.630 2025-03-22T20:56:05.092 CRYO-NIRSP  1072.5498614839255 .. 1076.490221879936      (-954.71,490.98),(-1080.58,257.84)  0.1224777102470398              725.0              eid_3_88            pid_3_88                 I activecorona               84                     nan                          None     False                       None         True                 False              True              True      0.004373318974484276                     0.12         41.73113164285725 ACTIVE                         ['Fe XIII (1074.7 nm)']\n",
       "  L1-PHPMU     LHKKPP 2025-03-22T20:52:53.698 2025-03-22T20:54:17.160 CRYO-NIRSP                         1083.0 .. 1083.0        (-946.24,446.3),(-1112.2,303.82)  0.2232295274734497              725.0              eid_3_88            pid_3_88                 I activecorona               84                     nan                          None     False                       None         True                 False             False              True                       nan                  0.05308        41.731131666669285 ACTIVE                            ['He I (1083.0 nm)']\n",
       "  L1-IAITS     QZGWJQ 2025-03-22T21:28:18.060 2025-03-22T21:31:50.506 CRYO-NIRSP 1077.5276888230437 .. 1081.4360804319301      (-954.05,490.93),(-1080.56,257.64)  0.3089851140975952              725.0              eid_3_88            pid_3_88                 I activecorona              210                     nan                          None     False                       None         True                 False              True              True      0.004276139615849371                     0.12        106.22311342857289 ACTIVE     ['Fe XIII (1079.8 nm)', 'He I (1083.0 nm)']\n",
       "  L1-MSMRD     SRPYNK 2025-03-22T20:54:41.630 2025-03-22T20:56:05.092 CRYO-NIRSP                         1083.0 .. 1083.0        (-946.24,446.3),(-1112.2,303.82) 0.22329926490783691              725.0              eid_3_88            pid_3_88                 I activecorona               84                     nan                          None     False                       None         True                 False             False              True                       nan                  0.05308         41.73113164285725 ACTIVE                            ['He I (1083.0 nm)']\n",
       "  L1-NRNTB     VDQXHK 2025-03-22T21:28:18.060 2025-03-22T21:31:50.506 CRYO-NIRSP                         1083.0 .. 1083.0       (-933.06,444.91),(-1112.2,298.78)   0.634734034538269              725.0              eid_3_88            pid_3_88                 I activecorona              210                     nan                          None     False                       None         True                 False             False              True                       nan                  0.05308        106.22311342857289 ACTIVE                            ['He I (1083.0 nm)']\n",
       "  L1-XPXBZ     DBZHEL 2025-03-22T22:29:56.510 2025-03-22T22:33:28.956 CRYO-NIRSP 1077.5276887771645 .. 1081.4360802170052      (-954.04,490.93),(-1080.54,257.64)  0.3084513545036316              725.0              eid_3_88            pid_3_88                 I activecorona              210                     nan                          None     False                       None         True                 False              True              True      0.004276139430897816                     0.12        106.22311583333286 ACTIVE     ['Fe XIII (1079.8 nm)', 'He I (1083.0 nm)']\n",
       "  L1-RVPUL     YTMRFH 2025-03-22T22:35:14.465 2025-03-22T22:40:07.401 CRYO-NIRSP 1077.5424518688508 .. 1081.4512398387374    (-836.66,-371.97),(-1076.34,-645.19)  0.4714089632034302              725.0              eid_3_88            pid_3_88                 I activecorona              321                     nan                          None     False                       None         True                 False              True              True      0.004276573271210633                     0.12        146.46832985669727 ACTIVE     ['Fe XIII (1079.8 nm)', 'He I (1083.0 nm)']\n",
       "  L1-HDHWO     POTBUM 2025-03-22T22:29:56.510 2025-03-22T22:33:28.956 CRYO-NIRSP                         1083.0 .. 1083.0      (-933.04,444.91),(-1112.19,298.78)   0.634559690952301              725.0              eid_3_88            pid_3_88                 I activecorona              210                     nan                          None     False                       None         True                 False             False              True                       nan                  0.05308        106.22311583809478 ACTIVE                            ['He I (1083.0 nm)']\n",
       "  L1-WMHCV     EXAMQL 2025-03-22T22:40:34.308 2025-03-22T22:45:27.244 CRYO-NIRSP 1072.5427315741863 .. 1075.2896734649605    (-836.64,-371.92),(-1076.38,-645.24) 0.32595008611679077              725.0              eid_3_88            pid_3_88                 I activecorona              321                     nan                          None     False                       None         True                 False              True              True      0.004402150465984487                     0.12         146.4683298598191 ACTIVE                         ['Fe XIII (1074.7 nm)']\n",
       "  L1-MNELD     UKMWYO 2025-03-23T18:28:57.112 2025-03-23T18:33:50.048 CRYO-NIRSP  1077.5334752465499 .. 1081.442640535643         (1162.48,-22.9),(983.5,-271.07) 0.47293245792388916              725.0              eid_3_88            pid_3_88                 I activecorona              321                     nan                          None     False                       None         True                 False              True              True      0.004276986093099722                     0.12        146.46832978816224 ACTIVE     ['Fe XIII (1079.8 nm)', 'He I (1083.0 nm)']\n",
       "  L1-JZJJI     MNXHDS 2025-03-22T22:35:14.465 2025-03-22T22:40:07.401 CRYO-NIRSP                         1083.0 .. 1083.0    (-835.02,-416.08),(-1096.18,-618.43)    0.87566077709198              725.0              eid_3_88            pid_3_88                 I activecorona              321                     nan                          None     False                       None         True                 False             False              True                       nan                  0.05308          146.468329853582 ACTIVE                            ['He I (1083.0 nm)']\n",
       "  L1-FCVKW     TINHCV 2025-03-22T22:40:34.308 2025-03-22T22:45:27.244 CRYO-NIRSP                         1083.0 .. 1083.0    (-835.02,-416.08),(-1096.18,-618.43)  0.8747917413711548              725.0              eid_3_88            pid_3_88                 I activecorona              321                     nan                          None     False                       None         True                 False             False              True                       nan                  0.05308         146.4683298629344 ACTIVE                            ['He I (1083.0 nm)']\n",
       "  L1-HEKVO     JALRIO 2025-03-23T19:55:40.680 2025-03-23T19:57:04.142 CRYO-NIRSP 1077.5241991656242 .. 1081.4321805252202      (1114.06,-29.81),(1033.93,-264.41) 0.12320190668106079              725.0              eid_3_88            pid_3_88                 I activecorona               84                     nan                          None     False                       None         True                 False              True              True      0.004275690765422413                     0.12         41.73113166666792 ACTIVE     ['Fe XIII (1079.8 nm)', 'He I (1083.0 nm)']\n",
       "  L1-KJCVT     XUWYZY 2025-03-23T19:55:40.680 2025-03-23T19:57:04.142 CRYO-NIRSP                         1083.0 .. 1083.0       (1161.56,-84.08),(995.06,-202.98)  0.2542304992675781              725.0              eid_3_88            pid_3_88                 I activecorona               84                     nan                          None     False                       None         True                 False             False              True                       nan                  0.05308         41.73113166666792 ACTIVE                            ['He I (1083.0 nm)']\n",
       "  L1-POYDU     IGPNSO 2025-03-23T18:28:57.112 2025-03-23T18:33:50.048 CRYO-NIRSP                         1083.0 .. 1083.0       (1212.35,-79.11),(958.68,-211.53)  0.8553242683410645              725.0              eid_3_88            pid_3_88                 I activecorona              321                     nan                          None     False                       None         True                 False             False              True                       nan                  0.05308        146.46832978816224 ACTIVE                            ['He I (1083.0 nm)']\n",
       "  L1-EBEFQ     ZYWTAU 2025-03-22T20:56:32.550 2025-03-22T21:18:37.762 CRYO-NIRSP 1072.5498620513936 .. 1076.4902216119394      (-976.92,482.12),(-1064.23,246.22)  0.9960973262786865              725.0              eid_3_88            pid_3_88              IQUV activecorona              720                     nan            107.06574432181796     False                       None         True                 False              True              True      0.004373318047220583                     0.12         662.6064898388918 ACTIVE                         ['Fe XIII (1074.7 nm)']\n",
       "  L1-LHYYP     RVKTLI 2025-03-23T19:57:28.628 2025-03-23T19:58:52.090 CRYO-NIRSP 1072.5444493995174 .. 1076.4859809021843      (1114.07,-29.69),(1033.92,-264.53) 0.12228995561599731              725.0              eid_3_88            pid_3_88                 I activecorona               84                     nan                          None     False                       None         True                 False              True              True      0.004374618759896831                     0.12        41.731131654760304 ACTIVE                         ['Fe XIII (1074.7 nm)']\n",
       "  L1-JANSI     LHTTPP 2025-03-23T19:57:28.628 2025-03-23T19:58:52.090 CRYO-NIRSP                         1083.0 .. 1083.0       (1161.56,-84.08),(995.06,-202.98)  0.2543780207633972              725.0              eid_3_88            pid_3_88                 I activecorona               84                     nan                          None     False                       None         True                 False             False              True                       nan                  0.05308        41.731131654760304 ACTIVE                            ['He I (1083.0 nm)']\n",
       "  L1-TIMLC     OQSMKH 2025-03-23T18:34:16.972 2025-03-23T18:39:09.908 CRYO-NIRSP                         1083.0 .. 1083.0       (1212.35,-79.12),(958.68,-211.53)   0.855485200881958              725.0              eid_3_88            pid_3_88                 I activecorona              321                     nan                          None     False                       None         True                 False             False              True                       nan                  0.05308        146.46832977881678 ACTIVE                            ['He I (1083.0 nm)']\n",
       "  L1-EXJWQ     KJNETD 2025-03-23T18:34:16.972 2025-03-23T18:39:09.908 CRYO-NIRSP  1072.526286288652 .. 1076.4644591389585        (1162.5,-22.84),(983.49,-271.12)  0.4672783613204956              725.0              eid_3_88            pid_3_88                 I activecorona              321                     nan                          None     False                       None         True                 False              True              True      0.004375747611451685                     0.12        146.46832977881678 ACTIVE                         ['Fe XIII (1074.7 nm)']\n",
       "  L1-ZYRFA     ZYVCAU 2025-03-23T20:57:03.894 2025-03-23T20:58:27.356 CRYO-NIRSP  1072.544447739151 .. 1076.4859816937853      (1114.06,-29.69),(1033.92,-264.53) 0.12326627969741821              725.0              eid_3_88            pid_3_88                 I activecorona               84                     nan                          None     False                       None         True                 False              True              True      0.004374621481281054                     0.12         41.73113167856948 ACTIVE                         ['Fe XIII (1074.7 nm)']\n",
       "  L1-WMOMV     WMQNVA 2025-03-23T20:57:03.894 2025-03-23T20:58:27.356 CRYO-NIRSP                         1083.0 .. 1083.0       (1161.55,-84.09),(995.06,-202.97)  0.2539461851119995              725.0              eid_3_88            pid_3_88                 I activecorona               84                     nan                          None     False                       None         True                 False             False              True                       nan                  0.05308         41.73113167856948 ACTIVE                            ['He I (1083.0 nm)']\n",
       "  L1-QZSRJ     QZRVJQ 2025-03-23T20:58:51.807 2025-03-23T21:00:15.269 CRYO-NIRSP 1077.5241991304677 .. 1081.4321806294515      (1114.03,-29.81),(1033.93,-264.41) 0.12461274862289429              725.0              eid_3_88            pid_3_88                 I activecorona               84                     nan                          None     False                       None         True                 False              True              True      0.004275690917925378                     0.12         41.73113166666221 ACTIVE     ['Fe XIII (1079.8 nm)', 'He I (1083.0 nm)']\n",
       "  L1-POFEU     BPFDXN 2025-03-23T21:31:20.109 2025-03-23T21:32:43.571 CRYO-NIRSP   1077.531695251978 .. 1081.440640946321      (1114.04,-29.75),(1033.92,-264.48) 0.12378931045532227              725.0              eid_3_88            pid_3_88                 I activecorona               84                     nan                          None     False                       None         True                 False              True              True      0.004276745836261799                     0.12         41.73113167857268 ACTIVE     ['Fe XIII (1079.8 nm)', 'He I (1083.0 nm)']\n",
       "  L1-VDKQH     VDJZHK 2025-03-23T20:58:51.807 2025-03-23T21:00:15.269 CRYO-NIRSP                         1083.0 .. 1083.0       (1161.55,-84.09),(995.05,-202.97)  0.2539461851119995              725.0              eid_3_88            pid_3_88                 I activecorona               84                     nan                          None     False                       None         True                 False             False              True                       nan                  0.05308         41.73113166666221 ACTIVE                            ['He I (1083.0 nm)']\n",
       "  L1-TJTRC     WMESVA 2025-03-22T20:56:32.550 2025-03-22T21:18:37.762 CRYO-NIRSP                         1083.0 .. 1083.0      (-968.11,438.25),(-1090.35,311.87)  1.9172832369804382              725.0              eid_3_88            pid_3_88              IQUV activecorona              720                     nan           0.40271887372898874     False                       None         True                 False             False              True                       nan                  0.05308         662.6064898388918 ACTIVE                            ['He I (1083.0 nm)']\n",
       "  L1-YTVNF     DBAOEL 2025-03-23T21:33:08.066 2025-03-23T21:34:31.528 CRYO-NIRSP 1072.5288719687828 .. 1075.2894429076914       (1114.05,-29.69),(1033.9,-264.53) 0.08620083332061768              725.0              eid_3_88            pid_3_88                 I activecorona               84                     nan                          None     False                       None         True                 False              True              True      0.004402824463969016                     0.12         41.73113166666963 ACTIVE                         ['Fe XIII (1074.7 nm)']\n",
       "  L1-GWPKR     GWOJRP 2025-03-23T21:31:20.109 2025-03-23T21:32:43.571 CRYO-NIRSP                         1083.0 .. 1083.0      (1161.54,-86.06),(1009.31,-204.45) 0.22458404302597046              725.0              eid_3_88            pid_3_88                 I activecorona               84                     nan                          None     False                       None         True                 False             False              True                       nan                  0.05308         41.73113167857268 ACTIVE                            ['He I (1083.0 nm)']\n",
       "  L1-MNQPD     POCXUM 2025-03-23T21:33:08.066 2025-03-23T21:34:31.528 CRYO-NIRSP                         1083.0 .. 1083.0       (1161.54,-86.06),(1009.3,-204.45) 0.22458672523498535              725.0              eid_3_88            pid_3_88                 I activecorona               84                     nan                          None     False                       None         True                 False             False              True                       nan                  0.05308         41.73113166666963 ACTIVE                            ['He I (1083.0 nm)']\n",
       "  L1-ZUZUA     KJSDTD 2025-03-22T19:23:16.874 2025-03-22T20:20:46.921 CRYO-NIRSP  1072.548086471028 .. 1076.4889810554344     (-976.92,482.12),(-1214.94,-167.71)   5.579874515533447              725.0              eid_3_88            pid_3_88                 I activecorona             3800                     nan                          None     False                       None         True                 False              True              True      0.004373911858386638                     0.12        1725.0239348557839 ACTIVE                         ['Fe XIII (1074.7 nm)']\n",
       "  L1-KJMHT     EXGDQL 2025-03-23T22:14:18.728 2025-03-23T22:19:11.664 CRYO-NIRSP 1077.5232943491742 .. 1081.3769714888465      (1143.33,-172.58),(935.59,-435.34)  0.4664576053619385              725.0              eid_3_88            pid_3_88                 I activecorona              321                     nan                          None     False                       None         True                 False              True              True      0.004277111142810561                     0.12          146.468329866055 ACTIVE     ['Fe XIII (1079.8 nm)', 'He I (1083.0 nm)']\n",
       "  L1-KQOFT     EXZCQL 2025-03-22T18:04:24.714 2025-03-22T19:06:19.382 CRYO-NIRSP 1072.5498619797888 .. 1076.4902215793743      (-906.96,508.09),(-1127.01,240.26)  2.7198591828346252              725.0              eid_3_88            pid_3_88              IQUV activecorona             1968                     nan            104.89232217670079     False                       None         True                 False              True              True      0.004373318090549982                     0.12         1857.334113997971 ACTIVE                         ['Fe XIII (1074.7 nm)']\n",
       "  L1-UKWGY     TIBOCV 2025-03-23T22:14:18.728 2025-03-23T22:19:11.664 CRYO-NIRSP                         1083.0 .. 1083.0      (1182.45,-221.91),(921.57,-386.22)  0.8560699224472046              725.0              eid_3_88            pid_3_88                 I activecorona              321                     nan                          None     False                       None         True                 False             False              True                       nan                  0.05308          146.468329866055 ACTIVE                            ['He I (1083.0 nm)']\n",
       "  L1-XURAZ     AFORGG 2025-03-23T22:19:38.590 2025-03-23T22:24:31.526 CRYO-NIRSP 1072.5378820600226 .. 1076.4762780799874       (1143.34,-172.52),(935.58,-435.4) 0.47412872314453125              725.0              eid_3_88            pid_3_88                 I activecorona              321                     nan                          None     False                       None         True                 False              True              True      0.004375995577738622                     0.12         146.4683298535824 ACTIVE                         ['Fe XIII (1074.7 nm)']\n",
       "  L1-VDTJH     KJBQTD 2025-03-23T23:30:40.883 2025-03-23T23:35:33.819 CRYO-NIRSP  1077.5370588143405 .. 1081.445558128196     (-846.28,-355.28),(-1083.6,-628.04)  0.4766714572906494              725.0              eid_3_88            pid_3_88                 I activecorona              321                     nan                          None     False                       None         True                 False              True              True      0.004276257454983993                     0.12        146.46832986603297 ACTIVE     ['Fe XIII (1079.8 nm)', 'He I (1083.0 nm)']\n",
       "  L1-HETHO     NLYNBO 2025-03-23T22:19:38.590 2025-03-23T22:24:31.526 CRYO-NIRSP                         1083.0 .. 1083.0      (1182.45,-221.91),(921.57,-386.22)  0.8569604158401489              725.0              eid_3_88            pid_3_88                 I activecorona              321                     nan                          None     False                       None         True                 False             False              True                       nan                  0.05308         146.4683298535824 ACTIVE                            ['He I (1083.0 nm)']\n",
       "  L1-KQKWT     BPYMXN 2025-03-22T21:32:14.967 2025-03-22T22:29:32.012 CRYO-NIRSP 1072.5480839433055 .. 1076.4889806568704       (-937.07,498.9),(-1080.58,251.25)   4.900712370872498              725.0              eid_3_88            pid_3_88                 I activecorona             3360                     nan                          None     False                       None         True                 False              True              True       0.00437391422149266                     0.12        1718.5229650628016 ACTIVE                         ['Fe XIII (1074.7 nm)']\n",
       "  L1-BPGHX     HESQOY 2025-03-23T23:36:00.749 2025-03-23T23:40:53.685 CRYO-NIRSP  1072.537087198626 .. 1076.4802641650074     (-846.29,-355.28),(-1083.6,-628.04) 0.46896278858184814              725.0              eid_3_88            pid_3_88                 I activecorona              321                     nan                          None     False                       None         True                 False              True              True      0.004376445023730578                     0.12         146.4683298598148 ACTIVE                         ['Fe XIII (1074.7 nm)']\n",
       "  L1-GWUTR     CSZSML 2025-03-23T23:36:00.749 2025-03-23T23:40:53.685 CRYO-NIRSP                         1083.0 .. 1083.0    (-843.55,-400.41),(-1105.04,-599.88)   0.859854519367218              725.0              eid_3_88            pid_3_88                 I activecorona              321                     nan                          None     False                       None         True                 False             False              True                       nan                  0.05308         146.4683298598148 ACTIVE                            ['He I (1083.0 nm)']\n",
       "  L1-AFLIG     YTDLFH 2025-03-23T21:34:58.837 2025-03-23T21:57:04.049 CRYO-NIRSP 1072.5288719504408 .. 1075.2894429158553      (1091.89,-12.13),(1057.35,-261.05)  0.7058367133140564              725.0              eid_3_88            pid_3_88              IQUV activecorona              720                     nan             107.8272086811918     False                       None         True                 False              True              True      0.004402824506243292                     0.12         662.6064898611094 ACTIVE                         ['Fe XIII (1074.7 nm)']\n",
       "  L1-YTHBF     JAPLIO 2025-03-23T23:41:26.439 2025-03-24T00:12:17.295 CRYO-NIRSP  1072.537086851923 .. 1076.4802641374895    (-846.28,-355.28),(-1084.13,-628.31)  1.3629403710365295              725.0              eid_3_88            pid_3_88              IQUV activecorona              984                     nan             97.62749389528555     False                       None         True                 False              True              True      0.004376445377987162                     0.12         925.4280542479607 ACTIVE                         ['Fe XIII (1074.7 nm)']\n",
       "  L1-EXIVQ     MNZODS 2025-03-23T21:34:58.837 2025-03-23T21:57:04.049 CRYO-NIRSP                         1083.0 .. 1083.0      (1138.47,-89.23),(1032.39,-201.29)  1.9231787323951721              725.0              eid_3_88            pid_3_88              IQUV activecorona              720                     nan            0.4002234740173465     False                       None         True                 False             False              True                       nan                  0.05308         662.6064898611094 ACTIVE                            ['He I (1083.0 nm)']\n",
       "  L1-OEOYK     GWHQRP 2025-03-22T21:32:14.967 2025-03-22T22:29:32.012 CRYO-NIRSP                         1083.0 .. 1083.0       (-933.04,444.91),(-1112.2,298.77)  10.152391791343689              725.0              eid_3_88            pid_3_88                 I activecorona             3360                     nan                          None     False                       None         True                 False             False              True                       nan                  0.05308        1718.5229650639924 ACTIVE                            ['He I (1083.0 nm)']\n",
       "  L1-DBIUE     XUVFZY 2025-03-23T23:41:26.439 2025-03-24T00:13:52.614 CRYO-NIRSP                         1083.0 .. 1083.0    (-843.54,-400.41),(-1105.04,-599.88)   2.758217453956604              725.0              eid_3_88            pid_3_88              IQUV activecorona             1032                     nan            0.8023748744846879     False                       None         True                 False             False              True                       nan                  0.05308         970.9892453914663 ACTIVE                            ['He I (1083.0 nm)']\n",
       "  L1-GWLOR     AFVAGG 2025-03-22T22:45:59.684 2025-03-22T23:47:54.352 CRYO-NIRSP 1072.5427370737027 .. 1075.2896764202933    (-836.63,-371.91),(-1076.89,-645.52)   1.946226954460144              725.0              eid_3_88            pid_3_88              IQUV activecorona             1968                     nan             96.18369110689581     False                       None         True                 False              True              True      0.004402146388767019                     0.12         1857.334114044719 ACTIVE                         ['Fe XIII (1074.7 nm)']\n",
       "  L1-AFRJG     CSXIML 2025-03-23T18:39:42.533 2025-03-23T19:41:37.201 CRYO-NIRSP                         1083.0 .. 1083.0       (1212.35,-79.12),(958.68,-211.52)   5.241902768611908              725.0              eid_3_88            pid_3_88              IQUV activecorona             1968                     nan            0.5962506058242287     False                       None         True                 False             False              True                       nan                  0.05308        1857.3341140304883 ACTIVE                            ['He I (1083.0 nm)']\n",
       "  L1-UKFAY     HEIEOY 2025-03-23T18:39:42.533 2025-03-23T19:41:37.201 CRYO-NIRSP 1072.5262876555166 .. 1076.4644585416142        (1163.07,-22.84),(983.5,-271.19)   2.718445658683777              725.0              eid_3_88            pid_3_88              IQUV activecorona             1968                     nan             102.5895429525778     False                       None         True                 False              True              True      0.004375745428997401                     0.12         1857.334114030488 ACTIVE                         ['Fe XIII (1074.7 nm)']\n",
       "  L1-WMKDV     OQNDKH 2025-03-23T23:30:40.883 2025-03-23T23:35:33.819 CRYO-NIRSP                         1083.0 .. 1083.0    (-843.54,-400.41),(-1105.04,-599.88)  0.8606994152069092              725.0              eid_3_88            pid_3_88                 I activecorona              321                     nan                          None     False                       None         True                 False             False              True                       nan                  0.05308        146.46832986603297 ACTIVE                            ['He I (1083.0 nm)']\n",
       "  L1-FCHTW     FCEIWI 2025-03-23T19:59:13.759 2025-03-23T20:56:43.806 CRYO-NIRSP   1072.544450784819 .. 1076.485980306965      (1156.17,416.76),(1057.36,-261.06)   5.563054382801056              725.0              eid_3_88            pid_3_88                 I activecorona             3800                     nan                          None     False                       None         True                 False              True              True      0.004374616561760312                     0.12        1725.0239349892122 ACTIVE                         ['Fe XIII (1074.7 nm)']\n",
       "  L1-VDOEH     NLUSBO 2025-03-22T22:45:59.684 2025-03-22T23:47:54.352 CRYO-NIRSP                         1083.0 .. 1083.0    (-835.01,-416.08),(-1096.17,-618.43)  5.3330254554748535              725.0              eid_3_88            pid_3_88              IQUV activecorona             1968                     nan            2.3131121822474565     False                       None         True                 False             False              True                       nan                  0.05308         1857.334114044719 ACTIVE                            ['He I (1083.0 nm)']\n",
       "  L1-WCWTV     OQICKH 2025-03-22T19:23:16.874 2025-03-22T20:20:46.921 CRYO-NIRSP                         1083.0 .. 1083.0      (-954.93,436.86),(-1090.35,306.83)  11.503645777702332              725.0              eid_3_88            pid_3_88                 I activecorona             3800                     nan                          None     False                       None         True                 False             False              True                       nan                  0.05308        1725.0239348557839 ACTIVE                            ['He I (1083.0 nm)']\n",
       "  L1-UOPXY     TISVCV 2025-03-22T18:04:24.714 2025-03-22T19:06:19.382 CRYO-NIRSP                         1083.0 .. 1083.0      (-898.15,464.02),(-1160.33,286.09)   5.236948728561401              725.0              eid_3_88            pid_3_88              IQUV activecorona             1968                     nan           0.41069897623966645     False                       None         True                 False             False              True                       nan                  0.05308         1857.334113997971 ACTIVE                            ['He I (1083.0 nm)']\n",
       "  L1-SRZGN     UKDVYO 2025-03-23T22:25:03.863 2025-03-23T23:26:58.531 CRYO-NIRSP  1072.5378818921495 .. 1076.476278236552      (1143.89,-172.52),(935.57,-435.56)  2.7402761578559875              725.0              eid_3_88            pid_3_88              IQUV activecorona             1968                     nan             82.72972645939792     False                       None         True                 False              True              True      0.004375995938225027                     0.12        1857.3341140569125 ACTIVE                         ['Fe XIII (1074.7 nm)']\n",
       "  L1-SRXAN     SRUFNK 2025-03-23T19:59:13.759 2025-03-23T20:56:43.806 CRYO-NIRSP                         1083.0 .. 1083.0      (1138.48,-87.25),(1018.14,-199.82)  11.513637006282806              725.0              eid_3_88            pid_3_88                 I activecorona             3800                     nan                          None     False                       None         True                 False             False              True                       nan                  0.05308        1725.0239349892122 ACTIVE                            ['He I (1083.0 nm)']\n",
       "  L1-LHFFP     IGUBSO 2025-03-23T22:25:03.863 2025-03-23T23:26:58.531 CRYO-NIRSP                         1083.0 .. 1083.0      (1182.44,-221.91),(921.56,-386.21)    5.25509387254715              725.0              eid_3_88            pid_3_88              IQUV activecorona             1968                     nan            0.6524338718081005     False                       None         True                 False             False              True                       nan                  0.05308        1857.3341140569123 ACTIVE                            ['He I (1083.0 nm)']\n",
       "  L1-NLGEB     TIXKCV 2025-03-25T23:50:43.106 2025-03-26T00:13:03.125 CRYO-NIRSP                         1083.0 .. 1083.0      (1202.36,-72.77),(1075.45,-263.34)   1.934020221233368              725.0              eid_3_62            pid_3_62              IQUV activecorona              728                     nan            0.5194614169362283      True 2025-09-26T13:24:26.010000        False                 False             False              True                       nan                  0.05308         670.0099136098818 ACTIVE                            ['He I (1083.0 nm)']\n",
       "  L1-JAXBI     ZYHMAU 2025-03-24T22:06:30.195 2025-03-24T23:13:45.061 CRYO-NIRSP  1072.527053089723 .. 1076.4639749713363        (1110.15,690.53),(869.33,499.57)   3.001464307308197              725.0              eid_3_62            pid_3_62              IQUV activecorona             2184                     nan            100.95028073446926      True 2025-09-26T13:24:26.010000        False                 False              True              True      0.004374357646237021                     0.12        2017.4331686611752 ACTIVE                         ['Fe XIII (1074.7 nm)']\n",
       "  L1-KJDOT     FCQSWI 2025-03-24T20:36:57.321 2025-03-24T21:57:11.470 CRYO-NIRSP 1072.5276436764502 .. 1076.4600778911279         (1064.53,702.71),(889.01,471.4)   6.971616446971893              725.0              eid_3_62            pid_3_62                 I activecorona             4860                     nan                          None      True 2025-09-26T13:24:26.010000        False                 False              True              True      0.004374231606983017                     0.12        2407.0748162203704 ACTIVE                         ['Fe XIII (1074.7 nm)']\n",
       "  L1-EXSHQ     LHCCPP 2025-03-24T19:07:55.922 2025-03-24T20:27:59.107 CRYO-NIRSP                         1083.0 .. 1083.0        (1038.11,663.05),(913.74,536.55)  12.720692753791809              725.0              eid_3_62            pid_3_62                 I activecorona             5290                     nan                          None      True 2025-09-26T13:24:26.010000        False                 False             False              True                       nan                  0.05308         2401.592943106809 ACTIVE                            ['He I (1083.0 nm)']\n",
       "  L1-GWYCR     POMZUM 2025-03-25T20:49:20.882 2025-03-25T22:09:35.031 CRYO-NIRSP                         1083.0 .. 1083.0     (1222.38,-119.64),(1083.88,-226.61)  11.546381413936615              725.0              eid_3_62            pid_3_62                 I activecorona             4860                     nan                          None      True 2025-09-26T13:24:26.010000        False                 False             False              True                       nan                  0.05308         2407.074816429626 ACTIVE                            ['He I (1083.0 nm)']\n",
       "  L1-AFPSG     RVTCLI 2025-03-24T19:07:55.922 2025-03-24T20:27:59.107 CRYO-NIRSP 1072.5270303941481 .. 1076.4683874088682        (1088.62,654.11),(335.44,187.92)   7.656043767929077              725.0              eid_3_62            pid_3_62                 I activecorona             5290                     nan                          None      True 2025-09-26T13:24:26.010000        False                 False              True              True      0.004374425099578359                     0.12         2401.592943106809 ACTIVE                         ['Fe XIII (1074.7 nm)']\n",
       "  L1-TIQYC     YTEPFH 2025-03-25T22:42:57.374 2025-03-25T23:50:12.240 CRYO-NIRSP  1072.5377177285357 .. 1076.474536979368     (1260.65,-120.59),(1020.02,-240.03)  3.0005228519439697              725.0              eid_3_62            pid_3_62              IQUV activecorona             2184                     nan            102.31438519901224      True 2025-09-26T13:24:26.010000        False                 False              True              True      0.004374243612035794                     0.12        2017.4331686904727 ACTIVE                         ['Fe XIII (1074.7 nm)']\n",
       "  L1-VDCIH     BPWEXN 2025-03-25T19:24:34.338 2025-03-25T20:44:37.523 CRYO-NIRSP 1072.5253504108362 .. 1076.5220256400394        (1253.8,-67.72),(285.81,-198.58)   7.740774750709534              725.0              eid_3_62            pid_3_62                 I activecorona             5290                     nan                          None      True 2025-09-26T13:24:26.010000        False                 False              True              True      0.004372730010069216                     0.12         2401.592943295468 ACTIVE                         ['Fe XIII (1074.7 nm)']\n",
       "  L1-WMTEV     GWKIRP 2025-03-25T19:24:34.338 2025-03-25T20:44:37.523 CRYO-NIRSP                         1083.0 .. 1083.0       (1183.93,-114.2),(1081.84,-221.4)  12.586281895637512              725.0              eid_3_62            pid_3_62                 I activecorona             5290                     nan                          None      True 2025-09-26T13:24:26.010000        False                 False             False              True                       nan                  0.05308         2401.592943295468 ACTIVE                            ['He I (1083.0 nm)']\n",
       "  L1-POVJU     DBGKEL 2025-03-25T20:49:20.882 2025-03-25T22:09:35.031 CRYO-NIRSP   1072.52475832127 .. 1076.5175369631036      (1175.97,-56.54),(1074.57,-297.11)   7.081584334373474              725.0              eid_3_62            pid_3_62                 I activecorona             4860                     nan                          None      True 2025-09-26T13:24:26.010000        False                 False              True              True      0.004373251524461762                     0.12         2407.074816429831 ACTIVE                         ['Fe XIII (1074.7 nm)']\n",
       "  L1-UKVRY     SRYWNK 2025-03-24T20:36:57.321 2025-03-24T21:57:11.470 CRYO-NIRSP                         1083.0 .. 1083.0         (1077.19,679.14),(906.6,522.51)  14.919160008430481              725.0              eid_3_62            pid_3_62                 I activecorona             4860                     nan                          None      True 2025-09-26T13:24:26.010000        False                 False             False              True                       nan                  0.05308         2407.074816220165 ACTIVE                            ['He I (1083.0 nm)']\n",
       "  L1-HEMKO     WMJBVA 2025-03-24T22:06:30.195 2025-03-24T23:13:45.061 CRYO-NIRSP                         1083.0 .. 1083.0        (1069.44,705.27),(892.11,501.78)   5.830803215503693              725.0              eid_3_62            pid_3_62              IQUV activecorona             2184                     nan            0.5474611662237368      True 2025-09-26T13:24:26.010000        False                 False             False              True                       nan                  0.05308        2017.4331686611752 ACTIVE                            ['He I (1083.0 nm)']\n",
       "  L1-UKHLY     AFKLGG 2025-03-26T20:03:05.290 2025-03-26T20:09:10.912 CRYO-NIRSP                         1083.0 .. 1083.0       (945.58,-563.75),(743.26,-748.93)  0.9613010287284851              725.0              eid_3_19            pid_3_19                 I  quietcorona              402                     nan                          None      True 2025-09-27T01:15:26.529000        False                 False             False              True                       nan                  0.05308        182.81141075622082 ACTIVE                            ['He I (1083.0 nm)']\n",
       "  L1-KJEKT     IGYXSO 2025-03-26T20:03:05.290 2025-03-26T20:09:10.912 CRYO-NIRSP   1072.5247069515556 .. 1076.46758694297       (937.29,-537.25),(721.96,-776.16)  0.5924811959266663              725.0              eid_3_19            pid_3_19                 I  quietcorona              402                     nan                          None      True 2025-09-27T01:15:26.529000        False                 False              True              True      0.004376115417774077                     0.12        182.81141075622082 ACTIVE                         ['Fe XIII (1074.7 nm)']\n",
       "  L1-MNIYD     MNAKDS 2025-03-25T22:42:57.374 2025-03-25T23:50:12.240 CRYO-NIRSP                         1083.0 .. 1083.0      (1202.37,-72.77),(1075.46,-263.34)   5.803278386592865              725.0              eid_3_62            pid_3_62              IQUV activecorona             2184                     nan            0.5212251966819715      True 2025-09-26T13:24:26.010000        False                 False             False              True                       nan                  0.05308        2017.4331686904727 ACTIVE                            ['He I (1083.0 nm)']\n",
       "  L1-WMCQV     FCJNWI 2025-03-26T22:24:33.126 2025-03-26T22:46:08.725 CRYO-NIRSP 1077.5272693574657 .. 1081.4357303444872        (903.69,-564.49),(756.84,-749.8)   0.996260941028595              725.0              eid_3_19            pid_3_19              IQUV  quietcorona              704                     nan             72.92025253078923      True 2025-09-27T01:15:26.529000        False                 False              True              True      0.004276215521905272                     0.12         647.7996391363713 ACTIVE     ['Fe XIII (1079.8 nm)', 'He I (1083.0 nm)']\n",
       "  L1-RVWVL     RVCMLI 2025-03-26T22:02:26.753 2025-03-26T22:24:02.352 CRYO-NIRSP   1072.52729620393 .. 1076.4659095663837          (903.7,-564.5),(756.83,-749.8)  0.9877985715866089              725.0              eid_3_19            pid_3_19              IQUV  quietcorona              704                     nan             77.86964058516524      True 2025-09-27T01:15:26.529000        False                 False              True              True      0.004376237069392952                     0.12         647.7996391590892 ACTIVE                         ['Fe XIII (1074.7 nm)']\n",
       "  L1-AFUNG     JAUPIO 2025-03-25T23:50:43.106 2025-03-26T00:13:03.125 CRYO-NIRSP  1077.519688845687 .. 1081.4286488305165     (1260.52,-121.07),(1020.06,-240.02)  1.0141217708587646              725.0              eid_3_62            pid_3_62              IQUV activecorona              728                     nan            109.39350300715655      True 2025-09-26T13:24:26.010000        False                 False              True              True      0.004276761471367085                     0.12         670.0099136098818 ACTIVE     ['Fe XIII (1079.8 nm)', 'He I (1083.0 nm)']\n",
       "  L1-JAZXI     LHMMPP 2025-03-26T22:02:26.753 2025-03-26T22:24:02.352 CRYO-NIRSP                         1083.0 .. 1083.0       (910.68,-591.65),(771.71,-730.95)   1.899038851261139              725.0              eid_3_19            pid_3_19              IQUV  quietcorona              704                     nan             11.41184529310279      True 2025-09-27T01:15:26.529000        False                 False             False              True                       nan                  0.05308         647.7996391590892 ACTIVE                            ['He I (1083.0 nm)']\n",
       "  L1-FCTDW     SRFVNK 2025-03-26T22:24:33.126 2025-03-26T22:46:08.725 CRYO-NIRSP                         1083.0 .. 1083.0        (910.67,-591.65),(771.7,-730.95)  2.1595805883407593              725.0              eid_3_19            pid_3_19              IQUV  quietcorona              704                     nan             9.009263176605165      True 2025-09-27T01:15:26.529000        False                 False             False              True                       nan                  0.05308         647.7996391363713 ACTIVE                            ['He I (1083.0 nm)']\n",
       "  L1-POOSU     RVMDLI 2025-03-27T22:03:42.200 2025-03-27T22:12:41.217       VISP   853.5737470153199 .. 854.7195766245643       (-448.35,346.49),(-501.23,268.64)  0.8496406674385071  128.0216338028169              eid_3_54            pid_3_54              IQUV      sunspot              444    0.049015568020943104            0.9758064252520432      True 2025-10-01T21:57:24.340000        False                 False              True              True      0.001255016001362943      0.12009777668278686         269.5083792432426 ACTIVE                           ['Ca II (854.21 nm)']\n",
       "  L1-GWWDR     JAYUIO 2025-03-27T22:03:42.248 2025-03-27T22:12:41.265       VISP   589.1835216666277 .. 589.9380234970257         (-450.5,337.33),(-497.2,272.81)  0.8372595906257629 223.96394366197183              eid_3_54            pid_3_54              IQUV      sunspot              444    0.049015568020943104            0.9967336883155294      True 2025-10-01T21:57:24.340000        False                 False              True              True      0.000834625918581822          0.1180519058493        269.50834418017945 ACTIVE                         ['Na I D1 (589.59 nm)']\n",
       "  L1-BPPTX     LHDDPP 2025-03-27T22:03:42.232 2025-03-27T22:12:41.249       VISP   629.7062939158873 .. 630.6274168904545       (-451.63,330.47),(-493.72,275.49)  0.8553832769393921 192.03245070422534              eid_3_54            pid_3_54              IQUV      sunspot              444    0.049015568020943104            0.9937335607195155      True 2025-10-01T21:57:24.340000        False                 False              True              True      0.000989390950125888      0.11525456809978699         269.5083792162156 ACTIVE        ['Fe I (630.15 nm)', 'Fe I (630.25 nm)']\n",
       "  L1-SRRPN     UKQOYO 2025-03-27T20:50:14.865 2025-03-27T21:18:49.919       VISP   589.1835216666277 .. 589.9380234970257       (-399.69,367.23),(-491.94,281.18)  2.6943567395210266 223.96394366197183              eid_3_54            pid_3_54              IQUV      sunspot             1404      0.0519448297485031            0.9888495610739256      True 2025-10-01T21:57:24.340000        False                 False              True              True      0.000834625918581822          0.1180519058493         857.5269894358939 ACTIVE                         ['Na I D1 (589.59 nm)']\n",
       "  L1-WMMJV     KJZITD 2025-03-27T20:50:14.817 2025-03-27T21:18:49.871       VISP   853.5737470153199 .. 854.7195766245643       (-397.91,376.22),(-495.97,277.01)  2.7297377586364746  128.0216338028169              eid_3_54            pid_3_54              IQUV      sunspot             1404      0.0519448297485031            0.9652804863671389      True 2025-10-01T21:57:24.340000        False                 False              True              True      0.001255016001362943      0.12009777668278686         857.5270250455908 ACTIVE                           ['Ca II (854.21 nm)']\n",
       "  L1-JAAZI     NLVZBO 2025-03-27T19:28:01.832 2025-03-27T19:56:36.886       VISP   589.1835216666277 .. 589.9380234970257       (-422.87,367.23),(-515.13,281.16)  2.6855215430259705 223.96394366197183              eid_3_54            pid_3_54              IQUV      sunspot             1404     0.04719410346145826            1.0120159880657944      True 2025-10-01T21:57:24.340000        False                 False              True              True      0.000834625918581822          0.1180519058493         857.5268368433115 ACTIVE                         ['Na I D1 (589.59 nm)']\n",
       "  L1-KJJCT     TIZTCV 2025-03-27T18:49:32.626 2025-03-27T19:18:07.679       VISP   629.7062939158873 .. 630.6274168904545       (-470.82,368.82),(-558.16,292.44)  2.7324816584587097 192.03245070422534              eid_3_54            pid_3_54              IQUV      sunspot             1404     0.05080772571320394            1.0258327412675774      True 2025-10-01T21:57:24.340000        False                 False              True              True      0.000989390950125888      0.11525456809978699         857.5267166353271 ACTIVE        ['Fe I (630.15 nm)', 'Fe I (630.25 nm)']\n",
       "  L1-HEECO     EXPJQL 2025-03-27T18:49:32.594 2025-03-27T19:18:07.647       VISP   853.5737470153199 .. 854.7195766245643       (-467.61,384.82),(-565.67,285.59)  2.7108845114707947  128.0216338028169              eid_3_54            pid_3_54              IQUV      sunspot             1404     0.05080772571320394            0.9850670365111848      True 2025-10-01T21:57:24.340000        False                 False              True              True      0.001255016001362943      0.12009777668278686         857.5267166296387 ACTIVE                           ['Ca II (854.21 nm)']\n",
       "  L1-IGAQS     YTQUFH 2025-03-27T18:49:32.642 2025-03-27T19:18:07.695       VISP   589.1835216666277 .. 589.9380234970257       (-469.38,375.83),(-561.65,289.75)  2.6849421858787537 223.96394366197183              eid_3_54            pid_3_54              IQUV      sunspot             1404     0.05080772571320394            1.0331341282029105      True 2025-10-01T21:57:24.340000        False                 False              True              True      0.000834625918581822          0.1180519058493         857.5266781680903 ACTIVE                         ['Na I D1 (589.59 nm)']\n",
       "  L1-RVVHL     IGFZSO 2025-03-27T19:28:01.784 2025-03-27T19:56:36.838       VISP   853.5737470153199 .. 854.7195766245643          (-421.09,376.22),(-519.15,277)  2.7116811275482178  128.0216338028169              eid_3_54            pid_3_54              IQUV      sunspot             1404     0.04719410346145826            0.9788305795143871      True 2025-10-01T21:57:24.340000        False                 False              True              True      0.001255016001362943      0.12009777668278686         857.5268710341854 ACTIVE                           ['Ca II (854.21 nm)']\n",
       "  L1-FCCEW     OQXQKH 2025-03-27T20:50:14.849 2025-03-27T21:18:49.903       VISP   629.7062939158873 .. 630.6274168904545       (-401.12,360.22),(-488.46,283.86)  2.7524399757385254 192.03245070422534              eid_3_54            pid_3_54              IQUV      sunspot             1404      0.0519448297485031            0.9868397040441688      True 2025-10-01T21:57:24.340000        False                 False              True              True      0.000989390950125888      0.11525456809978699         857.5270250455811 ACTIVE        ['Fe I (630.15 nm)', 'Fe I (630.25 nm)']\n",
       "  L1-DBBWE     SRWHNK 2025-03-27T22:18:45.330 2025-03-27T22:47:20.384       VISP   589.1835216666277 .. 589.9380234970257       (-388.61,360.04),(-480.87,273.99)  2.6827213168144226 223.96394366197183              eid_3_54            pid_3_54              IQUV      sunspot             1404     0.04296621352818565             0.990995644605944      True 2025-10-01T21:57:24.340000        False                 False              True              True      0.000834625918581822          0.1180519058493         857.5267629401726 ACTIVE                         ['Na I D1 (589.59 nm)']\n",
       "  L1-QZZYJ     XUOVZY 2025-03-27T21:27:27.091 2025-03-27T21:56:02.145       VISP   853.5737470153199 .. 854.7195766245643       (-471.38,353.33),(-569.44,254.13)  2.7241668105125427  128.0216338028169              eid_3_54            pid_3_54              IQUV      sunspot             1404     0.05947530745035878            0.9733359736735495      True 2025-10-01T21:57:24.340000        False                 False              True              True      0.001255016001362943      0.12009777668278686         857.5267696096872 ACTIVE                           ['Ca II (854.21 nm)']\n",
       "  L1-VDDNH     HEBIOY 2025-03-27T21:27:27.123 2025-03-27T21:56:02.177       VISP   629.7062939158873 .. 630.6274168904545        (-474.6,337.34),(-561.93,260.97)    2.74858295917511 192.03245070422534              eid_3_54            pid_3_54              IQUV      sunspot             1404     0.05947530745035878            0.9940622153080696      True 2025-10-01T21:57:24.340000        False                 False              True              True      0.000989390950125888      0.11525456809978699          857.526776732194 ACTIVE        ['Fe I (630.15 nm)', 'Fe I (630.25 nm)']\n",
       "  L1-LHHHP     AFTPGG 2025-03-27T19:28:01.816 2025-03-27T19:56:36.870       VISP   629.7062939158873 .. 630.6274168904545       (-424.31,360.22),(-511.65,283.85)  2.7332890033721924 192.03245070422534              eid_3_54            pid_3_54              IQUV      sunspot             1404     0.04719410346145826              1.00679485662958      True 2025-10-01T21:57:24.340000        False                 False              True              True      0.000989390950125888      0.11525456809978699         857.5268710170913 ACTIVE        ['Fe I (630.15 nm)', 'Fe I (630.25 nm)']\n",
       "  L1-MNNWD     FCIBWI 2025-03-27T22:18:45.314 2025-03-27T22:47:20.368       VISP   629.7062939158873 .. 630.6274168904545       (-390.05,353.03),(-477.39,276.67)  2.7375295758247375 192.03245070422534              eid_3_54            pid_3_54              IQUV      sunspot             1404     0.04296621352818565            0.9883994942340952      True 2025-10-01T21:57:24.340000        False                 False              True              True      0.000989390950125888      0.11525456809978699          857.526794282053 ACTIVE        ['Fe I (630.15 nm)', 'Fe I (630.25 nm)']\n",
       "  L1-YTTAF     WMSZVA 2025-03-27T22:18:45.282 2025-03-27T22:47:20.336       VISP   853.5737470153199 .. 854.7195766245643       (-386.84,369.02),(-484.89,269.82)  2.7186495065689087  128.0216338028169              eid_3_54            pid_3_54              IQUV      sunspot             1404     0.04296621352818565            0.9622145508232305      True 2025-10-01T21:57:24.340000        False                 False              True              True      0.001255016001362943      0.12009777668278686          857.526794284902 ACTIVE                           ['Ca II (854.21 nm)']\n",
       "  L1-ZYYOA     CSGBML 2025-03-27T21:27:27.139 2025-03-27T21:56:02.193       VISP   589.1835216666277 .. 589.9380234970257       (-473.16,344.34),(-565.42,258.29)    2.69427627325058 223.96394366197183              eid_3_54            pid_3_54              IQUV      sunspot             1404     0.05947530745035878            0.9972572145758755      True 2025-10-01T21:57:24.340000        False                 False              True              True      0.000834625918581822          0.1180519058493         857.5267439914436 ACTIVE                         ['Na I D1 (589.59 nm)']\n",
       "  L1-RVHOL     TIGMCV 2025-03-28T21:52:07.920 2025-03-28T22:08:47.382 CRYO-NIRSP 1077.5206915896918 .. 1081.4288968324902       (-993.71,224.95),(-1111.13,-13.9)  0.7610312104225159              725.0              eid_3_26            pid_3_26              IQUV activecorona              544                     nan              79.9375993269639      True 2025-10-02T06:43:28.954000        False                 False              True              True      0.004275935714221545                     0.12         499.7311496544129 ACTIVE     ['Fe XIII (1079.8 nm)', 'He I (1083.0 nm)']\n",
       "  L1-FCMQW     NLHABO 2025-03-28T23:04:50.709 2025-03-28T23:21:30.171 CRYO-NIRSP  1077.520691613064 .. 1081.4288968473863       (-993.69,224.95),(-1111.11,-13.9)  0.7586628198623657              725.0              eid_3_26            pid_3_26              IQUV activecorona              544                     nan             97.34883965640134      True 2025-10-02T06:43:28.954000        False                 False              True              True      0.004275935704947912                     0.12        499.73114970588495 ACTIVE     ['Fe XIII (1079.8 nm)', 'He I (1083.0 nm)']\n",
       "  L1-CSNQM     DBLCEL 2025-03-28T20:21:54.875 2025-03-28T20:38:34.337 CRYO-NIRSP                         1083.0 .. 1083.0           (-966.53,163.1),(-1163,43.72)  1.4729833602905273              725.0              eid_3_26            pid_3_26              IQUV activecorona              544                     nan            0.8597166790245417      True 2025-10-02T06:43:28.954000        False                 False             False              True                       nan                  0.05308        499.73114963234497 ACTIVE                            ['He I (1083.0 nm)']\n",
       "  L1-XUYPZ     MNRCDS 2025-03-28T20:21:54.875 2025-03-28T20:38:34.337 CRYO-NIRSP 1077.5206916003751 .. 1081.4288968160647       (-993.72,224.95),(-1111.14,-13.9)  0.7626137137413025              725.0              eid_3_26            pid_3_26              IQUV activecorona              544                     nan             87.71381253174962      True 2025-10-02T06:43:28.954000        False                 False              True              True      0.004275935684561987                     0.12        499.73114963234497 ACTIVE     ['Fe XIII (1079.8 nm)', 'He I (1083.0 nm)']\n",
       "  L1-SRLUN     EXUIQL 2025-03-28T23:04:50.709 2025-03-28T23:21:30.171 CRYO-NIRSP                         1083.0 .. 1083.0        (-966.5,163.11),(-1162.97,43.72)  1.4579227566719055              725.0              eid_3_26            pid_3_26              IQUV activecorona              544                     nan            0.9983528550087174      True 2025-10-02T06:43:28.954000        False                 False             False              True                       nan                  0.05308        499.73114970588495 ACTIVE                            ['He I (1083.0 nm)']\n",
       "  L1-LHOOP     YTJYFH 2025-03-28T21:52:07.920 2025-03-28T22:08:47.382 CRYO-NIRSP                         1083.0 .. 1083.0        (-966.52,163.1),(-1162.99,43.72)  1.4624583721160889              725.0              eid_3_26            pid_3_26              IQUV activecorona              544                     nan             1.210516918669678      True 2025-10-02T06:43:28.954000        False                 False             False              True                       nan                  0.05308         499.7311496544129 ACTIVE                            ['He I (1083.0 nm)']\n",
       "  L1-KJIMT     POEGUM 2025-03-28T23:22:56.728 2025-03-28T23:56:26.757 CRYO-NIRSP  1072.5339572881232 .. 1076.476741907372       (-993.69,224.95),(-1111.11,-13.9)  1.5017768740653992              725.0              eid_3_26            pid_3_26              IQUV activecorona             1088                     nan             95.14368318974151      True 2025-10-02T06:43:28.954000        False                 False              True              True      0.004376009566313615                     0.12        1005.0148703492716 ACTIVE                         ['Fe XIII (1074.7 nm)']\n",
       "  L1-UKKUY     GWCNRP 2025-03-28T22:12:05.867 2025-03-28T23:02:26.464 CRYO-NIRSP  1072.533957250129 .. 1076.4767419314906        (-993.7,224.95),(-1111.12,-13.9)   2.255217432975769              725.0              eid_3_26            pid_3_26              IQUV activecorona             1632                     nan              94.1483590999736      True 2025-10-02T06:43:28.954000        False                 False              True              True      0.004376009635251223                     0.12         1510.298591029412 ACTIVE                         ['Fe XIII (1074.7 nm)']\n",
       "  L1-OQJTK     BPHJXN 2025-03-28T23:22:56.728 2025-03-29T00:10:19.642 CRYO-NIRSP                         1083.0 .. 1083.0       (-966.48,163.11),(-1162.97,43.72)   4.115922152996063              725.0              eid_3_26            pid_3_26              IQUV activecorona             1536                     nan           0.34759964612394195      True 2025-10-02T06:43:28.954000        False                 False             False              True                       nan                  0.05308         1421.226140486985 ACTIVE                            ['He I (1083.0 nm)']\n",
       "  L1-IGGJS     QZUKJQ 2025-03-28T22:12:05.867 2025-03-28T23:02:59.779 CRYO-NIRSP                         1083.0 .. 1083.0        (-966.5,163.11),(-1162.99,43.72)   4.415750205516815              725.0              eid_3_26            pid_3_26              IQUV activecorona             1648                     nan           0.48090426321105423      True 2025-10-02T06:43:28.954000        False                 False             False              True                       nan                  0.05308        1525.1773181140784 ACTIVE                            ['He I (1083.0 nm)']\n",
       "  L1-NLLJB     VDNRHK 2025-03-28T18:38:32.471 2025-03-28T20:19:24.770 CRYO-NIRSP 1072.5339570895164 .. 1076.4767417893474      (-993.74,224.95),(-1111.14,-13.89)   4.533287286758423              725.0              eid_3_26            pid_3_26              IQUV activecorona             3264                     nan              89.4754156478485      True 2025-10-02T06:43:28.954000        False                 False              True              True       0.00437600965575039                     0.12        3026.1497548480456 ACTIVE                         ['Fe XIII (1074.7 nm)']\n",
       "  L1-TIIWC     ZYKEAU 2025-03-28T18:38:32.471 2025-03-28T20:19:24.770 CRYO-NIRSP                         1083.0 .. 1083.0       (-966.53,163.11),(-1163.02,43.71)   8.920209109783173              725.0              eid_3_26            pid_3_26              IQUV activecorona             3264                     nan           0.33639213816561964      True 2025-10-02T06:43:28.954000        False                 False             False              True                       nan                  0.05308        3026.1497548480456 ACTIVE                            ['He I (1083.0 nm)']\n",
       "  L1-VDEBH     XUKHZY 2025-04-09T18:23:26.622 2025-04-09T19:02:31.949       VISP   589.1224344213638 .. 589.9952596873283          (357.57,229.13),(321.35,153.8)   5.206811428070068 119.96484507042254              eid_3_90            pid_3_90              IQUV      unknown             2720    0.057684832006927214            0.9697230997677371     False                       None         True                 False              True              True      0.000957045247768092      0.04158133594009087        1172.6634427279378 ACTIVE                         ['Na I D1 (589.59 nm)']\n",
       "  L1-GWVER     JAFYIO 2025-04-09T18:23:26.590 2025-04-09T19:02:31.917       VISP   629.6274578412351 .. 630.6669832838022         (357.48,218.94),(321.49,158.58)   5.157638490200043  56.02794366197183              eid_3_90            pid_3_90              IQUV      unknown             2720    0.057684832006927214            0.9746648988040961     False                       None         True                 False              True              True       0.00114737907568115     0.038539655408462284        1172.6634750500064 ACTIVE        ['Fe I (630.15 nm)', 'Fe I (630.25 nm)']\n",
       "  L1-WMDIV     HEXSOY 2025-04-09T18:23:26.682 2025-04-09T19:02:32.009       VISP   516.7098278101714 .. 517.8063677388728         (357.85,210.92),(321.13,161.85)   5.191514790058136 240.00360563380283              eid_3_90            pid_3_90              IQUV      unknown             2720    0.057684832006927214            0.9996558431351519     False                       None         True                 False              True              True      0.001180344379657095     0.036859984545672485         1172.663462570589 ACTIVE                         ['Mg I b1 (517.27 nm)']\n",
       "  L1-DBXVE     RVDELI 2025-04-15T19:00:16.738 2025-04-15T19:05:09.674 CRYO-NIRSP 1077.5363997063698 .. 1081.4449000518293       (848.46,-653.94),(577.79,-919.02) 0.47116756439208984              725.0              eid_3_88            pid_3_88                 I activecorona              321                     nan                          None     False                       None         True                 False              True              True      0.004276258583653757                     0.12        146.46832977881638 ACTIVE     ['Fe XIII (1079.8 nm)', 'He I (1083.0 nm)']\n",
       "  L1-UKCFY     VDBLHK 2025-04-15T22:01:57.026 2025-04-15T22:06:49.962 CRYO-NIRSP  1077.536399730345 .. 1081.4449001051457          (848.44,-653.92),(577.77,-919)  0.4782593250274658              725.0              eid_3_88            pid_3_88                 I activecorona              321                     nan                          None     False                       None         True                 False              True              True      0.004276258615755827                     0.12         146.4683298691538 ACTIVE     ['Fe XIII (1079.8 nm)', 'He I (1083.0 nm)']\n",
       "  L1-TISVC     FCSXWI 2025-04-15T19:05:36.591 2025-04-15T19:10:29.527 CRYO-NIRSP 1072.5316374630102 .. 1076.4745860088203         (848.5,-653.9),(577.74,-919.06) 0.46491801738739014              725.0              eid_3_88            pid_3_88                 I activecorona              321                     nan                          None     False                       None         True                 False              True              True      0.004376191504783671                     0.12        146.46832987226824 ACTIVE                         ['Fe XIII (1074.7 nm)']\n",
       "  L1-OQICK     QZYTJQ 2025-04-15T22:07:16.900 2025-04-15T22:12:09.836 CRYO-NIRSP 1072.5316372155548 .. 1076.4745861492124       (848.49,-653.88),(577.73,-919.04)  0.4723772406578064              725.0              eid_3_88            pid_3_88                 I activecorona              321                     nan                          None     False                       None         True                 False              True              True      0.004376191935247095                     0.12        146.46832985358049 ACTIVE                         ['Fe XIII (1074.7 nm)']\n",
       "  L1-KJSDT     GWMBRP 2025-04-15T22:12:42.213 2025-04-15T22:43:33.069 CRYO-NIRSP  1072.531637295499 .. 1076.4745861438173       (848.88,-653.88),(577.73,-919.48)  1.3987934589385986              725.0              eid_3_88            pid_3_88              IQUV activecorona              984                     nan             64.69050303710651     False                       None         True                 False              True              True      0.004376191840530822                     0.12         925.4280543252131 ACTIVE                         ['Fe XIII (1074.7 nm)']\n",
       "  L1-AFWZG     ZYTQAU 2025-04-15T19:11:02.378 2025-04-15T20:12:57.046 CRYO-NIRSP  1072.5316376389753 .. 1076.474585989246         (848.9,-653.89),(577.74,-919.5)  2.7136901021003723              725.0              eid_3_88            pid_3_88              IQUV activecorona             1968                     nan            106.66731272264161     False                       None         True                 False              True              True      0.004376191287758693                     0.12        1857.3341140630084 ACTIVE                         ['Fe XIII (1074.7 nm)']\n",
       "  L1-XUFUZ     DBPMEL 2025-05-21T19:32:29.152 2025-05-21T20:26:13.768       VISP   629.6067648891277 .. 630.6840063529559      (-300.11,-714.39),(-352.95,-774.7)    7.53936231136322  59.96394366197183              eid_3_75            pid_3_75              IQUV  coronalhole             4000      0.0710614174152193            1.0806073405612966      True 2025-11-21T11:08:18.873000        False                 False              True              True      0.001189008238220936      0.03852497106192074        1612.3078117710045 ACTIVE        ['Fe I (630.15 nm)', 'Fe I (630.25 nm)']\n",
       "  L1-LHKKP     MNLMDS 2025-05-21T19:32:29.222 2025-05-21T20:26:13.838       VISP   853.5883515394114 .. 854.7072402859393     (-299.73,-705.03),(-353.37,-778.61)   7.568622529506683  200.0338028169014              eid_3_75            pid_3_75              IQUV  coronalhole             4000      0.0710614174152193            1.0288215426978409      True 2025-11-21T11:08:18.873000        False                 False              True              True       0.00122550793705134     0.041493651178497695         1612.307845279997 ACTIVE                           ['Ca II (854.21 nm)']\n",
       "  L1-CSBJM     POQRUM 2025-05-21T19:32:29.222 2025-05-21T20:26:13.838       VISP   516.7013881937395 .. 517.8141360819353     (-299.59,-721.98),(-353.48,-771.02)   7.542347609996796  200.0338028169014              eid_3_75            pid_3_75              IQUV  coronalhole             4000      0.0710614174152193            1.1109031289714513      True 2025-11-21T11:08:18.873000        False                 False              True              True      0.001199081776073108     0.036840622425553776        1612.3078452719967 ACTIVE                         ['Mg I b1 (517.27 nm)']\n",
       "  L1-VDQXH     EXYSQL 2025-05-22T18:19:52.545 2025-05-22T19:38:28.690       VISP   853.5884599698111 .. 854.7073698847661        (233.77,-130.92),(133.7,-231.16)   2.637668251991272  384.0649014084507              eid_3_76            pid_3_76              IQUV      sunspot             1360     0.06035603958606652            0.9758614930249574      True 2025-11-22T04:35:14.421000        False                 False              True              True      0.001225531122623166      0.12525739272104244        2358.0723793794177 ACTIVE                           ['Ca II (854.21 nm)']\n",
       "  L1-SRPYN     YTSWFH 2025-05-22T18:19:52.689 2025-05-22T19:38:28.834       VISP   588.8884060646999 .. 589.6357088810963        (225.61,-135.9),(137.77,-228.72)  2.6430219411849976  671.8918309859155              eid_3_76            pid_3_76              IQUV      sunspot             1360     0.06035603958606652            1.0046005364581803      True 2025-11-22T04:35:14.421000        False                 False              True              True      0.000824837545691462       0.1211059751494648        2358.0722940735345 ACTIVE   ['Na I D1 (589.59 nm)', 'Na I D2 (589.0 nm)']\n",
       "  L1-WMESV     TIRDCV 2025-05-22T18:19:52.689 2025-05-22T19:38:28.834       VISP   629.7107631326819 .. 630.6215868796529        (218.5,-139.45),(139.88,-228.05)  2.6548370718955994  671.8918309859155              eid_3_76            pid_3_76              IQUV      sunspot             1360     0.06035603958606652            1.0021870202262502      True 2025-11-22T04:35:14.421000        False                 False              True              True      0.000980434603843954      0.12115815546974146         2358.072294070593 ACTIVE        ['Fe I (630.15 nm)', 'Fe I (630.25 nm)']\n",
       "  L1-MNXHD     IGVGSO 2025-05-23T19:33:35.743 2025-05-23T19:59:23.058 CRYO-NIRSP                         1083.0 .. 1083.0      (-991.06,453.38),(-1118.34,330.21)   2.239311933517456              725.0               eid_3_6             pid_3_6              IQUV activecorona              840                     nan               2.1781489419693      True 2025-11-26T08:01:23.892000        False                 False             False              True                       nan                  0.05308          773.657855233339 ACTIVE                            ['He I (1083.0 nm)']\n",
       "  L1-TINHC     UKITYO 2025-05-23T19:33:35.743 2025-05-23T19:59:23.058 CRYO-NIRSP   1072.594747190898 .. 1076.526911871618    (-1006.95,2904.49),(-7533.82,386.38)  1.1680001020431519              725.0               eid_3_6             pid_3_6              IQUV activecorona              840                     nan            108.28559719454736      True 2025-11-26T08:01:23.892000        False                 False              True              True      0.004373931791679694                     0.12          773.657855233339 ACTIVE                         ['Fe XIII (1074.7 nm)']\n",
       "  L1-POTBU     AFMYGG 2025-05-23T18:20:44.136 2025-05-23T19:15:48.881 CRYO-NIRSP 1077.7066640801684 .. 1081.5559240347898 (-1006.96,37453.42),(-102223.76,386.37)   5.330563187599182              725.0               eid_3_6             pid_3_6                 I activecorona             3640                     nan                          None      True 2025-11-26T08:01:23.892000        False                 False              True              True      0.004272208606682938                     0.12        1652.3722290601752 ACTIVE     ['Fe XIII (1079.8 nm)', 'He I (1083.0 nm)']\n",
       "  L1-KJNET     HEZNOY 2025-05-26T19:49:24.132 2025-05-26T19:55:06.954 CRYO-NIRSP   1072.57602517573 .. 1076.5155474743765       (-955.36,231.33),(-1039.87,-4.15)  0.5664154887199402              725.0              eid_3_65            pid_3_65                 I activecorona              378                     nan                          None      True 2025-11-26T20:22:18.843000        False                 False              True              True      0.004372388788730857                     0.12         171.4112849153425 ACTIVE                         ['Fe XIII (1074.7 nm)']\n",
       "  L1-IGPNS     KJGNTD 2025-05-26T19:43:18.389 2025-05-26T19:49:01.211 CRYO-NIRSP  1077.563735487146 .. 1081.4706310945332       (-955.38,231.21),(-1039.86,-4.03)  0.5754706263542175              725.0              eid_3_65            pid_3_65                 I activecorona              378                     nan                          None      True 2025-11-26T20:22:18.843000        False                 False              True              True      0.004274502852721323                     0.12        171.41128494973492 ACTIVE     ['Fe XIII (1079.8 nm)', 'He I (1083.0 nm)']\n",
       "  L1-GWHQR     NLOGBO 2025-05-23T18:20:44.136 2025-05-23T19:15:48.881 CRYO-NIRSP                         1083.0 .. 1083.0      (-985.89,466.31),(-1117.07,330.21)  11.109492480754852              725.0               eid_3_6             pid_3_6                 I activecorona             3640                     nan                          None      True 2025-11-26T08:01:23.892000        False                 False             False              True                       nan                  0.05308        1652.3722290601752 ACTIVE                            ['He I (1083.0 nm)']\n",
       "  L1-NLUSB     OQAIKH 2025-05-26T19:43:18.389 2025-05-26T19:49:01.211 CRYO-NIRSP                         1083.0 .. 1083.0       (-914.76,168.78),(-1090.55,51.39)   1.217934787273407              725.0              eid_3_65            pid_3_65                 I activecorona              378                     nan                          None      True 2025-11-26T20:22:18.843000        False                 False             False              True                       nan                  0.05308        171.41128494973492 ACTIVE                            ['He I (1083.0 nm)']\n",
       "  L1-OQSMK     CSLZML 2025-05-26T19:49:24.132 2025-05-26T19:55:06.954 CRYO-NIRSP                         1083.0 .. 1083.0       (-914.76,168.78),(-1090.55,51.39)   1.216837763786316              725.0              eid_3_65            pid_3_65                 I activecorona              378                     nan                          None      True 2025-11-26T20:22:18.843000        False                 False             False              True                       nan                  0.05308         171.4112849153425 ACTIVE                            ['He I (1083.0 nm)']\n",
       "  L1-JALRI     JAWFIO 2025-05-26T19:57:46.021 2025-05-26T20:59:49.943 CRYO-NIRSP 1072.5436137737186 .. 1075.2858740554689       (-955.36,231.36),(-1040.13,-4.14)  1.9250884652137756              725.0              eid_3_65            pid_3_65              IQUV activecorona             2016                     nan            42.083738455077516      True 2025-11-26T20:22:18.843000        False                 False              True              True      0.004401701896870337                     0.12        1861.9612552738133 ACTIVE                         ['Fe XIII (1074.7 nm)']\n",
       "  L1-HEIEO     XUTOZY 2025-05-26T19:57:46.021 2025-05-26T20:59:49.943 CRYO-NIRSP                         1083.0 .. 1083.0       (-928.89,170.21),(-1090.55,53.05)   5.585702955722809              725.0              eid_3_65            pid_3_65              IQUV activecorona             2016                     nan             8.328112454814056      True 2025-11-26T20:22:18.843000        False                 False             False              True                       nan                  0.05308        1861.9612552738133 ACTIVE                            ['He I (1083.0 nm)']\n",
       "  L1-ZYVCA     SRHKNK 2025-05-27T20:19:54.753 2025-05-27T20:39:46.704 CRYO-NIRSP                         1083.0 .. 1083.0        (1080.88,-12.12),(929.4,-120.64)   1.975318193435669              725.0              eid_3_25            pid_3_25              IQUV activecorona              648                     nan            1.0637323992616956      True 2025-12-04T11:37:20.474000        False                 False             False              True                       nan                  0.05308         595.9756686049324 ACTIVE                            ['He I (1083.0 nm)']\n",
       "  L1-BPFDX     WMBGVA 2025-05-27T23:40:42.325 2025-05-28T00:00:34.276 CRYO-NIRSP                         1083.0 .. 1083.0       (1080.86,-12.11),(929.38,-120.64)   1.999211311340332              725.0              eid_3_25            pid_3_25              IQUV activecorona              648                     nan            0.9038696818272024      True 2025-12-04T11:37:20.474000        False                 False             False              True                       nan                  0.05308         595.9756685864186 ACTIVE                            ['He I (1083.0 nm)']\n",
       "  L1-DBAOE     VDXPHK 2025-05-27T20:42:02.728 2025-05-27T21:01:54.679 CRYO-NIRSP                         1083.0 .. 1083.0        (1080.87,-12.12),(929.4,-120.64)  1.9772064685821533              725.0              eid_3_25            pid_3_25              IQUV activecorona              648                     nan             1.073133501455861      True 2025-12-04T11:37:20.474000        False                 False             False              True                       nan                  0.05308         595.9756686049482 ACTIVE                            ['He I (1083.0 nm)']\n",
       "  L1-UKDVY     DBUDEL 2025-05-27T21:14:34.923 2025-05-27T21:48:10.944 CRYO-NIRSP 1072.5654336718414 .. 1076.5059883649535        (1031.23,46.35),(967.47,-186.57)  3.1459683179855347              725.0              eid_3_25            pid_3_25                 I activecorona             2132                     nan                          None      True 2025-12-04T11:37:20.474000        False                 False              True              True      0.004373534620546202                     0.12        1008.0108359263593 ACTIVE                         ['Fe XIII (1074.7 nm)']\n",
       "  L1-EXGDQ     GWDXRP 2025-05-27T21:50:12.342 2025-05-27T22:10:04.293 CRYO-NIRSP                         1083.0 .. 1083.0        (1080.86,-12.13),(929.4,-120.64)  1.9709542393684387              725.0              eid_3_25            pid_3_25              IQUV activecorona              648                     nan            1.1502614520341894      True 2025-12-04T11:37:20.474000        False                 False             False              True                       nan                  0.05308          595.975668592595 ACTIVE                            ['He I (1083.0 nm)']\n",
       "  L1-AFORG     POJLUM 2025-05-27T21:14:34.923 2025-05-27T21:48:10.944 CRYO-NIRSP                         1083.0 .. 1083.0       (1080.87,-12.11),(929.34,-120.64)   6.530562043190002              725.0              eid_3_25            pid_3_25                 I activecorona             2132                     nan                          None      True 2025-12-04T11:37:20.474000        False                 False             False              True                       nan                  0.05308        1008.0108359272974 ACTIVE                            ['He I (1083.0 nm)']\n",
       "  L1-JAPLI     NLKRBO 2025-04-14T22:24:24.334 2025-04-14T22:54:48.689        VBI                           656.0 .. 656.0       (-203.76,227.42),(-270.32,160.07)    3.35419625043869 1.0050000000000001              eid_3_90            pid_3_90                 I      unknown              267                     nan                          None     False                       None         True                 False             False              True                       nan     0.015496456995606422         6.858477000010055 ACTIVE                         ['H alpha (656.28 nm)']\n",
       "  L1-LHCCP     AFDFGG 2025-04-14T22:24:27.763 2025-04-14T22:54:45.259        VBI                           668.0 .. 668.0       (-203.76,227.42),(-270.32,160.07)  3.3900144696235657              0.081              eid_3_90            pid_3_90                 I      unknown              266     0.06462538782006752                          None     False                       None         True                 False             False              True                       nan     0.015496456995606422        6.8584770000004625 ACTIVE                                            None\n",
       "  L1-CSZSM     YTNVFH 2025-04-14T20:15:19.763 2025-04-14T20:55:27.088        VBI                           668.0 .. 668.0       (-137.77,202.23),(-204.32,134.87)   4.403543472290039              0.081              eid_3_90            pid_3_90                 I      unknown              352    0.058068049014010636                          None     False                       None         True                 False             False              True                       nan     0.015496456995606422        6.8584770000004625 ACTIVE                                            None\n",
       "  L1-KJBQT     MNUEDS 2025-04-14T20:15:16.334 2025-04-14T20:55:30.517        VBI                           656.0 .. 656.0       (-137.77,202.23),(-204.32,134.87)   4.420476257801056 1.0050000000000001              eid_3_90            pid_3_90                 I      unknown              353    0.058239442733249144                          None     False                       None         True                 False             False              True                       nan     0.015496456995606422         6.858475999990787 ACTIVE                         ['H alpha (656.28 nm)']\n",
       "  L1-HESQO     TILECV 2025-04-14T21:40:37.334 2025-04-14T22:21:18.952        VBI                           656.0 .. 656.0       (-128.41,202.23),(-194.97,134.87)   4.511802792549133 1.0050000000000001              eid_3_90            pid_3_90                 I      unknown              357      0.0697025298927608                          None     False                       None         True                 False             False              True                       nan     0.015496456995606422        6.8584770000004625 ACTIVE                         ['H alpha (656.28 nm)']\n",
       "  L1-XUVFZ     EXFNQL 2025-04-14T21:40:40.763 2025-04-14T22:21:15.522        VBI                           668.0 .. 668.0       (-128.41,202.23),(-194.97,134.87)   4.541999101638794              0.081              eid_3_90            pid_3_90                 I      unknown              356     0.06992557159953774                          None     False                       None         True                 False             False              True                       nan     0.015496456995606422         6.858477000010055 ACTIVE                                            None\n",
       "  L1-BPWEX     LHJJPP 2025-06-17T21:29:22.618 2025-06-17T21:41:09.184       VISP    853.2738241471143 .. 855.020464514216         (-23.13,185.94),(-72.08,177.16)   1.131693720817566 349.98985915492955              eid_3_20            pid_3_20              IQUV     quietsun              600     0.04638010301807272            0.9686921361114147      True 2025-12-17T23:18:46.673000        False                 False              True              True      0.001878107921614707     0.036840622425553776         353.2827979999927 ACTIVE                           ['Ca II (854.21 nm)']\n",
       "  L1-GWKIR     JAVWIO 2025-06-17T21:29:22.463 2025-06-17T21:41:09.029       VISP    629.5634983959548 .. 630.726803932807           (-5.6,186.19),(-79.09,177.08)   1.133987009525299 40.006760563380276              eid_3_20            pid_3_20              IQUV     quietsun              600     0.04638010301807272            0.9492802841115228      True 2025-12-17T23:18:46.673000        False                 False              True              True      0.001275554316723953     0.041493651178497695        353.28280465332585 ACTIVE        ['Fe I (630.15 nm)', 'Fe I (630.25 nm)']\n",
       "  L1-QZLHJ     XUCKZY 2025-06-17T21:29:22.543 2025-06-17T21:41:09.109       VISP   485.5653243574034 .. 486.5905671072882          (-14.92,185.99),(-75.13,177.2)  1.1257794499397278  200.0338028169014              eid_3_20            pid_3_20              IQUV     quietsun              600     0.04638010301807272            0.9413998296001292      True 2025-12-17T23:18:46.673000        False                 False              True              True      0.001131614514221617      0.03852497106192074         353.2828213133445 ACTIVE                          ['H beta (486.13 nm)']\n",
       "  L1-ZYHMA     HEABOY 2025-06-17T20:03:02.736 2025-06-17T21:15:35.575       VISP    853.2738241471143 .. 855.020464514216           (97.74,288.77),(48.29,271.18)  6.8179017305374146 349.98985915492955              eid_3_20            pid_3_20              IQUV      sunspot             3600     0.07032420359867493            0.9825000809040842      True 2025-12-17T23:18:46.673000        False                 False              True              True      0.001878107921614707     0.036840622425553776         2176.517500706669 ACTIVE                           ['Ca II (854.21 nm)']\n",
       "  L1-FCQSW     CSPAML 2025-06-17T20:03:02.581 2025-06-17T21:15:35.420       VISP    629.5634983959548 .. 630.726803932807           (114.91,292.24),(41.43,269.8)    6.87132328748703 40.006760563380276              eid_3_20            pid_3_20              IQUV      sunspot             3600     0.07032420359867493            0.9599856858109461      True 2025-12-17T23:18:46.673000        False                 False              True              True      0.001275554316723953     0.041493651178497695         2176.517508481114 ACTIVE        ['Fe I (630.15 nm)', 'Fe I (630.25 nm)']\n",
       "  L1-RVTCL     KJRBTD 2025-06-17T20:03:02.661 2025-06-17T21:15:35.500       VISP   485.5653243574034 .. 486.5905671072882          (105.78,290.33),(45.32,270.65)    6.89853698015213  200.0338028169014              eid_3_20            pid_3_20              IQUV      sunspot             3600     0.07032420359867493            0.9424753560222947      True 2025-12-17T23:18:46.673000        False                 False              True              True      0.001131614514221617      0.03852497106192074         2176.517522913326 ACTIVE                          ['H beta (486.13 nm)']\n",
       "  L1-IGYXS     VDZUHK 2025-05-30T18:31:33.613 2025-05-30T19:16:06.487       VISP   853.2593245550532 .. 855.0106020868278          (168.79,-14.88),(109.7,-66.26)  2.4658942222595215 239.92969014084508              eid_3_47            pid_3_47              IQUV     quietsun             1288     0.07933098627608252            0.9035203914400337      True 2025-12-23T00:39:31.618000        False                 False              True              True      0.001885121132157829       0.0639499254176182        1336.4367339347864 ACTIVE                           ['Ca II (854.21 nm)']\n",
       "  L1-WMIXV     EXWBQL 2025-06-02T22:53:59.164 2025-06-02T23:04:19.279       VISP   655.5118919469996 .. 656.9415199551422                   (0,27.48),(-0,-32.68)   6.503667533397675 13.997746478873239              eid_3_37            pid_3_37                 I     quietsun             3500     0.05100157333849396                          None      True 2025-12-23T15:01:27.580000        False                 False              True              True      0.001576216106000582        0.065271892136613         309.9373755139887 ACTIVE                         ['H alpha (656.28 nm)']\n",
       "  L1-AFKLG     ZYMIAU 2025-05-30T18:31:33.613 2025-05-30T19:16:06.487       VISP   516.7793451066834 .. 517.7309227874542          (184.89,-7.23),(103.54,-68.98)  2.5225505232810974 239.92969014084508              eid_3_47            pid_3_47              IQUV     quietsun             1288     0.07933098627608252            0.9002681074179623      True 2025-12-23T00:39:31.618000        False                 False              True              True       0.00104339657979255      0.06842490221540587        1336.4367339409976 ACTIVE                         ['Mg I b1 (517.27 nm)']\n",
       "  L1-NLWXB     WMXRVA 2025-05-30T18:31:33.813 2025-05-30T19:16:06.687       VISP  392.9969167001119 .. 393.72876734079045          (176.34,-11.69),(107.28,-67.3)   2.426033914089203   639.960338028169              eid_3_47            pid_3_47              IQUV     quietsun             1288     0.07933098627608252            0.8902312030494799      True 2025-12-23T00:39:31.618000        False                 False              True              True      0.000807782164104351       0.0650759549483316        1336.4367494720525 ACTIVE                         ['Ca II K (393.37 nm)']\n",
       "  L1-FCJNW     TIPQCV 2025-06-02T22:53:59.177 2025-06-02T23:04:19.292       VISP   588.7854550622258 .. 590.2988795566104             (0.04,19.44),(-0.03,-29.45)   6.577500700950623  39.99752112676056              eid_3_37            pid_3_37                 I     quietsun             3500                     nan                          None      True 2025-12-23T15:01:27.580000        False                 False              True              True      0.001629089875548576      0.06414998281011476        309.93737551856833 ACTIVE   ['Na I D1 (589.59 nm)', 'Na I D2 (589.0 nm)']\n",
       "  L1-SRFVN     YTBHFH 2025-06-02T22:53:59.177 2025-06-02T23:04:19.292       VISP 396.44307998853793 .. 397.27832976949054             (0.01,36.81),(-0.04,-36.63)   6.555495858192444  39.99752112676056              eid_3_37            pid_3_37                 I     quietsun             3500     0.05100157333849396                          None      True 2025-12-23T15:01:27.580000        False                 False              True              True      0.000913840022924091      0.06862364564531594         309.9373755191398 ACTIVE ['Ca II H (396.85 nm)', 'H epsilon (397.0 nm)']\n",
       "  L1-TIXKC     FCBAWI 2025-05-30T19:23:01.375 2025-05-30T20:32:16.403       VISP   853.2593245550532 .. 855.0106020868278          (174.84,-15.2),(110.35,-82.19)   3.844445049762726 239.92969014084508              eid_3_47            pid_3_47              IQUV     quietsun             2000     0.06983009068691196             0.898868176165125      True 2025-12-23T00:39:31.618000        False                 False              True              True      0.001885121132157829       0.0639499254176182        2077.5139787819953 ACTIVE                           ['Ca II (854.21 nm)']\n",
       "  L1-MNAKD     SROTNK 2025-05-30T19:23:01.375 2025-05-30T20:32:16.403       VISP   516.7793451066834 .. 517.7309227874542          (191.45,-8.44),(104.02,-84.23)  3.9614537358283997 239.92969014084508              eid_3_47            pid_3_47              IQUV     quietsun             2000     0.06983009068691196            0.8840838609678906      True 2025-12-23T00:39:31.618000        False                 False              True              True       0.00104339657979255      0.06842490221540587        2077.5139787819953 ACTIVE                         ['Mg I b1 (517.27 nm)']\n",
       "  L1-POMZU     RVQJLI 2025-05-30T19:23:01.575 2025-05-30T20:32:16.603       VISP  392.9969167001119 .. 393.72876734079045         (182.53,-12.44),(107.84,-82.61)  3.7761077284812927   639.960338028169              eid_3_47            pid_3_47              IQUV     quietsun             2000     0.06983009068691196            0.8432541751030889      True 2025-12-23T00:39:31.618000        False                 False              True              True      0.000807782164104351       0.0650759549483316         2077.513994787994 ACTIVE                         ['Ca II K (393.37 nm)']\n",
       "  L1-KJXJT     GWEZRP 2025-06-02T21:42:14.904 2025-06-02T22:14:16.850       VISP   588.7854550622258 .. 590.2988795566104         (500.27,169.72),(458.35,127.47)  20.207808315753937  39.99752112676056              eid_3_37            pid_3_37                 I      sunspot            10700    0.060198176814095804                          None      True 2025-12-23T15:01:27.580000        False                 False              True              True      0.001629089875548576      0.06414998281011476         960.7721749909331 ACTIVE   ['Na I D1 (589.59 nm)', 'Na I D2 (589.0 nm)']\n",
       "  L1-UKEHY     QZWMJQ 2025-06-02T21:42:14.904 2025-06-02T22:14:16.850       VISP 396.44307998853793 .. 397.27832976949054         (512.46,182.05),(453.33,122.38)  20.201075971126556  39.99752112676056              eid_3_37            pid_3_37                 I      sunspot            10700    0.060198176814095804                          None      True 2025-12-23T15:01:27.580000        False                 False              True              True      0.000913840022924091      0.06862364564531594          960.772174990279 ACTIVE ['Ca II H (396.85 nm)', 'H epsilon (397.0 nm)']\n",
       "  L1-HENJO     BPTNXN 2025-06-02T21:42:14.891 2025-06-02T22:14:16.837       VISP   655.5118919469996 .. 656.9415199551422         (505.85,175.36),(456.15,125.25)   19.97792959213257 13.997746478873239              eid_3_37            pid_3_37                 I      sunspot            10700    0.060198176814095804                          None      True 2025-12-23T15:01:27.580000        False                 False              True              True      0.001576216106000582        0.065271892136613         960.7721749952333 ACTIVE                         ['H alpha (656.28 nm)']\n",
       "  L1-LHMMP     DBFQEL 2025-06-02T20:34:20.399 2025-06-02T21:37:22.016       VISP   588.7854550622258 .. 590.2988795566104         (384.26,180.91),(342.32,138.66)   39.97901737689972  39.99752112676056              eid_3_37            pid_3_37                 I      sunspot            21000     0.08904273386739828                          None      True 2025-12-23T15:01:27.580000        False                 False              True              True      0.001629089875548576      0.06414998281011476         1890.363614606384 ACTIVE   ['Na I D1 (589.59 nm)', 'Na I D2 (589.0 nm)']\n",
       "  L1-JAUPI     POIPUM 2025-06-02T20:34:20.399 2025-06-02T21:37:22.016       VISP 396.44307998853793 .. 397.27832976949054          (396.45,193.23),(337.3,133.57)  40.205835700035095  39.99752112676056              eid_3_37            pid_3_37                 I      sunspot            21000     0.08904273386739828                          None      True 2025-12-23T15:01:27.580000        False                 False              True              True      0.000913840022924091      0.06862364564531594        1890.3636146305746 ACTIVE ['Ca II H (396.85 nm)', 'H epsilon (397.0 nm)']\n",
       "  L1-RVCML     MNYQDS 2025-06-02T20:34:20.386 2025-06-02T21:37:22.003       VISP   655.5118919469996 .. 656.9415199551422         (389.83,186.55),(340.13,136.44)   39.74171429872513 13.997746478873239              eid_3_37            pid_3_37                 I      sunspot            21000     0.08904273386739828                          None      True 2025-12-23T15:01:27.580000        False                 False              True              True      0.001576216106000582        0.065271892136613        1890.3636156047567 ACTIVE                         ['H alpha (656.28 nm)']\n",
       "  L1-QZRVJ     IGOLSO 2025-05-27T20:19:54.753 2025-05-27T20:39:46.704 CRYO-NIRSP 1077.5608436022546 .. 1081.4089715150421         (1026.55,45.93),(973.6,-186.24)  0.8968153595924377              725.0              eid_3_25            pid_3_25              IQUV activecorona              648                     nan            61.312571128307006      True 2025-12-04T11:37:20.474000        False                 False              True              True      0.004275697680874943                     0.12         595.9756686049324 ACTIVE     ['Fe XIII (1079.8 nm)', 'He I (1083.0 nm)']\n",
       "  L1-POCXU     UKNMYO 2025-05-27T23:40:42.325 2025-05-28T00:00:34.276 CRYO-NIRSP 1077.5608436339082 .. 1081.4089714892982        (1026.54,45.93),(973.57,-186.24)  0.9043523669242859              725.0              eid_3_25            pid_3_25              IQUV activecorona              648                     nan             43.72560120240599      True 2025-12-04T11:37:20.474000        False                 False              True              True      0.004275697617099902                     0.12         595.9756685864186 ACTIVE     ['Fe XIII (1079.8 nm)', 'He I (1083.0 nm)']\n",
       "  L1-YTDLF     OQRNKH 2025-05-27T20:42:02.728 2025-05-27T21:01:54.679 CRYO-NIRSP  1072.562730701541 .. 1076.5042362402653         (1026.55,45.93),(973.6,-186.24)  0.8970728516578674              725.0              eid_3_25            pid_3_25              IQUV activecorona              648                     nan             78.29432465315281      True 2025-12-04T11:37:20.474000        False                 False              True              True      0.004374589943090082                     0.12         595.9756686049482 ACTIVE                         ['Fe XIII (1074.7 nm)']\n",
       "  L1-NLYNB     KJLXTD 2025-05-27T21:50:12.342 2025-05-27T22:10:04.293 CRYO-NIRSP 1072.5627307718362 .. 1076.5042362077054         (1026.54,45.92),(973.6,-186.24)  0.8952435851097107              725.0              eid_3_25            pid_3_25              IQUV activecorona              648                     nan             83.42358418583204      True 2025-12-04T11:37:20.474000        False                 False              True              True      0.004374589828933738                     0.12          595.975668592595 ACTIVE                         ['Fe XIII (1074.7 nm)']\n",
       "  L1-FCEIW     AFEWGG 2025-05-26T21:14:50.445 2025-05-26T22:12:28.137 CRYO-NIRSP  1080.871966388533 .. 1084.6633557808884       (-972.16,168.48),(-1041.63,60.81)  2.4429291486740112              273.0              eid_3_65            pid_3_65              IQUV activecorona             4032                     nan            17.174949780203825      True 2025-11-26T20:22:18.843000        False                 False              True              True      0.004212654880394747                     0.12         1728.845826186506 ACTIVE                            ['He I (1083.0 nm)']\n",
       "  L1-RVKTL     NLTLBO 2025-05-26T21:14:50.445 2025-05-26T22:12:28.137 CRYO-NIRSP                         1083.0 .. 1083.0       (-928.78,125.46),(-1099.96,52.39)   6.843565106391907              273.0              eid_3_65            pid_3_65              IQUV activecorona             4032                     nan            0.2680975958208621      True 2025-11-26T20:22:18.843000        False                 False             False              True                       nan                  0.05308         1728.845826186506 ACTIVE                            ['He I (1083.0 nm)']\n",
       "  L1-MNYQD     WEKCVA 2025-07-25T19:55:02.854 2025-07-25T20:00:29.552       VISP   853.2831091498085 .. 854.9919438004661                  (0.01,3.03),(-0,-3.22) 0.30723631381988525 480.00721126760567               eid_3_4             pid_3_4              IQUV     quietsun              160     0.09112108562346075            0.9388827148553723      True 2026-01-27T02:37:23.098000        False                 False              True              True        0.0018374566136103      0.08441603256850601        163.34886310000388 ACTIVE                           ['Ca II (854.21 nm)']\n",
       "  L1-DBFQE     FDOKWI 2025-07-25T19:55:02.670 2025-07-25T20:00:29.368       VISP   588.9204866381452 .. 590.1542323412323               (0.01,3.11),(-0.01,-3.25)  0.3090307116508484 112.05588732394367               eid_3_4             pid_3_4              IQUV     quietsun              160     0.09112108562346075            0.9136082671083784      True 2026-01-27T02:37:23.098000        False                 False              True              True        0.0013617502241579      0.08653192887293461         163.3488880999966 ACTIVE   ['Na I D1 (589.59 nm)', 'Na I D2 (589.0 nm)']\n",
       "  L1-POIPU     SPZZNK 2025-07-25T19:55:02.934 2025-07-25T20:00:29.632       VISP  392.9198999859118 .. 393.79752281166503                (0.02,3.26),(-0.01,-3.3) 0.30420005321502686   639.960338028169               eid_3_4             pid_3_4              IQUV     quietsun              160     0.09112108562346075            0.8345375865271014      True 2026-01-27T02:37:23.098000        False                 False              True              True      0.000960200028176415      0.08988666131853569         163.3488381250052 ACTIVE                         ['Ca II K (393.37 nm)']\n",
       "  L1-LHJJP     OICYKH 2025-07-25T17:49:43.506 2025-07-25T18:21:18.835       VISP   588.9204866381452 .. 590.1542323412323     (-319.72,-516.05),(-334.49,-577.35)  1.7389431595802307 112.05588732394367               eid_3_4             pid_3_4              IQUV       plages              920      0.0989857823694273            1.3482865340217383      True 2026-01-27T02:37:23.098000        False                 False              True              True        0.0013617502241579      0.03867495075642855         947.6646299173859 ACTIVE   ['Na I D1 (589.59 nm)', 'Na I D2 (589.0 nm)']\n",
       "  L1-JAHVI     TNELCV 2025-07-25T21:50:01.983 2025-07-25T22:05:49.472       VISP  392.9198999859118 .. 393.79752281166503     (-288.95,-534.83),(-365.87,-543.89)  1.1044934391975403 159.99008450704224               eid_3_4             pid_3_4              IQUV       plages              588     0.04635768782416495            0.8492991589789951      True 2026-01-27T02:37:23.098000        False                 False              True              True      0.000960200028176415      0.26411207113316454        474.00185190475236 ACTIVE                         ['Ca II K (393.37 nm)']\n",
       "  L1-XUCKZ     UCWZYO 2025-07-25T17:49:43.770 2025-07-25T18:21:19.099       VISP  392.9198999859118 .. 393.79752281166503     (-319.05,-505.26),(-334.69,-582.67)   1.731272041797638   639.960338028169               eid_3_4             pid_3_4              IQUV       plages              920                     nan             1.215233858602745      True 2026-01-27T02:37:23.098000        False                 False              True              True      0.000960200028176415     0.041900005586735053         947.6645831130458 ACTIVE                         ['Ca II K (393.37 nm)']\n",
       "  L1-SROTN     KSMWTD 2025-07-25T17:49:43.690 2025-07-25T18:21:19.019       VISP   853.2831091498085 .. 854.9919438004661     (-320.23,-524.29),(-334.41,-574.03)   1.742505133152008 480.00721126760567               eid_3_4             pid_3_4              IQUV       plages              920      0.0989857823694273            1.3015808697380444      True 2026-01-27T02:37:23.098000        False                 False              True              True        0.0018374566136103       0.0364394244759329         947.6646059782635 ACTIVE                           ['Ca II (854.21 nm)']\n",
       "  L1-ZYMIA     HJTWOY 2025-07-25T18:43:08.728 2025-07-25T19:14:44.058       VISP   588.9204866381452 .. 590.1542323412323     (-299.51,-531.65),(-360.88,-546.85)   1.781480312347412 112.05588732394367               eid_3_4             pid_3_4              IQUV       plages              920     0.08873779872309623            0.9976017645069807      True 2026-01-27T02:37:23.098000        False                 False              True              True        0.0013617502241579      0.03867495075642855         947.6647850739159 ACTIVE   ['Na I D1 (589.59 nm)', 'Na I D2 (589.0 nm)']\n",
       "  L1-WMXRV     CBEOML 2025-07-25T18:43:08.992 2025-07-25T19:14:44.322       VISP  392.9198999859118 .. 393.79752281166503     (-288.72,-530.91),(-366.19,-547.08)   1.760634183883667   639.960338028169               eid_3_4             pid_3_4              IQUV       plages              920     0.08873779872309623            0.8761803614274307      True 2026-01-27T02:37:23.098000        False                 False              True              True      0.000960200028176415     0.041900005586735053         947.6647340869578 ACTIVE                         ['Ca II K (393.37 nm)']\n",
       "  L1-VDZUH     XFGBZY 2025-07-25T18:43:08.912 2025-07-25T19:14:44.242       VISP   853.2831091498085 .. 854.9919438004661     (-307.74,-532.17),(-357.56,-546.71)  1.7660656571388245 480.00721126760567               eid_3_4             pid_3_4              IQUV       plages              920     0.08873779872309623            0.9724066523758402      True 2026-01-27T02:37:23.098000        False                 False              True              True        0.0018374566136103       0.0364394244759329          947.664761199992 ACTIVE                           ['Ca II (854.21 nm)']\n",
       "  L1-GWEZR     LKFUPP 2025-07-25T20:03:36.060 2025-07-25T20:35:11.390       VISP   588.9204866381452 .. 590.1542323412323     (-299.74,-533.02),(-360.62,-545.44)   1.763080358505249 112.05588732394367               eid_3_4             pid_3_4              IQUV       plages              920     0.07821081602474375            0.9706617939105486      True 2026-01-27T02:37:23.098000        False                 False              True              True        0.0013617502241579      0.03867495075642855         947.6647623434789 ACTIVE   ['Na I D1 (589.59 nm)', 'Na I D2 (589.0 nm)']\n",
       "  L1-LHIIP     EASWQL 2025-07-25T21:50:01.917 2025-07-25T22:05:49.406       VISP   588.9204866381452 .. 590.1542323412323     (-299.74,-535.97),(-360.55,-543.34)  1.1039811372756958 28.013971830985916               eid_3_4             pid_3_4              IQUV       plages              588     0.04635768782416495            0.9994448327278892      True 2026-01-27T02:37:23.098000        False                 False              True              True        0.0013617502241579       0.2602865174702077         474.0018689387795 ACTIVE   ['Na I D1 (589.59 nm)', 'Na I D2 (589.0 nm)']\n",
       "  L1-BPTNX     ROYULI 2025-07-25T20:03:36.244 2025-07-25T20:35:11.574       VISP   853.2831091498085 .. 854.9919438004661     (-307.98,-533.08),(-357.29,-545.42)  1.7686137557029724 480.00721126760567               eid_3_4             pid_3_4              IQUV       plages              920     0.07821081602474375            0.9675330965601918      True 2026-01-27T02:37:23.098000        False                 False              True              True        0.0018374566136103       0.0364394244759329          947.664734108705 ACTIVE                           ['Ca II (854.21 nm)']\n",
       "  L1-RVJIL     NUACBO 2025-07-25T21:50:01.963 2025-07-25T22:05:49.452       VISP   853.2831091498085 .. 854.9919438004661     (-307.97,-536.82),(-357.23,-542.97)  1.1095279455184937 120.00180281690142               eid_3_4             pid_3_4              IQUV       plages              588     0.04635768782416495            0.9831479388361433      True 2026-01-27T02:37:23.098000        False                 False              True              True        0.0018374566136103      0.25860496236519265         474.0018621088393 ACTIVE                           ['Ca II (854.21 nm)']\n",
       "  L1-QZWMJ     JRNJIO 2025-07-25T20:03:36.324 2025-07-25T20:35:11.654       VISP  392.9198999859118 .. 393.79752281166503     (-288.94,-532.88),(-365.95,-545.48)  1.7547708749771118   639.960338028169               eid_3_4             pid_3_4              IQUV       plages              920     0.07821081602474375             0.832378490903459      True 2026-01-27T02:37:23.098000        False                 False              True              True      0.000960200028176415     0.041900005586735053          947.664713360869 ACTIVE                         ['Ca II K (393.37 nm)']\n",
       "  L1-XUMTZ     YMHSFH 2025-07-25T21:13:28.622 2025-07-25T21:49:14.606       VISP   853.2831091498085 .. 854.9919438004661     (-307.97,-538.07),(-357.23,-540.53)   2.509949505329132 120.00180281690142               eid_3_4             pid_3_4              IQUV       plages             1320     0.06160660224714787            0.9671716150645259      True 2026-01-27T02:37:23.098000        False                 False              True              True        0.0018374566136103      0.25860496236519265        1072.3588517212131 ACTIVE                           ['Ca II (854.21 nm)']\n",
       "  L1-OQRNK     BYGWXN 2025-07-25T20:36:41.191 2025-07-25T21:12:25.369       VISP   588.9204866381452 .. 590.1542323412323     (-299.73,-538.27),(-360.55,-539.78)  2.5046414136886597 28.013971830985916               eid_3_4             pid_3_4              IQUV       plages             1320     0.06161368051894072            0.9727869143520455      True 2026-01-27T02:37:23.098000        False                 False              True              True        0.0013617502241579       0.2602865174702077         1072.226519296968 ACTIVE   ['Na I D1 (589.59 nm)', 'Na I D2 (589.0 nm)']\n",
       "  L1-EXWBQ     VQTEHK 2025-07-25T19:17:12.619 2025-07-25T19:52:51.380       VISP   588.9204866381452 .. 590.1542323412323        (-299.73,-537.58),(-360.56,-541)  2.5083670020103455 28.013971830985916               eid_3_4             pid_3_4              IQUV       plages             1320      0.0796141355422077            0.9898101909704909      True 2026-01-27T02:37:23.098000        False                 False              True              True        0.0013617502241579       0.2602865174702077        1069.1596711454533 ACTIVE   ['Na I D1 (589.59 nm)', 'Na I D2 (589.0 nm)']\n",
       "  L1-CSUGM     DZILEL 2025-07-25T21:13:28.642 2025-07-25T21:49:14.626       VISP  392.9198999859118 .. 393.79752281166503     (-288.93,-537.51),(-365.88,-540.79)    2.48965322971344 159.99008450704224               eid_3_4             pid_3_4              IQUV       plages             1320     0.06160660224714787            0.8219534964602953      True 2026-01-27T02:37:23.098000        False                 False              True              True      0.000960200028176415      0.26411207113316454        1072.3588456606024 ACTIVE                         ['Ca II K (393.37 nm)']\n",
       "  L1-HEGXO     MXJLDS 2025-07-25T21:13:28.576 2025-07-25T21:49:14.560       VISP   588.9204866381452 .. 590.1542323412323     (-299.73,-537.84),(-360.55,-540.64)  2.5083348155021667 28.013971830985916               eid_3_4             pid_3_4              IQUV       plages             1320     0.06160660224714787            0.9726293304268355      True 2026-01-27T02:37:23.098000        False                 False              True              True        0.0013617502241579       0.2602865174702077         1072.358853248493 ACTIVE   ['Na I D1 (589.59 nm)', 'Na I D2 (589.0 nm)']\n",
       "  L1-UKNMY     GHUORP 2025-07-25T20:36:41.257 2025-07-25T21:12:25.435       VISP  392.9198999859118 .. 393.79752281166503     (-288.93,-538.22),(-365.88,-539.87)   2.486482858657837 159.99008450704224               eid_3_4             pid_3_4              IQUV       plages             1320     0.06161368051894072            0.8379989475496645      True 2026-01-27T02:37:23.098000        False                 False              True              True      0.000960200028176415      0.26411207113316454        1072.2265072151472 ACTIVE                         ['Ca II K (393.37 nm)']\n",
       "  L1-AFEWG     QGNGJQ 2025-07-25T19:17:12.665 2025-07-25T19:52:51.426       VISP   853.2831091498085 .. 854.9919438004661      (-307.97,-537.9),(-357.23,-540.85)   2.503104507923126 120.00180281690142               eid_3_4             pid_3_4              IQUV       plages             1320      0.0796141355422077            0.9826419760814187      True 2026-01-27T02:37:23.098000        False                 False              True              True        0.0018374566136103      0.25860496236519265        1069.1596665939396 ACTIVE                           ['Ca II (854.21 nm)']\n",
       "  L1-KJLXT     PTWDUM 2025-07-25T20:36:41.237 2025-07-25T21:12:25.415       VISP   853.2831091498085 .. 854.9919438004661      (-307.97,-538.29),(-357.23,-539.7)   2.508106827735901 120.00180281690142               eid_3_4             pid_3_4              IQUV       plages             1320     0.06161368051894072            0.9730549695245664      True 2026-01-27T02:37:23.098000        False                 False              True              True        0.0018374566136103      0.25860496236519265         1072.226512751526 ACTIVE                           ['Ca II (854.21 nm)']\n",
       "  L1-YTBHF     ZWLYAU 2025-07-25T19:17:12.685 2025-07-25T19:52:51.446       VISP  392.9198999859118 .. 393.79752281166503      (-288.93,-537.14),(-365.89,-541.2)  2.4907073378562927 159.99008450704224               eid_3_4             pid_3_4              IQUV       plages             1320      0.0796141355422077            0.8435529543777792      True 2026-01-27T02:37:23.098000        False                 False              True              True      0.000960200028176415      0.26411207113316454         1069.159664566672 ACTIVE                         ['Ca II K (393.37 nm)']\n",
       "  L1-GWDXR     AVPJGG 2025-03-31T20:42:37.848 2025-03-31T21:36:22.463       VISP   516.7013881937395 .. 517.8165342454874       (705.49,-481.48),(653.16,-531.66)   7.606809139251709  200.0338028169014              eid_3_75            pid_3_75              IQUV  coronalhole             4000     0.05306403905095122            1.1603951639768004      True 2025-11-21T11:08:18.873000        False                 False              True              True      0.001199081776073108      0.03626730983516076        1612.3075494339964 ACTIVE                         ['Mg I b1 (517.27 nm)']\n",
       "  L1-IGHRS     CBQKML 2025-03-31T21:38:27.711 2025-03-31T22:02:04.131       VISP   853.5883515394114 .. 854.7072402859393             (0.02,36.64),(-0.03,-38.86)   7.541349828243256  80.01352112676057              eid_3_75            pid_3_75              IQUV     quietsun             4000     0.04748735329169197            0.9306691419272592      True 2025-11-21T11:08:18.873000        False                 False              True              True       0.00122550793705134      0.04121799928134239         708.2102030779935 ACTIVE                           ['Ca II (854.21 nm)']\n",
       "  L1-NLKRB     KSDVTD 2025-03-31T21:38:27.683 2025-03-31T22:02:04.103       VISP   629.6067648891277 .. 630.6816283364794                 (0,26.47),(-0.04,-34.2)    7.52925306558609 23.985577464788733              eid_3_75            pid_3_75              IQUV     quietsun             4000     0.04748735329169197            0.9349270098777084      True 2025-11-21T11:08:18.873000        False                 False              True              True      0.001189008238220936     0.038535785553015886         708.2101885700081 ACTIVE        ['Fe I (630.15 nm)', 'Fe I (630.25 nm)']\n",
       "  L1-TILEC     OIMFKH 2025-03-31T21:38:27.711 2025-03-31T22:02:04.131       VISP   516.7013881937395 .. 517.8165342454874             (0.03,19.15),(-0.01,-31.02)   7.642300128936768  80.01352112676057              eid_3_75            pid_3_75              IQUV     quietsun             4000     0.04748735329169197            0.9437057045269374      True 2025-11-21T11:08:18.873000        False                 False              True              True      0.001199081776073108      0.03626730983516076         708.2102025759937 ACTIVE                         ['Mg I b1 (517.27 nm)']\n",
       "  L1-MNUED     UCVAYO 2025-03-31T20:42:37.848 2025-03-31T21:36:22.463       VISP   853.5883515394114 .. 854.7072402859393        (705.49,-463.99),(653.12,-539.5)   7.543487548828125  200.0338028169014              eid_3_75            pid_3_75              IQUV  coronalhole             4000     0.05306403905095122             1.046390792003194      True 2025-11-21T11:08:18.873000        False                 False              True              True       0.00122550793705134      0.04121799928134239        1612.3075494339964 ACTIVE                           ['Ca II (854.21 nm)']\n",
       "  L1-POJLU     ILXCSO 2025-03-31T20:42:37.778 2025-03-31T21:36:22.393       VISP   629.6067648891277 .. 630.6816283364794       (705.68,-474.15),(652.96,-534.84)   7.478511035442352  59.96394366197183              eid_3_75            pid_3_75              IQUV  coronalhole             4000     0.05306403905095122             1.108671609869759      True 2025-11-21T11:08:18.873000        False                 False              True              True      0.001189008238220936     0.038535785553015886        1612.3080149209975 ACTIVE        ['Fe I (630.15 nm)', 'Fe I (630.25 nm)']\n",
       "  L1-AFQVG     GHYKRP 2025-07-29T21:07:16.421 2025-07-29T21:16:08.528       VISP 396.44361579559074 .. 397.27772881046286          (863.08,205.96),(786.13,200.1)  0.2063155174255371 1599.9008450704225              eid_3_31            pid_3_31              IQUV      sunspot              108     0.05660886158693136            1.0499624644224073      True 2026-01-30T00:05:56.215000        False                 False              True              True      0.000914597604026474      0.12184457934739044        266.05322885185177 ACTIVE ['Ca II H (396.85 nm)', 'H epsilon (397.0 nm)']\n",
       "  L1-UKBDY     PTVEUM 2025-07-29T21:07:15.981 2025-07-29T21:16:08.088       VISP   655.3445730147351 .. 657.1233138349977          (844.62,205.9),(795.33,200.18)  0.2038988471031189  719.9369014084507              eid_3_31            pid_3_31              IQUV      sunspot              108     0.05660886158693136            1.0728087685998073      True 2026-01-30T00:05:56.215000        False                 False              True              True         0.001914683337204      0.11636725911978396         266.0532473703704 ACTIVE                         ['H alpha (656.28 nm)']\n",
       "  L1-CSYRM     YMONFH 2025-07-29T22:10:16.517 2025-07-29T22:13:20.708       VISP   655.3445730147351 .. 657.1233138349977            (188.42,50.75),(186.25,1.49) 0.07607012987136841  719.9369014084507              eid_3_31            pid_3_31              IQUV     quietsun               40                     nan            0.9432119194899325      True 2026-01-30T00:05:56.215000        False                 False              True              True         0.001914683337204      0.11636725911978396         92.09550710000332 ACTIVE                         ['H alpha (656.28 nm)']\n",
       "  L1-OQLBK     DZSPEL 2025-07-29T22:10:16.957 2025-07-29T22:13:21.148       VISP 396.44361579559074 .. 397.27772881046286           (188.46,69.22),(186.14,-7.72) 0.07638394832611084 1599.9008450704225              eid_3_31            pid_3_31              IQUV     quietsun               40     0.04372705837782435            0.8488680405838526      True 2026-01-30T00:05:56.215000        False                 False              True              True      0.000914597604026474      0.12184457934739044         92.09545710000111 ACTIVE ['Ca II H (396.85 nm)', 'H epsilon (397.0 nm)']\n",
       "  L1-KJPZT     MXIPDS 2025-07-29T22:10:16.317 2025-07-29T22:13:20.508       VISP  485.55237245352896 .. 486.5466621471217           (188.44,58.44),(186.22,-2.37) 0.07575899362564087  320.0540845070422              eid_3_31            pid_3_31              IQUV     quietsun               40     0.04372705837782435             0.931871716404644      True 2026-01-30T00:05:56.215000        False                 False              True              True         0.001097449992928      0.11840348483849156         92.09560709999434 ACTIVE                          ['H beta (486.13 nm)']\n",
       "  L1-IGKPS     BYRVXN 2025-07-29T21:07:15.781 2025-07-29T21:16:07.888       VISP  485.55237245352896 .. 486.5466621471217          (852.31,205.9),(791.48,200.13)  0.2044755220413208  320.0540845070422              eid_3_31            pid_3_31              IQUV      sunspot              108     0.05660886158693136            1.0872734145969507      True 2026-01-30T00:05:56.215000        False                 False              True              True         0.001097449992928      0.11840348483849156        266.05330285185505 ACTIVE                          ['H beta (486.13 nm)']\n",
       "  L1-DBWJE     ZWPFAU 2025-07-29T20:11:23.889 2025-07-29T20:59:17.958       VISP 396.44361579559074 .. 397.27772881046286         (859.13,214.69),(782.13,199.74)  1.0795167088508606 1599.9008450704225              eid_3_31            pid_3_31              IQUV      sunspot              560     0.07250582643247062            1.0440729147650252      True 2026-01-30T00:05:56.215000        False                 False              True              True      0.000914597604026474      0.12184457934739044        1437.0343879857146 ACTIVE ['Ca II H (396.85 nm)', 'H epsilon (397.0 nm)']\n",
       "  L1-EXVXQ     QGBRJQ 2025-07-29T20:11:23.449 2025-07-29T20:59:17.518       VISP   655.3445730147351 .. 657.1233138349977         (840.67,214.63),(791.33,199.83)  1.0658615827560425  719.9369014084507              eid_3_31            pid_3_31              IQUV      sunspot              560     0.07250582643247062            1.0566850528623288      True 2026-01-30T00:05:56.215000        False                 False              True              True         0.001914683337204      0.11636725911978396        1437.0344023500015 ACTIVE                         ['H alpha (656.28 nm)']\n",
       "  L1-YTXOF     VQCQHK 2025-07-29T20:11:23.249 2025-07-29T20:59:17.318       VISP  485.55237245352896 .. 486.5466621471217         (848.36,214.63),(787.48,199.81)  1.0715317726135254  320.0540845070422              eid_3_31            pid_3_31              IQUV      sunspot              560     0.07250582643247062            1.0798233349039927      True 2026-01-30T00:05:56.215000        False                 False              True              True         0.001097449992928      0.11840348483849156        1437.0344594785665 ACTIVE                          ['H beta (486.13 nm)']\n",
       "  L1-HEDTO     HJCVOY 2025-03-26T20:12:06.584 2025-03-26T21:38:37.548 CRYO-NIRSP                         1083.0 .. 1083.0       (908.86,-592.43),(779.97,-720.25)  13.652317821979523              725.0              eid_3_19            pid_3_19                 I  quietcorona             5717                     nan                          None      True 2025-09-27T01:15:26.529000        False                 False             False              True                       nan                  0.05308         2595.482182350191 ACTIVE                            ['He I (1083.0 nm)']\n",
       "  L1-XUPRZ     XFRXZY 2025-03-26T20:12:06.584 2025-03-26T21:38:37.548 CRYO-NIRSP  1072.521193110071 .. 1076.4689278485464        (1330.82,-21.05),(758.68,-747.4)   8.475142121315002              725.0              eid_3_19            pid_3_19                 I  quietcorona             5717                     nan                          None      True 2025-09-27T01:15:26.529000        False                 False              True              True      0.004381503594312247                     0.12         2595.482182350191 ACTIVE                         ['Fe XIII (1074.7 nm)']\n",
       "  L1-VDAYH     ROFYLI 2025-07-29T18:04:47.025 2025-07-29T18:28:23.445       VISP   853.5883515394114 .. 854.7060147780022               (88.47,80.3),(35.37,3.15)  7.4721890687942505  80.01352112676057              eid_3_75            pid_3_75              IQUV     quietsun             4000     0.06252323594726591            0.9231166999353013      True 2025-11-21T11:08:18.873000        False                 False              True              True        0.0012255079370513     0.041900005586735053         708.2100342009965 ACTIVE                           ['Ca II (854.21 nm)']\n",
       "  L1-GWQAR     SPAANK 2025-07-29T18:30:44.527 2025-07-29T18:54:20.947       VISP   516.7013881937395 .. 517.8153351637114             (88.43,61.83),(35.47,12.37)   7.534577250480652  80.01352112676057              eid_3_75            pid_3_75              IQUV     quietsun             4000     0.06996670754702922            0.9013268969383619      True 2025-11-21T11:08:18.873000        False                 False              True              True        0.0011990817760731       0.0364394244759329         708.2098895159944 ACTIVE                         ['Mg I b1 (517.27 nm)']\n",
       "  L1-WMZLV     LKWYPP 2025-07-29T18:04:46.997 2025-07-29T18:28:23.417       VISP   629.6067648891277 .. 630.6840063529559                (88.39,69.52),(35.5,8.5)   7.498354017734528 23.985577464788733              eid_3_75            pid_3_75              IQUV     quietsun             4000     0.06252323594726591            0.9160710774074666      True 2025-11-21T11:08:18.873000        False                 False              True              True        0.0011890082382209      0.03867495075642855         708.2100197090012 ACTIVE        ['Fe I (630.15 nm)', 'Fe I (630.25 nm)']\n",
       "  L1-SRKCN     JRXSIO 2025-07-29T18:04:47.025 2025-07-29T18:28:23.445       VISP   516.7013881937395 .. 517.8153351637114             (88.44,61.83),(35.46,12.37)   7.550568580627441  80.01352112676057              eid_3_75            pid_3_75              IQUV     quietsun             4000     0.06252323594726591            0.9179686883186133      True 2025-11-21T11:08:18.873000        False                 False              True              True        0.0011990817760731       0.0364394244759329         708.2100341999965 ACTIVE                         ['Mg I b1 (517.27 nm)']\n",
       "  L1-PONYU     WETMVA 2025-07-29T18:30:44.527 2025-07-29T18:54:20.947       VISP   853.5883515394114 .. 854.7060147780022               (88.47,80.3),(35.38,3.15)   7.447826564311981  80.01352112676057              eid_3_75            pid_3_75              IQUV     quietsun             4000     0.06996670754702922             0.918196498882873      True 2025-11-21T11:08:18.873000        False                 False              True              True        0.0012255079370513     0.041900005586735053         708.2098895159944 ACTIVE                           ['Ca II (854.21 nm)']\n",
       "  L1-BPCBX     FDKTWI 2025-07-29T18:30:44.499 2025-07-29T18:54:20.919       VISP   629.6067648891277 .. 630.6840063529559                (88.39,69.52),(35.5,8.5)  7.4620503187179565 23.985577464788733              eid_3_75            pid_3_75              IQUV     quietsun             4000     0.06996670754702922            0.9016300942105542      True 2025-11-21T11:08:18.873000        False                 False              True              True        0.0011890082382209      0.03867495075642855         708.2098755159996 ACTIVE        ['Fe I (630.15 nm)', 'Fe I (630.25 nm)']\n",
       "  L1-RVISL     NUGMBO 2025-07-31T21:32:00.627 2025-07-31T22:22:59.314       VISP    524.4580545436413 .. 525.465921043643                   (0,17.54),(-0,-31.74)  18.247690200805664  59.98242253521127              eid_3_60            pid_3_60              IQUV     quietsun             9600     0.04951311201845409             0.869780385831175      True 2026-02-04T11:14:05.232000        False                 False              True              True        0.0010860630387949      0.02310152928007235         1529.393450150427 ACTIVE                            ['Fe I (525.04 nm)']\n",
       "  L1-HERZO     TNQPCV 2025-07-31T21:32:00.623 2025-07-31T22:22:59.310       VISP   460.2430430589104 .. 461.0727083667805                (0.01,25.58),(-0,-35.26)   18.12690496444702  51.99954929577465              eid_3_60            pid_3_60              IQUV     quietsun             9600     0.04951311201845409            0.9072513989577832      True 2026-02-04T11:14:05.232000        False                 False              True              True      0.000915745372925008       0.0253703136866945         1529.393458447496 ACTIVE                            ['Sr I (460.73 nm)']\n",
       "  L1-JAOHI     EANVQL 2025-07-31T21:32:00.611 2025-07-31T22:22:59.298       VISP    516.6793386994649 .. 517.630928090423                (0.01,36.46),(-0,-40.51)   18.18526715040207 28.013971830985916              eid_3_60            pid_3_60              IQUV     quietsun             9600     0.04951311201845409            0.9081842605973467      True 2026-02-04T11:14:05.232000        False                 False              True              True        0.0010434094199102     0.028559317063786352         1529.393465991241 ACTIVE                         ['Mg I b1 (517.27 nm)']\n",
       "  L1-YTZKF     JRZNIO 2025-08-07T20:51:49.922 2025-08-07T21:03:36.487       VISP    629.5634983959548 .. 630.726803932807       (-368.89,344.54),(-445.84,336.63)  1.1706313490867615 49.985352112676054              eid_3_20            pid_3_20              IQUV     quietsun              600     0.06014629949848673            0.9579701428018897      True 2025-12-17T23:18:46.673000        False                 False              True              True         0.001275554316724     0.041900005586735053         353.2824387999991 ACTIVE        ['Fe I (630.15 nm)', 'Fe I (630.25 nm)']\n",
       "  L1-TIYIC     LKVFPP 2025-08-07T20:51:50.072 2025-08-07T21:03:36.637       VISP   853.2738241471143 .. 855.0185864062944       (-388.04,344.52),(-437.29,336.62)    1.15131676197052 349.98985915492955              eid_3_20            pid_3_20              IQUV     quietsun              600                     nan            0.9752882802922579      True 2025-12-17T23:18:46.673000        False                 False              True              True        0.0018781079216147       0.0364394244759329         353.2824377733341 ACTIVE                           ['Ca II (854.21 nm)']\n",
       "  L1-MNWID     XFPAZY 2025-08-07T20:51:49.997 2025-08-07T21:03:36.562       VISP   485.5653243574034 .. 486.5905671072882       (-379.56,344.52),(-440.38,336.64)  1.1489295959472656  200.0338028169014              eid_3_20            pid_3_20              IQUV     quietsun              600     0.06014629949848673            0.9536411692187221      True 2025-12-17T23:18:46.673000        False                 False              True              True        0.0011316145142216      0.03867495075642855         353.2824611066567 ACTIVE                          ['H beta (486.13 nm)']\n",
       "  L1-QZHEJ     OIDWKH 2025-08-07T18:14:52.328 2025-08-07T19:27:01.367       VISP   853.2738241471143 .. 855.0185864062944       (-492.51,283.49),(-542.22,272.08)   6.881480813026428 349.98985915492955              eid_3_20            pid_3_20              IQUV      sunspot             3600     0.09937740201739748            0.9845919873127339      True 2025-12-17T23:18:46.673000        False                 False              True              True        0.0018781079216147       0.0364394244759329        2164.5194709288908 ACTIVE                           ['Ca II (854.21 nm)']\n",
       "  L1-DBVIE     HJMHOY 2025-08-07T19:33:46.060 2025-08-07T20:45:55.099       VISP   853.2738241471143 .. 855.0185864062944       (-490.17,283.37),(-539.44,275.46)   6.920587420463562 349.98985915492955              eid_3_20            pid_3_20              IQUV      sunspot             3600     0.07966512065704481            0.9800000456803941      True 2025-12-17T23:18:46.673000        False                 False              True              True        0.0018781079216147       0.0364394244759329        2164.5193795588834 ACTIVE                           ['Ca II (854.21 nm)']\n",
       "  L1-ZYENA     UCHGYO 2025-08-07T18:14:52.178 2025-08-07T19:27:01.217       VISP    629.5634983959548 .. 630.726803932807       (-473.41,284.89),(-550.76,271.48)   6.973038017749786 49.985352112676054              eid_3_20            pid_3_20              IQUV      sunspot             3600     0.09937740201739748            0.9889978232974423      True 2025-12-17T23:18:46.673000        False                 False              True              True         0.001275554316724     0.041900005586735053         2164.519467594454 ACTIVE        ['Fe I (630.15 nm)', 'Fe I (630.25 nm)']\n",
       "  L1-BPDZX     KSEHTD 2025-08-07T19:33:45.985 2025-08-07T20:45:55.024       VISP   485.5653243574034 .. 486.5905671072882        (-481.7,283.38),(-542.53,275.48)   6.889811754226685  200.0338028169014              eid_3_20            pid_3_20              IQUV      sunspot             3600     0.07966512065704481             0.969081849149381      True 2025-12-17T23:18:46.673000        False                 False              True              True        0.0011316145142216      0.03867495075642855        2164.5194017833364 ACTIVE                          ['H beta (486.13 nm)']\n",
       "  L1-FCZRW     ILZMSO 2025-08-07T18:14:52.253 2025-08-07T19:27:01.292       VISP   485.5653243574034 .. 486.5905671072882       (-484.06,284.11),(-545.31,271.88)  6.8341585993766785  200.0338028169014              eid_3_20            pid_3_20              IQUV      sunspot             3600     0.09937740201739748              1.00050223273531      True 2025-12-17T23:18:46.673000        False                 False              True              True        0.0011316145142216      0.03867495075642855         2164.519492043325 ACTIVE                          ['H beta (486.13 nm)']\n",
       "  L1-POBFU     CBJTML 2025-08-07T19:33:45.910 2025-08-07T20:45:54.949       VISP    629.5634983959548 .. 630.726803932807        (-471.03,283.4),(-547.98,275.46)   7.034388184547424 49.985352112676054              eid_3_20            pid_3_20              IQUV      sunspot             3600     0.07966512065704481            0.9692672399262467      True 2025-12-17T23:18:46.673000        False                 False              True              True         0.001275554316724     0.041900005586735053          2164.51937789778 ACTIVE        ['Fe I (630.15 nm)', 'Fe I (630.25 nm)']\n",
       "  L1-DBHSE     TNJUCV 2025-08-06T22:18:50.800 2025-08-06T22:19:36.547       VISP   655.3445730147351 .. 657.1213991516605             (0.03,17.64),(-0.13,-31.62) 0.14964044094085693 159.99008450704224              eid_3_30            pid_3_30              IQUV     quietsun               80                     nan            0.9737997588831085      True 2026-02-08T01:13:26.978000        False                 False              True              True         0.001914683337204      0.11636725911978396        22.873435549999073 ACTIVE                         ['H alpha (656.28 nm)']\n",
       "  L1-MNVSD     EABHQL 2025-08-06T22:18:50.756 2025-08-06T22:19:36.503       VISP   853.0879983708171 .. 855.1092117529192              (0.08,25.2),(-0.02,-35.62)  0.1481035351753235  71.99369014084508              eid_3_30            pid_3_30              IQUV     quietsun               80                     nan            0.9798042804153655      True 2026-02-08T01:13:26.978000        False                 False              True              True        0.0022284601787234      0.11840348483849156         22.87343559999524 ACTIVE                           ['Ca II (854.21 nm)']\n",
       "  L1-POXWU     YMKBFH 2025-08-06T22:18:50.800 2025-08-06T22:19:36.547       VISP 396.44361579559074 .. 397.27772881046286             (0.13,36.29),(-0.06,-40.66) 0.14875799417495728 159.99008450704224              eid_3_30            pid_3_30              IQUV     quietsun               80                     nan            0.8514268872954505      True 2026-02-08T01:13:26.978000        False                 False              True              True      0.000914597604026474      0.12184457934739044        22.873435549999073 ACTIVE ['Ca II H (396.85 nm)', 'H epsilon (397.0 nm)']\n",
       "  L1-BPEAX     MXSUDS 2025-08-06T21:07:47.167 2025-08-06T22:11:57.919       VISP   854.2047114775628 .. 856.2259248596649       (802.51,-316.42),(741.73,-317.92)  2.2843945026397705  71.99369014084508              eid_3_30            pid_3_30              IQUV      sunspot             1200      0.0628035518897848            1.0219763119994927      True 2026-02-08T01:13:26.978000        False                 False              True              True        0.0022284601787234       0.0241313532339209         1924.678084116672 ACTIVE                           ['Ca II (854.21 nm)']\n",
       "  L1-QZOQJ     PTHQUM 2025-08-06T21:07:47.211 2025-08-06T22:11:57.963       VISP 396.90133284199266 .. 397.73544585686477       (818.48,-316.03),(741.57,-317.92)   2.299857437610626 159.99008450704224              eid_3_30            pid_3_30              IQUV      sunspot             1200      0.0628035518897848            0.9690940188325904      True 2026-02-08T01:13:26.978000        False                 False              True              True      0.000914597604026474       0.0304372570816752          1924.67808244999 ACTIVE                        ['H epsilon (397.0 nm)']\n",
       "  L1-ZYQBA     BYLHXN 2025-08-06T19:41:13.326 2025-08-06T20:51:10.439       VISP   854.2047114775628 .. 856.2259248596649       (800.94,-317.74),(740.13,-317.84)  2.5065886974334717  71.99369014084508              eid_3_30            pid_3_30              IQUV      sunspot             1312      0.0902906573460365            0.9964268034495669      True 2026-02-08T01:13:26.978000        False                 False              True              True        0.0022284601787234       0.0241313532339209         2097.285829128042 ACTIVE                           ['Ca II (854.21 nm)']\n",
       "  L1-RVSNL     QGXLJQ 2025-08-06T19:41:13.370 2025-08-06T20:51:10.483       VISP 396.90133284199266 .. 397.73544585686477       (816.91,-317.71),(739.97,-317.84)  2.5456175208091736 159.99008450704224              eid_3_30            pid_3_30              IQUV      sunspot             1312      0.0902906573460365            0.9036169330227602      True 2026-02-08T01:13:26.978000        False                 False              True              True      0.000914597604026474       0.0304372570816752        2097.2858291219586 ACTIVE                        ['H epsilon (397.0 nm)']\n",
       "  L1-GWSLR     DZNUEL 2025-08-06T21:07:47.211 2025-08-06T22:11:57.963       VISP   656.3037476894781 .. 658.0805738264035       (790.68,-316.72),(741.46,-317.92)   2.307177186012268 159.99008450704224              eid_3_30            pid_3_30              IQUV      sunspot             1200      0.0628035518897848            1.0378774533346624      True 2026-02-08T01:13:26.978000        False                 False              True              True         0.001914683337204       0.0195272681684235          1924.67808244999 ACTIVE                                            None\n",
       "  L1-FCALW     GHFTRP 2025-08-06T19:41:13.370 2025-08-06T20:51:10.483       VISP   656.3037476894781 .. 658.0805738264035       (789.11,-317.76),(739.86,-317.84)   2.535122036933899 159.99008450704224              eid_3_30            pid_3_30              IQUV      sunspot             1312      0.0902906573460365             1.015493939660239      True 2026-02-08T01:13:26.978000        False                 False              True              True         0.001914683337204       0.0195272681684235        2097.2858291219586 ACTIVE                                            None\n",
       "  L1-UKXEY     FDTCWI 2025-08-01T19:58:13.098 2025-08-01T20:49:11.677       VISP    524.4580545436413 .. 525.465921043643                  (0,5.24),(-0.01,-5.55)  18.001978397369385  59.98242253521127              eid_3_60            pid_3_60              IQUV     quietsun             9600     0.04523110490932295            0.8859235256177055      True 2026-02-04T11:14:05.232000        False                 False              True              True        0.0010860630387949      0.02310152928007235         1529.352779139995 ACTIVE                            ['Fe I (525.04 nm)']\n",
       "  L1-EXHZQ     ROWFLI 2025-08-01T19:58:13.094 2025-08-01T20:49:11.673       VISP   460.2430430589104 .. 461.0727083667805                  (0,5.27),(-0.01,-5.55)   17.95161724090576  51.99954929577465              eid_3_60            pid_3_60              IQUV     quietsun             9600     0.04523110490932295            0.9166942361004201      True 2026-02-04T11:14:05.232000        False                 False              True              True      0.000915745372925008       0.0253703136866945        1529.3527872649995 ACTIVE                            ['Sr I (460.73 nm)']\n",
       "  L1-KJUAT     WECDVA 2025-08-01T18:58:41.758 2025-08-01T19:45:58.459       VISP   460.2430430589104 .. 461.0727083667805           (-847.06,9.48),(-907.9,-1.08)  17.829246819019318  59.98242253521127              eid_3_60            pid_3_60              IQUV     quietsun             9600     0.05577938937540974            1.0780502717894906      True 2026-02-04T11:14:05.232000        False                 False              True              True      0.000915745372925008       0.0253703136866945        1418.2916126720895 ACTIVE                            ['Sr I (460.73 nm)']\n",
       "  L1-AFJHG     SPGGNK 2025-08-01T19:58:13.082 2025-08-01T20:49:11.661       VISP    516.6793386994649 .. 517.630928090423                  (0.01,5.34),(-0,-5.59)   17.94993817806244 28.013971830985916              eid_3_60            pid_3_60              IQUV     quietsun             9600     0.04523110490932295            0.9317140487285814      True 2026-02-04T11:14:05.232000        False                 False              True              True        0.0010434094199102     0.028559317063786352        1529.3527939812448 ACTIVE                         ['Mg I b1 (517.27 nm)']\n",
       "  L1-HELAO     ZWUWAU 2025-08-01T18:58:41.748 2025-08-01T19:45:58.449       VISP    516.6793386994649 .. 517.630928090423            (-841.81,9.5),(-918.78,-1.1)   17.84079909324646  40.39481690140845              eid_3_60            pid_3_60              IQUV     quietsun             9600     0.05577938937540974            1.0916400905098893      True 2026-02-04T11:14:05.232000        False                 False              True              True        0.0010434094199102     0.028559317063786352        1418.2918172595826 ACTIVE                         ['Mg I b1 (517.27 nm)']\n",
       "  L1-JAKOI     VQMJHK 2025-08-01T18:58:41.758 2025-08-01T19:45:58.459       VISP    524.4580545436413 .. 525.465921043643          (-850.58,9.49),(-899.87,-1.09)  17.916638553142548  59.98242253521127              eid_3_60            pid_3_60              IQUV     quietsun             9600     0.05577938937540974            1.0407679199160818      True 2026-02-04T11:14:05.232000        False                 False              True              True        0.0010860630387949      0.02310152928007235         1418.291612672506 ACTIVE                            ['Fe I (525.04 nm)']\n",
       "  L1-EXOAQ     AVYSGG 2025-08-11T17:32:20.135 2025-08-11T18:41:35.163       VISP   516.7793451066834 .. 517.7309227874542            (911.2,50.23),(832.92,-4.18)    3.77755343914032 239.92969014084508              eid_3_47            pid_3_47              IQUV     quietsun             2000     0.05723601509479353            1.2019268125601943      True 2025-12-23T00:39:31.618000        False                 False              True              True        0.0010433965797926      0.06853160394411399         2077.514139977998 ACTIVE                         ['Mg I b1 (517.27 nm)']\n",
       "  L1-AFIOG     ILADSO 2025-08-11T17:32:20.135 2025-08-11T18:41:35.163       VISP   853.2593245550534 .. 855.0087169656958           (891.96,49.41),(841.38,-4.12)   3.774257004261017 239.92969014084508              eid_3_47            pid_3_47              IQUV     quietsun             2000     0.05723601509479353             1.095416550426622      True 2025-12-23T00:39:31.618000        False                 False              True              True        0.0018851211321578      0.06306544660199785        2077.5141399819986 ACTIVE                           ['Ca II (854.21 nm)']\n",
       "  L1-YTATF     NURDBO 2025-08-11T17:32:20.335 2025-08-11T18:41:35.363       VISP  392.9969167001119 .. 393.72876734079045            (900.5,49.69),(838.33,-4.09)  3.7101763486862183   639.960338028169              eid_3_47            pid_3_47              IQUV     quietsun             2000     0.05723601509479353            1.2016746154558573      True 2025-12-23T00:39:31.618000        False                 False              True              True      0.000807782164104351        0.065234580727726        2077.5141559799977 ACTIVE                         ['Ca II K (393.37 nm)']"
      ]
     },
     "execution_count": 14,
     "metadata": {},
     "output_type": "execute_result"
    }
   ],
   "source": [
    "# Just get the DKIST results table and sort by number of frames, largest first\n",
    "res2 = res['dkist']\n",
    "res2 = res[0]\n",
    "res2"
   ]
  },
  {
   "cell_type": "code",
   "execution_count": 18,
   "id": "58463195-145d-49b9-9625-291dee40794f",
   "metadata": {
    "editable": true,
    "slideshow": {
     "slide_type": "skip"
    },
    "tags": []
   },
   "outputs": [],
   "source": [
    "res2.sort(\"Number of Frames\", reverse=True)"
   ]
  },
  {
   "cell_type": "code",
   "execution_count": 32,
   "id": "b5d655ff-0024-4a08-936f-7f2e107490dd",
   "metadata": {},
   "outputs": [
    {
     "name": "stdout",
     "output_type": "stream",
     "text": [
      "None\n"
     ]
    }
   ],
   "source": [
    "p = res2.copy()\n",
    "print(p.sort(\"Number of Frames\"))"
   ]
  },
  {
   "cell_type": "code",
   "execution_count": 17,
   "id": "7aee7fca-abf7-4f50-a78a-094653a83a0b",
   "metadata": {
    "editable": true,
    "slideshow": {
     "slide_type": "skip"
    },
    "tags": []
   },
   "outputs": [
    {
     "data": {
      "text/html": [
       "\n",
       "<p>\n",
       "Showing 5 of 259 available results.\n",
       "Use <code>a.dkist.Page(2)</code> to show the second page of results.\n",
       "\n",
       "</p>\n",
       "<div><i>DKISTQueryResponseTable length=5</i>\n",
       "<table id=\"table140590730134352\" class=\"table-striped table-bordered table-condensed\">\n",
       "<thead><tr><th>Product ID</th><th>Instrument</th><th>Embargoed</th><th>Number of Frames</th><th>Embargo End Date</th></tr></thead>\n",
       "<thead><tr><th>str8</th><th>str10</th><th>bool</th><th>int64</th><th>object</th></tr></thead>\n",
       "<tr><td>L1-LHMMP</td><td>VISP</td><td>True</td><td>21000</td><td>2025-12-23T15:01:27.580000</td></tr>\n",
       "<tr><td>L1-RVCML</td><td>VISP</td><td>True</td><td>21000</td><td>2025-12-23T15:01:27.580000</td></tr>\n",
       "<tr><td>L1-JAUPI</td><td>VISP</td><td>True</td><td>21000</td><td>2025-12-23T15:01:27.580000</td></tr>\n",
       "<tr><td>L1-KJXJT</td><td>VISP</td><td>True</td><td>10700</td><td>2025-12-23T15:01:27.580000</td></tr>\n",
       "<tr><td>L1-UKEHY</td><td>VISP</td><td>True</td><td>10700</td><td>2025-12-23T15:01:27.580000</td></tr>\n",
       "</table></div>"
      ],
      "text/plain": [
       "<dkist.net.client.DKISTQueryResponseTable object at 0x7fddd4874110>\n",
       "\n",
       "Showing 5 of 259 available results.\n",
       "Use a.dkist.Page(2) to show the second page of results.\n",
       "\n",
       "Product ID Instrument Embargoed Number of Frames      Embargo End Date     \n",
       "---------- ---------- --------- ---------------- --------------------------\n",
       "  L1-LHMMP       VISP      True            21000 2025-12-23T15:01:27.580000\n",
       "  L1-RVCML       VISP      True            21000 2025-12-23T15:01:27.580000\n",
       "  L1-JAUPI       VISP      True            21000 2025-12-23T15:01:27.580000\n",
       "  L1-KJXJT       VISP      True            10700 2025-12-23T15:01:27.580000\n",
       "  L1-UKEHY       VISP      True            10700 2025-12-23T15:01:27.580000"
      ]
     },
     "execution_count": 17,
     "metadata": {},
     "output_type": "execute_result"
    }
   ],
   "source": [
    "# Print top result, ie dataset with largest number of frames\n",
    "res2[:5][\"Product ID\", \"Instrument\", \"Embargoed\", \"Number of Frames\", \"Embargo End Date\"]"
   ]
  },
  {
   "cell_type": "code",
   "execution_count": 27,
   "id": "3d069e02-fef7-4b42-9423-847ec5b1a3ea",
   "metadata": {},
   "outputs": [
    {
     "data": {
      "text/plain": [
       "np.int64(21000)"
      ]
     },
     "execution_count": 27,
     "metadata": {},
     "output_type": "execute_result"
    }
   ],
   "source": [
    "max_frames = res[0][\"Number of Frames\"].max()\n",
    "max_frames"
   ]
  },
  {
   "cell_type": "code",
   "execution_count": 30,
   "id": "1e1557d2-5e6f-49cd-9158-2f174a38e727",
   "metadata": {},
   "outputs": [
    {
     "data": {
      "text/html": [
       "\n",
       "<p>\n",
       "Showing 3 of 259 available results.\n",
       "Use <code>a.dkist.Page(2)</code> to show the second page of results.\n",
       "\n",
       "</p>\n",
       "<div><i>DKISTQueryResponseTable length=3</i>\n",
       "<table id=\"table140590729231248\" class=\"table-striped table-bordered table-condensed\">\n",
       "<thead><tr><th>Product ID</th><th>Dataset ID</th><th>Start Time</th><th>End Time</th><th>Instrument</th><th>Wavelength</th><th>Bounding Box</th><th>Dataset Size</th><th>Exposure Time</th><th>Primary Experiment ID</th><th>Primary Proposal ID</th><th>Stokes Parameters</th><th>Target Types</th><th>Number of Frames</th><th>Average Fried Parameter</th><th>Average Polarimetric Accuracy</th><th>Embargoed</th><th>Embargo End Date</th><th>Downloadable</th><th>Is Manually Processed</th><th>Has Spectral Axis</th><th>Has Temporal Axis</th><th>Average Spectral Sampling</th><th>Average Spatial Sampling</th><th>Average Temporal Sampling</th><th>Status</th><th>Spectral Lines</th></tr></thead>\n",
       "<thead><tr><th></th><th></th><th></th><th></th><th></th><th>nm</th><th></th><th>Gibyte</th><th>s</th><th></th><th></th><th></th><th></th><th></th><th></th><th></th><th></th><th></th><th></th><th></th><th></th><th></th><th>nm</th><th>arcsec</th><th>s</th><th></th><th></th></tr></thead>\n",
       "<thead><tr><th>str8</th><th>str6</th><th>Time</th><th>Time</th><th>str10</th><th>float64[2]</th><th>str39</th><th>float64</th><th>float64</th><th>str8</th><th>str8</th><th>str4</th><th>str12[1]</th><th>int64</th><th>object</th><th>object</th><th>bool</th><th>object</th><th>bool</th><th>bool</th><th>bool</th><th>bool</th><th>float64</th><th>float64</th><th>float64</th><th>str6</th><th>object</th></tr></thead>\n",
       "<tr><td>L1-LHMMP</td><td>DBFQEL</td><td>2025-06-02T20:34:20.399</td><td>2025-06-02T21:37:22.016</td><td>VISP</td><td>588.7854550622258 .. 590.2988795566104</td><td>(384.26,180.91),(342.32,138.66)</td><td>39.97901737689972</td><td>39.99752112676056</td><td>eid_3_37</td><td>pid_3_37</td><td>I</td><td>sunspot</td><td>21000</td><td>0.08904273386739828</td><td>None</td><td>True</td><td>2025-12-23T15:01:27.580000</td><td>False</td><td>False</td><td>True</td><td>True</td><td>0.001629089875548576</td><td>0.06414998281011476</td><td>1890.363614606384</td><td>ACTIVE</td><td>[&apos;Na I D1 (589.59 nm)&apos;, &apos;Na I D2 (589.0 nm)&apos;]</td></tr>\n",
       "<tr><td>L1-RVCML</td><td>MNYQDS</td><td>2025-06-02T20:34:20.386</td><td>2025-06-02T21:37:22.003</td><td>VISP</td><td>655.5118919469996 .. 656.9415199551422</td><td>(389.83,186.55),(340.13,136.44)</td><td>39.74171429872513</td><td>13.997746478873239</td><td>eid_3_37</td><td>pid_3_37</td><td>I</td><td>sunspot</td><td>21000</td><td>0.08904273386739828</td><td>None</td><td>True</td><td>2025-12-23T15:01:27.580000</td><td>False</td><td>False</td><td>True</td><td>True</td><td>0.001576216106000582</td><td>0.065271892136613</td><td>1890.3636156047567</td><td>ACTIVE</td><td>[&apos;H alpha (656.28 nm)&apos;]</td></tr>\n",
       "<tr><td>L1-JAUPI</td><td>POIPUM</td><td>2025-06-02T20:34:20.399</td><td>2025-06-02T21:37:22.016</td><td>VISP</td><td>396.44307998853793 .. 397.27832976949054</td><td>(396.45,193.23),(337.3,133.57)</td><td>40.205835700035095</td><td>39.99752112676056</td><td>eid_3_37</td><td>pid_3_37</td><td>I</td><td>sunspot</td><td>21000</td><td>0.08904273386739828</td><td>None</td><td>True</td><td>2025-12-23T15:01:27.580000</td><td>False</td><td>False</td><td>True</td><td>True</td><td>0.000913840022924091</td><td>0.06862364564531594</td><td>1890.3636146305746</td><td>ACTIVE</td><td>[&apos;Ca II H (396.85 nm)&apos;, &apos;H epsilon (397.0 nm)&apos;]</td></tr>\n",
       "</table></div>"
      ],
      "text/plain": [
       "<dkist.net.client.DKISTQueryResponseTable object at 0x7fddd4797950>\n",
       "\n",
       "Showing 3 of 259 available results.\n",
       "Use a.dkist.Page(2) to show the second page of results.\n",
       "\n",
       "Product ID Dataset ID        Start Time               End Time        Instrument                Wavelength                          Bounding Box             Dataset Size      Exposure Time    Primary Experiment ID Primary Proposal ID Stokes Parameters Target Types Number of Frames Average Fried Parameter Average Polarimetric Accuracy Embargoed      Embargo End Date      Downloadable Is Manually Processed Has Spectral Axis Has Temporal Axis Average Spectral Sampling Average Spatial Sampling Average Temporal Sampling Status                  Spectral Lines                \n",
       "                                                                                                    nm                                                          Gibyte               s                                                                                                                                                                                                                                                                                  nm                     arcsec                      s                                                                   \n",
       "---------- ---------- ----------------------- ----------------------- ---------- ---------------------------------------- ------------------------------- ------------------ ------------------ --------------------- ------------------- ----------------- ------------ ---------------- ----------------------- ----------------------------- --------- -------------------------- ------------ --------------------- ----------------- ----------------- ------------------------- ------------------------ ------------------------- ------ -----------------------------------------------\n",
       "  L1-LHMMP     DBFQEL 2025-06-02T20:34:20.399 2025-06-02T21:37:22.016       VISP   588.7854550622258 .. 590.2988795566104 (384.26,180.91),(342.32,138.66)  39.97901737689972  39.99752112676056              eid_3_37            pid_3_37                 I      sunspot            21000     0.08904273386739828                          None      True 2025-12-23T15:01:27.580000        False                 False              True              True      0.001629089875548576      0.06414998281011476         1890.363614606384 ACTIVE   ['Na I D1 (589.59 nm)', 'Na I D2 (589.0 nm)']\n",
       "  L1-RVCML     MNYQDS 2025-06-02T20:34:20.386 2025-06-02T21:37:22.003       VISP   655.5118919469996 .. 656.9415199551422 (389.83,186.55),(340.13,136.44)  39.74171429872513 13.997746478873239              eid_3_37            pid_3_37                 I      sunspot            21000     0.08904273386739828                          None      True 2025-12-23T15:01:27.580000        False                 False              True              True      0.001576216106000582        0.065271892136613        1890.3636156047567 ACTIVE                         ['H alpha (656.28 nm)']\n",
       "  L1-JAUPI     POIPUM 2025-06-02T20:34:20.399 2025-06-02T21:37:22.016       VISP 396.44307998853793 .. 397.27832976949054  (396.45,193.23),(337.3,133.57) 40.205835700035095  39.99752112676056              eid_3_37            pid_3_37                 I      sunspot            21000     0.08904273386739828                          None      True 2025-12-23T15:01:27.580000        False                 False              True              True      0.000913840022924091      0.06862364564531594        1890.3636146305746 ACTIVE ['Ca II H (396.85 nm)', 'H epsilon (397.0 nm)']"
      ]
     },
     "execution_count": 30,
     "metadata": {},
     "output_type": "execute_result"
    }
   ],
   "source": [
    "large = res[0][res[0][\"Number of Frames\"] == max_frames]\n",
    "large"
   ]
  },
  {
   "cell_type": "code",
   "execution_count": null,
   "id": "7456ccce-1808-4eac-8981-c363faedd422",
   "metadata": {},
   "outputs": [],
   "source": []
  },
  {
   "cell_type": "code",
   "execution_count": null,
   "id": "65148c9d-0c07-4714-947a-f8cf20b9d543",
   "metadata": {},
   "outputs": [],
   "source": []
  },
  {
   "cell_type": "code",
   "execution_count": 31,
   "id": "cba69d48-dd57-42f6-addc-fe10d227242b",
   "metadata": {},
   "outputs": [
    {
     "data": {
      "application/vnd.jupyter.widget-view+json": {
       "model_id": "e8cc18a17bdf434ebc8b8a480df91eae",
       "version_major": 2,
       "version_minor": 0
      },
      "text/plain": [
       "Files Downloaded:   0%|          | 0/3 [00:00<?, ?file/s]"
      ]
     },
     "metadata": {},
     "output_type": "display_data"
    },
    {
     "data": {
      "application/vnd.jupyter.widget-view+json": {
       "model_id": "f11a100693324ddab63ef62016584d15",
       "version_major": 2,
       "version_minor": 0
      },
      "text/plain": [
       "VISP_L1_20250602T203420_MNYQDS_metadata.asdf:   0%|          | 0.00/145M [00:00<?, ?B/s]"
      ]
     },
     "metadata": {},
     "output_type": "display_data"
    },
    {
     "data": {
      "application/vnd.jupyter.widget-view+json": {
       "model_id": "5aae7e634a8847988f9a5437fe917eb6",
       "version_major": 2,
       "version_minor": 0
      },
      "text/plain": [
       "VISP_L1_20250602T203420_POIPUM_metadata.asdf:   0%|          | 0.00/147M [00:00<?, ?B/s]"
      ]
     },
     "metadata": {},
     "output_type": "display_data"
    },
    {
     "data": {
      "text/plain": [
       "<parfive.results.Results object at 0x7fddd47b5e50>\n",
       "['/home/stuart/sunpy_data/data/VISP_L1_20250602T203420_DBFQEL_metadata.asdf', '/home/stuart/sunpy_data/data/VISP_L1_20250602T203420_MNYQDS_metadata.asdf', '/home/stuart/sunpy_data/data/VISP_L1_20250602T203420_POIPUM_metadata.asdf']"
      ]
     },
     "execution_count": 31,
     "metadata": {},
     "output_type": "execute_result"
    }
   ],
   "source": [
    "Fido.fetch(large)"
   ]
  },
  {
   "cell_type": "markdown",
   "id": "93dbe431-b056-43fe-ac72-7f73c6f969d9",
   "metadata": {
    "editable": true,
    "slideshow": {
     "slide_type": "slide"
    },
    "tags": []
   },
   "source": [
    "# Exercise 3"
   ]
  },
  {
   "cell_type": "markdown",
   "id": "8e75691f-176b-4b95-bb23-ad5c6e422119",
   "metadata": {
    "editable": true,
    "slideshow": {
     "slide_type": ""
    },
    "tags": []
   },
   "source": [
    "Open the VBI sample dataset again. Choose two adjacent tiles and calculate the overlap between them in arcseconds."
   ]
  },
  {
   "cell_type": "code",
   "execution_count": null,
   "id": "b2af55c8-4d08-49f2-8207-724afc358f37",
   "metadata": {
    "editable": true,
    "slideshow": {
     "slide_type": "skip"
    },
    "tags": []
   },
   "outputs": [],
   "source": [
    "from dkist.data.sample import VBI_L1_NZJTB\n",
    "from dkist import load_dataset\n",
    "import astropy.units as u\n",
    "\n",
    "ds = load_dataset(VBI_L1_NZJTB)"
   ]
  },
  {
   "cell_type": "code",
   "execution_count": null,
   "id": "8ac6bd83-e13f-4e93-a667-2a6f7471cd42",
   "metadata": {
    "editable": true,
    "slideshow": {
     "slide_type": "skip"
    },
    "tags": []
   },
   "outputs": [],
   "source": [
    "# We only need the first image of each tile\n",
    "first_tiles = ds.slice_tiles[0]"
   ]
  },
  {
   "cell_type": "code",
   "execution_count": null,
   "id": "9950a1a7-b40d-4805-9d3a-e2233e7b106b",
   "metadata": {
    "editable": true,
    "slideshow": {
     "slide_type": "skip"
    },
    "tags": []
   },
   "outputs": [],
   "source": [
    "# The bottom left tile is 0,0, get the corner pixel on the right side\n",
    "tile1_bottom_right_pix = first_tiles[0,0].wcs.array_index_to_world(0, 4096)\n",
    "tile1_bottom_right_pix"
   ]
  },
  {
   "cell_type": "code",
   "execution_count": null,
   "id": "c8799085-da6c-47c3-b072-268d5964ad06",
   "metadata": {
    "editable": true,
    "slideshow": {
     "slide_type": "skip"
    },
    "tags": []
   },
   "outputs": [],
   "source": [
    "# The bottom middle tile is 1,0, get the corner pixel on the left side\n",
    "tile2_bottom_left_pix = first_tiles[1,0].wcs.array_index_to_world(0, 0)\n",
    "tile2_bottom_left_pix"
   ]
  },
  {
   "cell_type": "code",
   "execution_count": null,
   "id": "ff22e418-39eb-438a-b738-89e773dc0659",
   "metadata": {
    "editable": true,
    "slideshow": {
     "slide_type": "skip"
    },
    "tags": []
   },
   "outputs": [],
   "source": [
    "(tile1_bottom_right_pix.separation(tile2_bottom_left_pix).to(u.arcsec),\n",
    "\n",
    "tile1_bottom_right_pix.Tx - tile2_bottom_left_pix.Tx,\n",
    "\n",
    "tile1_bottom_right_pix.Ty - tile2_bottom_left_pix.Ty)"
   ]
  },
  {
   "cell_type": "markdown",
   "id": "0323ce1e-9a4b-4707-9591-cd2271d4b62e",
   "metadata": {
    "editable": true,
    "slideshow": {
     "slide_type": "slide"
    },
    "tags": []
   },
   "source": [
    "# Exercise 4"
   ]
  },
  {
   "cell_type": "markdown",
   "id": "9e4d5313-97a3-46b0-8ead-6772c3bb4ac2",
   "metadata": {
    "editable": true,
    "slideshow": {
     "slide_type": ""
    },
    "tags": []
   },
   "source": [
    "Using Fido, find the co-temporal VISP dataset, VBI dataset and AIA image from 19:47 on 2024/04/17. Use `sunpy.visualization.drawing.extent` to plot the FOV of the VBI and VISP datasets onto the AIA image."
   ]
  },
  {
   "cell_type": "code",
   "execution_count": null,
   "id": "99035532-68a6-40c3-b5d4-d03b4b553fb2",
   "metadata": {
    "editable": true,
    "slideshow": {
     "slide_type": "skip"
    },
    "tags": []
   },
   "outputs": [],
   "source": [
    "# Download one VISP and one VBI metadata ASDF file and a co-temporal AIA image for 19:47 on 2024-04-17\n",
    "# Using sunpy.visualization.drawing.extent plot the FOV of the VBi and VISP datasets on the AIA image.\n",
    "import matplotlib.pyplot as plt\n",
    "\n",
    "import sunpy.map\n",
    "from sunpy.net import Fido, attrs as a\n",
    "from sunpy.visualization import drawing\n",
    "\n",
    "import dkist\n",
    "import dkist.net"
   ]
  },
  {
   "cell_type": "code",
   "execution_count": null,
   "id": "36f49287-2e28-4181-bec0-c6a3eab24592",
   "metadata": {
    "editable": true,
    "slideshow": {
     "slide_type": "skip"
    },
    "tags": []
   },
   "outputs": [],
   "source": [
    "res = Fido.search(a.Time(\"2024-04-17T19:47:00\", \"2024-04-17T19:48:00\"),\n",
    "                  a.Instrument.vbi | a.Instrument.visp | a.Instrument.aia)\n",
    "# Download the first result from each provider\n",
    "files = Fido.fetch(res[:,0])\n",
    "files.sort()"
   ]
  },
  {
   "cell_type": "code",
   "execution_count": null,
   "id": "f63ca264-95bb-46f0-a378-38a26c0a7515",
   "metadata": {
    "editable": true,
    "slideshow": {
     "slide_type": "skip"
    },
    "tags": []
   },
   "outputs": [],
   "source": [
    "# Unpack the filenames\n",
    "vbi_file, visp_file, aia_file = files\n",
    "\n",
    "# Load VBI and VISP datasets\n",
    "vbi, visp = dkist.load_dataset((vbi_file, visp_file))\n",
    "\n",
    "# Load the AIA data\n",
    "aia = sunpy.map.Map(aia_file)"
   ]
  },
  {
   "cell_type": "code",
   "execution_count": null,
   "id": "fc152b5f-444c-4390-adb0-0c3e635d7367",
   "metadata": {
    "editable": true,
    "slideshow": {
     "slide_type": "skip"
    },
    "tags": []
   },
   "outputs": [],
   "source": [
    "# Create an axes with the AIA data's coordinate frame\n",
    "fig = plt.figure(figsize=(8,8))\n",
    "ax = fig.add_subplot(projection=aia)\n",
    "\n",
    "# Plot the AIA data\n",
    "aia.plot(axes=ax)\n",
    "\n",
    "# Draw the extents of the VBI and VISP data\n",
    "drawing.extent(ax, vbi[0].wcs, color=\"C1\", label=\"VBI\")\n",
    "drawing.extent(ax, visp[0,:,0,:].wcs, color=\"C2\", label=\"VISP\")\n",
    "\n",
    "plt.legend()\n",
    "\n",
    "_ = ax.axis((1000, 2000, 2600, 3400))"
   ]
  }
 ],
 "metadata": {
  "kernelspec": {
   "display_name": "Python 3 (ipykernel)",
   "language": "python",
   "name": "python3"
  },
  "language_info": {
   "codemirror_mode": {
    "name": "ipython",
    "version": 3
   },
   "file_extension": ".py",
   "mimetype": "text/x-python",
   "name": "python",
   "nbconvert_exporter": "python",
   "pygments_lexer": "ipython3",
   "version": "3.13.5"
  }
 },
 "nbformat": 4,
 "nbformat_minor": 5
}

{
 "cells": [
  {
   "cell_type": "markdown",
   "id": "554f2d25-22a6-4953-a853-61a5a7200692",
   "metadata": {
    "editable": true,
    "slideshow": {
     "slide_type": "slide"
    },
    "tags": []
   },
   "source": [
    "# Excercise 1"
   ]
  },
  {
   "cell_type": "markdown",
   "id": "287602b4-4895-40f1-8596-03e2a6074a13",
   "metadata": {},
   "source": [
    "Find the dataset from this year with the highest number of frames.\n",
    "\n",
    "- What is the dataset's Product ID?\n",
    "- How many frames does the dataset have?\n",
    "- Is the dataset embargoed? If yes, when does the embargo period end?"
   ]
  },
  {
   "cell_type": "markdown",
   "id": "22dce003-06a5-4ca1-9897-da59c55db776",
   "metadata": {},
   "source": [
    "**Tips:**\n",
    "\n",
    "- You can pass `a.Provider(\"dkist\")` to `Fido.search()` to search only for data provided by DKIST\n",
    "- You can use `.keys()` or `.colnames` on a `DKISTQueryResponse` object to see all the column names"
   ]
  },
  {
   "cell_type": "code",
   "execution_count": null,
   "id": "0ec5836e-14de-4ebb-b547-d767a37c864b",
   "metadata": {
    "editable": true,
    "slideshow": {
     "slide_type": "notes"
    },
    "tags": []
   },
   "outputs": [],
   "source": [
    "from sunpy.net import attrs as a, Fido\n",
    "import dkist.net"
   ]
  },
  {
   "cell_type": "code",
   "execution_count": null,
   "id": "45fbff23-6fe7-4226-8394-269fe72835cd",
   "metadata": {
    "editable": true,
    "scrolled": true,
    "slideshow": {
     "slide_type": "skip"
    },
    "tags": []
   },
   "outputs": [],
   "source": [
    "# Search for all DKIST data this year\n",
    "res = Fido.search(a.Provider(\"dkist\"), a.Time(\"2025-01-01\", \"2026-01-01\"))\n",
    "res"
   ]
  },
  {
   "cell_type": "code",
   "execution_count": null,
   "id": "193b9f61-7c90-4b22-9703-2ad644e6182d",
   "metadata": {
    "editable": true,
    "slideshow": {
     "slide_type": "skip"
    },
    "tags": []
   },
   "outputs": [],
   "source": [
    "# Just get the DKIST results table and sort by number of frames, largest first\n",
    "res = res['dkist']\n",
    "res.sort(\"Number of Frames\", reverse=True)"
   ]
  },
  {
   "cell_type": "code",
   "execution_count": null,
   "id": "7aee7fca-abf7-4f50-a78a-094653a83a0b",
   "metadata": {
    "editable": true,
    "slideshow": {
     "slide_type": "skip"
    },
    "tags": []
   },
   "outputs": [],
   "source": [
    "# Print top result, ie dataset with largest number of frames\n",
    "res[0][\"Product ID\", \"Instrument\", \"Embargoed\", \"Number of Frames\", \"Embargo End Date\"]"
   ]
  },
  {
   "cell_type": "markdown",
   "id": "58cac6ea-9959-448d-99cf-982c1f04bc4a",
   "metadata": {
    "editable": true,
    "slideshow": {
     "slide_type": "slide"
    },
    "tags": []
   },
   "source": [
    "# Exercise 2"
   ]
  },
  {
   "cell_type": "markdown",
   "id": "b6ecf3f8-4281-4903-9595-7e165759bbd9",
   "metadata": {},
   "source": [
    "Load the sample VISP dataset. **Without actually slicing the dataset**, figure out how many files are in the following slices:\n",
    "\n",
    "- `ds[0]`\n",
    "- `ds[:, :200]`\n",
    "- `ds[:, :200, :200]`\n",
    "- `ds[:, :, :200, :200]`"
   ]
  },
  {
   "cell_type": "code",
   "execution_count": null,
   "id": "fd0e4d75-6a71-4a8a-9cdd-69b38f7d0762",
   "metadata": {
    "editable": true,
    "slideshow": {
     "slide_type": "skip"
    },
    "tags": []
   },
   "outputs": [],
   "source": [
    "from dkist import load_dataset\n",
    "from dkist.data.sample import VISP_L1_KMUPT\n",
    "\n",
    "ds = load_dataset(VISP_L1_KMUPT)"
   ]
  },
  {
   "cell_type": "code",
   "execution_count": null,
   "id": "f5da2fb2-f3e0-4fb9-b41f-45cbd9bb8713",
   "metadata": {
    "editable": true,
    "slideshow": {
     "slide_type": "skip"
    },
    "tags": []
   },
   "outputs": [],
   "source": [
    "ds.shape"
   ]
  },
  {
   "cell_type": "code",
   "execution_count": null,
   "id": "5a6263a3-fb3f-4dcc-bc3d-b185338a9ea6",
   "metadata": {
    "editable": true,
    "slideshow": {
     "slide_type": "skip"
    },
    "tags": []
   },
   "outputs": [],
   "source": [
    "ds.files"
   ]
  },
  {
   "cell_type": "code",
   "execution_count": null,
   "id": "1bc05e98-70ea-4c43-adfa-67baa521d5b8",
   "metadata": {
    "editable": true,
    "slideshow": {
     "slide_type": "skip"
    },
    "tags": []
   },
   "outputs": [],
   "source": [
    "ds[0].files"
   ]
  },
  {
   "cell_type": "code",
   "execution_count": null,
   "id": "c668c909-8283-4577-b175-3fd786cf5624",
   "metadata": {
    "editable": true,
    "slideshow": {
     "slide_type": "skip"
    },
    "tags": []
   },
   "outputs": [],
   "source": [
    "ds[:, :200].files"
   ]
  },
  {
   "cell_type": "code",
   "execution_count": null,
   "id": "e1ea968d-edd6-43eb-82be-83d59d0b8e34",
   "metadata": {
    "editable": true,
    "slideshow": {
     "slide_type": "skip"
    },
    "tags": []
   },
   "outputs": [],
   "source": [
    "ds[:, :200, :200].files"
   ]
  },
  {
   "cell_type": "code",
   "execution_count": null,
   "id": "1fd62b3a-b046-4475-9f7f-4ce4b9b8735d",
   "metadata": {
    "editable": true,
    "slideshow": {
     "slide_type": "skip"
    },
    "tags": []
   },
   "outputs": [],
   "source": [
    "ds[:, :, :200, :200].files"
   ]
  },
  {
   "cell_type": "markdown",
   "id": "93dbe431-b056-43fe-ac72-7f73c6f969d9",
   "metadata": {
    "editable": true,
    "slideshow": {
     "slide_type": "slide"
    },
    "tags": []
   },
   "source": [
    "# Exercise 3"
   ]
  },
  {
   "cell_type": "markdown",
   "id": "8e75691f-176b-4b95-bb23-ad5c6e422119",
   "metadata": {
    "editable": true,
    "slideshow": {
     "slide_type": ""
    },
    "tags": []
   },
   "source": [
    "Open the VBI sample dataset again. Choose two adjacent tiles and calculate the overlap between them in arcseconds."
   ]
  },
  {
   "cell_type": "code",
   "execution_count": null,
   "id": "b2af55c8-4d08-49f2-8207-724afc358f37",
   "metadata": {
    "editable": true,
    "slideshow": {
     "slide_type": "skip"
    },
    "tags": []
   },
   "outputs": [],
   "source": [
    "from dkist.data.sample import VBI_L1_NZJTB\n",
    "from dkist import load_dataset\n",
    "import astropy.units as u\n",
    "\n",
    "ds = load_dataset(VBI_L1_NZJTB)"
   ]
  },
  {
   "cell_type": "code",
   "execution_count": null,
   "id": "8ac6bd83-e13f-4e93-a667-2a6f7471cd42",
   "metadata": {
    "editable": true,
    "slideshow": {
     "slide_type": "skip"
    },
    "tags": []
   },
   "outputs": [],
   "source": [
    "# We only need the first image of each tile\n",
    "first_tiles = ds.slice_tiles[0]"
   ]
  },
  {
   "cell_type": "code",
   "execution_count": null,
   "id": "9950a1a7-b40d-4805-9d3a-e2233e7b106b",
   "metadata": {
    "editable": true,
    "slideshow": {
     "slide_type": "skip"
    },
    "tags": []
   },
   "outputs": [],
   "source": [
    "# The bottom left tile is 0,0, get the corner pixel on the right side\n",
    "tile1_bottom_right_pix = first_tiles[0,0].wcs.array_index_to_world(0, 4096)\n",
    "tile1_bottom_right_pix"
   ]
  },
  {
   "cell_type": "code",
   "execution_count": null,
   "id": "c8799085-da6c-47c3-b072-268d5964ad06",
   "metadata": {
    "editable": true,
    "slideshow": {
     "slide_type": "skip"
    },
    "tags": []
   },
   "outputs": [],
   "source": [
    "# The bottom middle tile is 1,0, get the corner pixel on the left side\n",
    "tile2_bottom_left_pix = first_tiles[1,0].wcs.array_index_to_world(0, 0)\n",
    "tile2_bottom_left_pix"
   ]
  },
  {
   "cell_type": "code",
   "execution_count": null,
   "id": "ff22e418-39eb-438a-b738-89e773dc0659",
   "metadata": {
    "editable": true,
    "slideshow": {
     "slide_type": "skip"
    },
    "tags": []
   },
   "outputs": [],
   "source": [
    "(tile1_bottom_right_pix.separation(tile2_bottom_left_pix).to(u.arcsec),\n",
    "\n",
    "tile1_bottom_right_pix.Tx - tile2_bottom_left_pix.Tx,\n",
    "\n",
    "tile1_bottom_right_pix.Ty - tile2_bottom_left_pix.Ty)"
   ]
  },
  {
   "cell_type": "markdown",
   "id": "0323ce1e-9a4b-4707-9591-cd2271d4b62e",
   "metadata": {
    "editable": true,
    "slideshow": {
     "slide_type": "slide"
    },
    "tags": []
   },
   "source": [
    "# Exercise 4"
   ]
  },
  {
   "cell_type": "markdown",
   "id": "9e4d5313-97a3-46b0-8ead-6772c3bb4ac2",
   "metadata": {
    "editable": true,
    "slideshow": {
     "slide_type": ""
    },
    "tags": []
   },
   "source": [
    "Using Fido, find the co-temporal VISP dataset, VBI dataset and AIA image from 19:47 on 2024/04/17. Use `sunpy.visualization.drawing.extent` to plot the FOV of the VBI and VISP datasets onto the AIA image."
   ]
  },
  {
   "cell_type": "code",
   "execution_count": null,
   "id": "99035532-68a6-40c3-b5d4-d03b4b553fb2",
   "metadata": {
    "editable": true,
    "slideshow": {
     "slide_type": "skip"
    },
    "tags": []
   },
   "outputs": [],
   "source": [
    "# Download one VISP and one VBI metadata ASDF file and a co-temporal AIA image for 19:47 on 2024-04-17\n",
    "# Using sunpy.visualization.drawing.extent plot the FOV of the VBi and VISP datasets on the AIA image.\n",
    "import matplotlib.pyplot as plt\n",
    "\n",
    "import sunpy.map\n",
    "from sunpy.net import Fido, attrs as a\n",
    "from sunpy.visualization import drawing\n",
    "\n",
    "import dkist\n",
    "import dkist.net"
   ]
  },
  {
   "cell_type": "code",
   "execution_count": null,
   "id": "36f49287-2e28-4181-bec0-c6a3eab24592",
   "metadata": {
    "editable": true,
    "slideshow": {
     "slide_type": "skip"
    },
    "tags": []
   },
   "outputs": [],
   "source": [
    "res = Fido.search(a.Time(\"2024-04-17T19:47:00\", \"2024-04-17T19:48:00\"),\n",
    "                  a.Instrument.vbi | a.Instrument.visp | a.Instrument.aia)\n",
    "# Download the first result from each provider\n",
    "files = Fido.fetch(res[:,0])\n",
    "files.sort()"
   ]
  },
  {
   "cell_type": "code",
   "execution_count": null,
   "id": "f63ca264-95bb-46f0-a378-38a26c0a7515",
   "metadata": {
    "editable": true,
    "slideshow": {
     "slide_type": "skip"
    },
    "tags": []
   },
   "outputs": [],
   "source": [
    "# Unpack the filenames\n",
    "vbi_file, visp_file, aia_file = files\n",
    "\n",
    "# Load VBI and VISP datasets\n",
    "vbi, visp = dkist.load_dataset((vbi_file, visp_file))\n",
    "\n",
    "# Load the AIA data\n",
    "aia = sunpy.map.Map(aia_file)"
   ]
  },
  {
   "cell_type": "code",
   "execution_count": null,
   "id": "fc152b5f-444c-4390-adb0-0c3e635d7367",
   "metadata": {
    "editable": true,
    "slideshow": {
     "slide_type": "skip"
    },
    "tags": []
   },
   "outputs": [],
   "source": [
    "# Create an axes with the AIA data's coordinate frame\n",
    "fig = plt.figure(figsize=(8,8))\n",
    "ax = fig.add_subplot(projection=aia)\n",
    "\n",
    "# Plot the AIA data\n",
    "aia.plot(axes=ax)\n",
    "\n",
    "# Draw the extents of the VBI and VISP data\n",
    "drawing.extent(ax, vbi[0].wcs, color=\"C1\", label=\"VBI\")\n",
    "drawing.extent(ax, visp[0,:,0,:].wcs, color=\"C2\", label=\"VISP\")\n",
    "\n",
    "plt.legend()\n",
    "\n",
    "_ = ax.axis((1000, 2000, 2600, 3400))"
   ]
  }
 ],
 "metadata": {
  "kernelspec": {
   "display_name": "Python 3 (ipykernel)",
   "language": "python",
   "name": "python3"
  },
  "language_info": {
   "codemirror_mode": {
    "name": "ipython",
    "version": 3
   },
   "file_extension": ".py",
   "mimetype": "text/x-python",
   "name": "python",
   "nbconvert_exporter": "python",
   "pygments_lexer": "ipython3",
   "version": "3.13.5"
  }
 },
 "nbformat": 4,
 "nbformat_minor": 5
}
